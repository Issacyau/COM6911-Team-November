{
 "cells": [
  {
   "cell_type": "code",
   "execution_count": 1,
   "metadata": {
    "ExecuteTime": {
     "end_time": "2021-03-23T18:01:54.202232Z",
     "start_time": "2021-03-23T18:01:52.466237Z"
    }
   },
   "outputs": [],
   "source": [
    "%matplotlib inline\n",
    "import matplotlib.pyplot as plt\n",
    "import numpy as np\n",
    "import torch\n",
    "import torch.nn as nn\n",
    "import torch.nn.functional as F\n",
    "import torch.optim as optim\n",
    "import torchvision\n",
    "from torchvision import datasets, transforms\n",
    "from torch.utils.data import TensorDataset, DataLoader\n",
    "from sklearn import metrics\n",
    "import seaborn as sns"
   ]
  },
  {
   "cell_type": "code",
   "execution_count": 2,
   "metadata": {
    "ExecuteTime": {
     "end_time": "2021-03-23T18:01:54.246115Z",
     "start_time": "2021-03-23T18:01:54.203229Z"
    }
   },
   "outputs": [],
   "source": [
    "# Set random seed for numpy\n",
    "np.random.seed(11)\n",
    "# Set random seed for pytorch\n",
    "torch.manual_seed(11)\n",
    "# Set random seed for pytorch running in GPU\n",
    "if torch.cuda.is_available():\n",
    "    torch.cuda.manual_seed_all(11)"
   ]
  },
  {
   "cell_type": "code",
   "execution_count": 3,
   "metadata": {
    "ExecuteTime": {
     "end_time": "2021-03-23T18:01:54.253096Z",
     "start_time": "2021-03-23T18:01:54.248111Z"
    }
   },
   "outputs": [],
   "source": [
    "# Choose batch size\n",
    "batch_size = 16"
   ]
  },
  {
   "cell_type": "code",
   "execution_count": 4,
   "metadata": {
    "ExecuteTime": {
     "end_time": "2021-03-23T18:01:54.281022Z",
     "start_time": "2021-03-23T18:01:54.255091Z"
    }
   },
   "outputs": [],
   "source": [
    "# Load processed data\n",
    "UTD_train_features = np.load('./train_UTD_AI.npy', allow_pickle=True)\n",
    "UTD_train_labels = np.load('./train_UTD_labels.npy', allow_pickle=True)\n",
    "UTD_test_features = np.load('./test_UTD_AI.npy', allow_pickle=True)\n",
    "UTD_test_labels = np.load('./test_UTD_labels.npy', allow_pickle=True)\n",
    "\n",
    "# Subtract 1 for every label for correct training, i.e., [1,2,3,4,5,6] to [0,1,2,3,4,5]\n",
    "UTD_train_labels = UTD_train_labels.astype(int) - 1\n",
    "UTD_test_labels = UTD_test_labels.astype(int) - 1"
   ]
  },
  {
   "cell_type": "code",
   "execution_count": 5,
   "metadata": {
    "ExecuteTime": {
     "end_time": "2021-03-23T18:01:54.292991Z",
     "start_time": "2021-03-23T18:01:54.282020Z"
    }
   },
   "outputs": [],
   "source": [
    "# Transform to torch tensor\n",
    "tensor_UTD_train_features = torch.Tensor(UTD_train_features) \n",
    "tensor_UTD_train_labels = torch.Tensor(UTD_train_labels)\n",
    "tensor_UTD_test_features = torch.Tensor(UTD_test_features) \n",
    "tensor_UTD_test_labels = torch.Tensor(UTD_test_labels)\n",
    "# Add one dimension of channel\n",
    "tensor_UTD_train_features = torch.unsqueeze(tensor_UTD_train_features, 1)\n",
    "tensor_UTD_test_features = torch.unsqueeze(tensor_UTD_test_features, 1)\n",
    "# Create datset\n",
    "train_dataset_UTD = TensorDataset(tensor_UTD_train_features,tensor_UTD_train_labels)\n",
    "test_dataset_UTD = TensorDataset(tensor_UTD_test_features,tensor_UTD_test_labels)"
   ]
  },
  {
   "cell_type": "code",
   "execution_count": 6,
   "metadata": {
    "ExecuteTime": {
     "end_time": "2021-03-23T18:01:54.311939Z",
     "start_time": "2021-03-23T18:01:54.294985Z"
    }
   },
   "outputs": [],
   "source": [
    "train_loader = torch.utils.data.DataLoader(dataset=train_dataset_UTD, batch_size=batch_size, shuffle=True)\n",
    "test_loader = torch.utils.data.DataLoader(dataset=test_dataset_UTD, batch_size=batch_size, shuffle=False)"
   ]
  },
  {
   "cell_type": "code",
   "execution_count": 7,
   "metadata": {
    "ExecuteTime": {
     "end_time": "2021-03-23T18:01:54.325908Z",
     "start_time": "2021-03-23T18:01:54.313934Z"
    }
   },
   "outputs": [],
   "source": [
    "classes = ('Activity1', 'Activity2', 'Activity3', 'Activity4', 'Activity5', 'Activity6', 'Activity7', \n",
    "          'Activity8', 'Activity9', 'Activity10', 'Activity11', 'Activity12', 'Activity13', 'Activity14',\n",
    "          'Activity15', 'Activity16', 'Activity17', 'Activity18', 'Activity19', 'Activity20', 'Activity21')"
   ]
  },
  {
   "cell_type": "code",
   "execution_count": 8,
   "metadata": {
    "ExecuteTime": {
     "end_time": "2021-03-23T18:01:54.348840Z",
     "start_time": "2021-03-23T18:01:54.328893Z"
    }
   },
   "outputs": [
    {
     "name": "stdout",
     "output_type": "stream",
     "text": [
      "519\n",
      "130\n"
     ]
    }
   ],
   "source": [
    "print(len(train_loader.dataset))\n",
    "print(len(test_loader.dataset))"
   ]
  },
  {
   "cell_type": "code",
   "execution_count": 9,
   "metadata": {
    "ExecuteTime": {
     "end_time": "2021-03-23T18:01:54.371779Z",
     "start_time": "2021-03-23T18:01:54.350835Z"
    },
    "scrolled": false
   },
   "outputs": [
    {
     "name": "stdout",
     "output_type": "stream",
     "text": [
      "torch.Size([16, 1, 18, 128])\n",
      "tensor([ 5., 10.,  1., 17., 20., 19.,  4., 18., 12., 12.,  3., 19.,  1.,  5.,\n",
      "         7., 15.])\n"
     ]
    }
   ],
   "source": [
    "for i, (images, labels) in enumerate(train_loader):\n",
    "    print(images.shape)\n",
    "    print(labels)\n",
    "    break"
   ]
  },
  {
   "cell_type": "markdown",
   "metadata": {},
   "source": [
    "The CNN architecture is: 16C5$\\times$5-S2$\\times$2-32C5$\\times$5"
   ]
  },
  {
   "cell_type": "code",
   "execution_count": 10,
   "metadata": {
    "ExecuteTime": {
     "end_time": "2021-03-23T18:01:54.389731Z",
     "start_time": "2021-03-23T18:01:54.373774Z"
    }
   },
   "outputs": [],
   "source": [
    "# Layers parameters:\n",
    "original_image_length = 18\n",
    "original_image_width = 128\n",
    "max_pool1_kernel_size = 2\n",
    "final_image_length = int(original_image_length / max_pool1_kernel_size)\n",
    "final_image_width = int(original_image_width / max_pool1_kernel_size)\n",
    "channels_L1 = 16\n",
    "channels_L2 = 32\n",
    "nodes_FC1 = 1000\n",
    "nodes_FC2 = 21 # The number should equal to the number of label types !!!\n",
    "\n",
    "class ConvNet(nn.Module):\n",
    "    def __init__(self):\n",
    "        super(ConvNet, self).__init__()\n",
    "        self.layer1 = nn.Sequential(\n",
    "            nn.Conv2d(1, channels_L1, kernel_size=5, stride=1, padding=2),\n",
    "            nn.ReLU(),\n",
    "            nn.MaxPool2d(kernel_size = max_pool1_kernel_size, stride = 2))\n",
    "        self.layer2 = nn.Sequential(\n",
    "            nn.Conv2d(channels_L1, channels_L2, kernel_size=5, stride=1, padding=2),\n",
    "            nn.ReLU())\n",
    "        self.drop_out = nn.Dropout()\n",
    "        self.fc1 = nn.Linear(final_image_length * final_image_width * channels_L2, nodes_FC1)\n",
    "        self.fc2 = nn.Linear(nodes_FC1, nodes_FC2)\n",
    "    \n",
    "    def forward(self, x):\n",
    "        out = self.layer1(x)\n",
    "        out = self.layer2(out)\n",
    "        out = out.reshape(out.size(0), -1)\n",
    "        out = self.drop_out(out)\n",
    "        out = self.fc1(out)\n",
    "        out = self.fc2(out)\n",
    "        return out"
   ]
  },
  {
   "cell_type": "code",
   "execution_count": 11,
   "metadata": {
    "ExecuteTime": {
     "end_time": "2021-03-23T18:01:56.176449Z",
     "start_time": "2021-03-23T18:01:54.392727Z"
    }
   },
   "outputs": [],
   "source": [
    "# Choose CPU or GPU\n",
    "# model = ConvNet() #CPU\n",
    "device = torch.device(\"cuda:0\" if torch.cuda.is_available() else \"cpu\")\n",
    "model = ConvNet().to(device) #GPU\n",
    "\n",
    "# Hyperparameter\n",
    "num_epochs = 30\n",
    "learning_rate = 0.000007\n",
    "weight_decay = 0.001\n",
    "# Loss and optimizer\n",
    "criterion = nn.CrossEntropyLoss()\n",
    "optimizer = optim.Adam(model.parameters(), lr=learning_rate, weight_decay=weight_decay) #Adding Weight Decay here is equivalent to adding L2 regularization"
   ]
  },
  {
   "cell_type": "code",
   "execution_count": 12,
   "metadata": {
    "ExecuteTime": {
     "end_time": "2021-03-23T18:02:15.620232Z",
     "start_time": "2021-03-23T18:01:56.177447Z"
    },
    "scrolled": true
   },
   "outputs": [
    {
     "name": "stdout",
     "output_type": "stream",
     "text": [
      "Epoch [1/30], Step [30/33], Loss: 448.3601, Accuracy: 12.50%\n",
      "Epoch [2/30], Step [30/33], Loss: 239.2904, Accuracy: 25.00%\n",
      "Epoch [3/30], Step [30/33], Loss: 360.0419, Accuracy: 37.50%\n",
      "Epoch [4/30], Step [30/33], Loss: 239.0643, Accuracy: 18.75%\n",
      "Epoch [5/30], Step [30/33], Loss: 229.5628, Accuracy: 31.25%\n",
      "Epoch [6/30], Step [30/33], Loss: 257.4138, Accuracy: 37.50%\n",
      "Epoch [7/30], Step [30/33], Loss: 159.4323, Accuracy: 43.75%\n",
      "Epoch [8/30], Step [30/33], Loss: 164.1447, Accuracy: 56.25%\n",
      "Epoch [9/30], Step [30/33], Loss: 87.4481, Accuracy: 56.25%\n",
      "Epoch [10/30], Step [30/33], Loss: 37.2059, Accuracy: 56.25%\n",
      "Epoch [11/30], Step [30/33], Loss: 129.4734, Accuracy: 43.75%\n",
      "Epoch [12/30], Step [30/33], Loss: 151.2747, Accuracy: 25.00%\n",
      "Epoch [13/30], Step [30/33], Loss: 102.9863, Accuracy: 68.75%\n",
      "Epoch [14/30], Step [30/33], Loss: 82.3819, Accuracy: 56.25%\n",
      "Epoch [15/30], Step [30/33], Loss: 53.4052, Accuracy: 75.00%\n",
      "Epoch [16/30], Step [30/33], Loss: 54.8981, Accuracy: 68.75%\n",
      "Epoch [17/30], Step [30/33], Loss: 56.8712, Accuracy: 62.50%\n",
      "Epoch [18/30], Step [30/33], Loss: 23.9138, Accuracy: 81.25%\n",
      "Epoch [19/30], Step [30/33], Loss: 29.9219, Accuracy: 75.00%\n",
      "Epoch [20/30], Step [30/33], Loss: 20.6017, Accuracy: 81.25%\n",
      "Epoch [21/30], Step [30/33], Loss: 52.6792, Accuracy: 81.25%\n",
      "Epoch [22/30], Step [30/33], Loss: 3.4149, Accuracy: 87.50%\n",
      "Epoch [23/30], Step [30/33], Loss: 7.4323, Accuracy: 93.75%\n",
      "Epoch [24/30], Step [30/33], Loss: 66.5509, Accuracy: 68.75%\n",
      "Epoch [25/30], Step [30/33], Loss: 4.9523, Accuracy: 93.75%\n",
      "Epoch [26/30], Step [30/33], Loss: 30.5846, Accuracy: 68.75%\n",
      "Epoch [27/30], Step [30/33], Loss: 19.6505, Accuracy: 81.25%\n",
      "Epoch [28/30], Step [30/33], Loss: 6.5956, Accuracy: 93.75%\n",
      "Epoch [29/30], Step [30/33], Loss: 9.5839, Accuracy: 93.75%\n",
      "Epoch [30/30], Step [30/33], Loss: 4.2785, Accuracy: 93.75%\n"
     ]
    }
   ],
   "source": [
    "# Train the model on GPU\n",
    "total_step = len(train_loader)\n",
    "loss_list = []\n",
    "acc_list = []\n",
    "model.train()\n",
    "for epoch in range(num_epochs):\n",
    "    for i, (images, labels) in enumerate(train_loader):\n",
    "        # Run the forward pass\n",
    "        outputs = model(images.to(device))\n",
    "        loss = criterion(outputs, labels.to(device).long())\n",
    "        loss_list.append(loss.item())\n",
    "\n",
    "        # Backprop and perform Adam optimisation\n",
    "        optimizer.zero_grad()\n",
    "        loss.backward()\n",
    "        optimizer.step()\n",
    "\n",
    "        # Track the accuracy\n",
    "        total = labels.size(0)\n",
    "        _, predicted = torch.max(outputs.data, 1)\n",
    "        correct = (predicted == labels.to(device).long()).sum().item()\n",
    "        acc_list.append(correct / total)\n",
    "\n",
    "        if (i + 1) % 30 == 0:\n",
    "            print('Epoch [{}/{}], Step [{}/{}], Loss: {:.4f}, Accuracy: {:.2f}%'\n",
    "                  .format(epoch + 1, num_epochs, i + 1, total_step, loss.item(),\n",
    "                          (correct / total) * 100))"
   ]
  },
  {
   "cell_type": "code",
   "execution_count": 13,
   "metadata": {
    "ExecuteTime": {
     "end_time": "2021-03-23T18:02:16.689969Z",
     "start_time": "2021-03-23T18:02:15.621191Z"
    }
   },
   "outputs": [
    {
     "name": "stdout",
     "output_type": "stream",
     "text": [
      "Test Accuracy of the model on the UTD test images: 86.15384615384616 %\n"
     ]
    },
    {
     "data": {
      "image/png": "[encoded data removed]",
      "text/plain": [
       "<Figure size 792x792 with 1 Axes>"
      ]
     },
     "metadata": {
      "needs_background": "light"
     },
     "output_type": "display_data"
    }
   ],
   "source": [
    "# Test the model on GPU\n",
    "model.eval()\n",
    "all_labels = []\n",
    "all_predictions = []\n",
    "with torch.no_grad():\n",
    "    correct = 0\n",
    "    total = 0\n",
    "    for images, labels in test_loader:\n",
    "        outputs = model(images.to(device))\n",
    "        _, predicted = torch.max(outputs.data, 1)\n",
    "        all_predictions.append(predicted)\n",
    "        all_labels.append(labels)\n",
    "        total += labels.size(0)\n",
    "        correct += (predicted == labels.to(device)).sum().item()\n",
    "\n",
    "    print('Test Accuracy of the model on the UTD test images: {} %'.format((correct / total) * 100))\n",
    "\n",
    "mat = metrics.confusion_matrix(torch.cat(all_predictions).cpu(), torch.cat(all_labels).cpu())\n",
    "plt.figure(figsize=(11,11))\n",
    "sns.heatmap(mat.T, square=True, annot=True, fmt='d', cbar=False,\n",
    "           xticklabels=classes, yticklabels=classes)\n",
    "plt.xlabel('true label')\n",
    "plt.ylabel('predicted label');"
   ]
  },
  {
   "cell_type": "code",
   "execution_count": null,
   "metadata": {},
   "outputs": [],
   "source": []
  },
  {
   "cell_type": "code",
   "execution_count": null,
   "metadata": {},
   "outputs": [],
   "source": []
  },
  {
   "cell_type": "code",
   "execution_count": null,
   "metadata": {},
   "outputs": [],
   "source": []
  },
  {
   "cell_type": "code",
   "execution_count": null,
   "metadata": {},
   "outputs": [],
   "source": []
  },
  {
   "cell_type": "code",
   "execution_count": null,
   "metadata": {},
   "outputs": [],
   "source": []
  }
 ],
 "metadata": {
  "kernelspec": {
   "display_name": "Python 3",
   "language": "python",
   "name": "python3"
  },
  "language_info": {
   "codemirror_mode": {
    "name": "ipython",
    "version": 3
   },
   "file_extension": ".py",
   "mimetype": "text/x-python",
   "name": "python",
   "nbconvert_exporter": "python",
   "pygments_lexer": "ipython3",
   "version": "3.8.3"
  }
 },
 "nbformat": 4,
 "nbformat_minor": 4
}
