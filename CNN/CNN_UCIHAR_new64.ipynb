{
 "cells": [
  {
   "cell_type": "code",
   "execution_count": 1,
   "metadata": {
    "ExecuteTime": {
     "end_time": "2021-04-28T10:41:57.968715Z",
     "start_time": "2021-04-28T10:41:55.894274Z"
    }
   },
   "outputs": [],
   "source": [
    "%matplotlib inline\n",
    "import matplotlib.pyplot as plt\n",
    "import numpy as np\n",
    "import torch\n",
    "import torch.nn as nn\n",
    "import torch.nn.functional as F\n",
    "import torch.optim as optim\n",
    "import torchvision\n",
    "from torchvision import datasets, transforms\n",
    "from torch.utils.data import TensorDataset, DataLoader\n",
    "from sklearn import metrics\n",
    "import seaborn as sns\n",
    "from itertools import chain"
   ]
  },
  {
   "cell_type": "code",
   "execution_count": 2,
   "metadata": {
    "ExecuteTime": {
     "end_time": "2021-04-28T10:41:58.015591Z",
     "start_time": "2021-04-28T10:41:57.969713Z"
    }
   },
   "outputs": [],
   "source": [
    "# Set random seed for numpy\n",
    "np.random.seed(11)\n",
    "# Set random seed for pytorch\n",
    "torch.manual_seed(11)\n",
    "# Set random seed for pytorch running in GPU\n",
    "if torch.cuda.is_available():\n",
    "    torch.cuda.manual_seed_all(11)"
   ]
  },
  {
   "cell_type": "code",
   "execution_count": 3,
   "metadata": {
    "ExecuteTime": {
     "end_time": "2021-04-28T10:41:58.019592Z",
     "start_time": "2021-04-28T10:41:58.016588Z"
    }
   },
   "outputs": [],
   "source": [
    "# Choose batch size\n",
    "batch_size = 32"
   ]
  },
  {
   "cell_type": "code",
   "execution_count": 4,
   "metadata": {
    "ExecuteTime": {
     "end_time": "2021-04-28T10:41:58.297835Z",
     "start_time": "2021-04-28T10:41:58.021577Z"
    }
   },
   "outputs": [],
   "source": [
    "# Load processed data\n",
    "UCI_train_features = np.load('./UCI_train_features.npy', allow_pickle=True) # 128 window size\n",
    "UCI_train_labels = np.load('./UCI_train_labels.npy', allow_pickle=True)\n",
    "UCI_test_features = np.load('./UCI_test_features.npy', allow_pickle=True)\n",
    "UCI_test_labels = np.load('./UCI_test_labels.npy', allow_pickle=True)\n",
    "\n",
    "# Subtract 1 for every label for correct training, i.e., [1,2,3,4,5,6] to [0,1,2,3,4,5]\n",
    "UCI_train_labels = UCI_train_labels.astype(int) - 1\n",
    "UCI_test_labels = UCI_test_labels.astype(int) - 1"
   ]
  },
  {
   "cell_type": "code",
   "execution_count": 5,
   "metadata": {
    "ExecuteTime": {
     "end_time": "2021-04-28T10:41:58.304817Z",
     "start_time": "2021-04-28T10:41:58.298833Z"
    }
   },
   "outputs": [],
   "source": [
    "def hsplit_features(temp_copy):\n",
    "    temp_64 = []\n",
    "    for i in range(len(temp_copy)):\n",
    "        temp_sep = np.hsplit(temp_copy[i], 2)\n",
    "        for j in range(len(temp_sep)):\n",
    "            temp_64.append(temp_sep[j])\n",
    "    return np.array(temp_64)\n",
    "\n",
    "def reshape_labels(a):\n",
    "    return np.array(list(chain.from_iterable(zip(a, a))))"
   ]
  },
  {
   "cell_type": "code",
   "execution_count": 6,
   "metadata": {
    "ExecuteTime": {
     "end_time": "2021-04-28T10:41:58.689206Z",
     "start_time": "2021-04-28T10:41:58.307812Z"
    }
   },
   "outputs": [],
   "source": [
    "UCI_train_features_64 = hsplit_features(UCI_train_features)\n",
    "UCI_train_labels_64 = reshape_labels(UCI_train_labels)\n",
    "UCI_test_features_64 = hsplit_features(UCI_test_features)\n",
    "UCI_test_labels_64 = reshape_labels(UCI_test_labels)"
   ]
  },
  {
   "cell_type": "code",
   "execution_count": 7,
   "metadata": {
    "ExecuteTime": {
     "end_time": "2021-04-28T10:41:58.809407Z",
     "start_time": "2021-04-28T10:41:58.692200Z"
    }
   },
   "outputs": [],
   "source": [
    "# Transform to torch tensor\n",
    "tensor_UCI_train_features = torch.Tensor(UCI_train_features_64) \n",
    "tensor_UCI_train_labels = torch.Tensor(UCI_train_labels_64)\n",
    "tensor_UCI_test_features = torch.Tensor(UCI_test_features_64) \n",
    "tensor_UCI_test_labels = torch.Tensor(UCI_test_labels_64)\n",
    "# Add one dimension of channel\n",
    "tensor_UCI_train_features = torch.unsqueeze(tensor_UCI_train_features, 1)\n",
    "tensor_UCI_test_features = torch.unsqueeze(tensor_UCI_test_features, 1)\n",
    "# Create datset\n",
    "train_dataset_UCI = TensorDataset(tensor_UCI_train_features,tensor_UCI_train_labels)\n",
    "test_dataset_UCI = TensorDataset(tensor_UCI_test_features,tensor_UCI_test_labels)"
   ]
  },
  {
   "cell_type": "code",
   "execution_count": 8,
   "metadata": {
    "ExecuteTime": {
     "end_time": "2021-04-28T10:41:58.816388Z",
     "start_time": "2021-04-28T10:41:58.811401Z"
    }
   },
   "outputs": [],
   "source": [
    "train_loader = torch.utils.data.DataLoader(dataset=train_dataset_UCI, batch_size=batch_size, shuffle=True)\n",
    "test_loader = torch.utils.data.DataLoader(dataset=test_dataset_UCI, batch_size=batch_size, shuffle=False)"
   ]
  },
  {
   "cell_type": "code",
   "execution_count": 9,
   "metadata": {
    "ExecuteTime": {
     "end_time": "2021-04-28T10:41:58.831347Z",
     "start_time": "2021-04-28T10:41:58.818382Z"
    }
   },
   "outputs": [],
   "source": [
    "classes = ('WALKING', 'WALKING_UPSTAIRS', 'WALKING_DOWNSTAIRS', 'SITTING', 'STANDING', 'LAYING')"
   ]
  },
  {
   "cell_type": "code",
   "execution_count": 10,
   "metadata": {
    "ExecuteTime": {
     "end_time": "2021-04-28T10:41:59.038806Z",
     "start_time": "2021-04-28T10:41:59.030814Z"
    }
   },
   "outputs": [
    {
     "name": "stdout",
     "output_type": "stream",
     "text": [
      "14704\n",
      "5894\n"
     ]
    }
   ],
   "source": [
    "print(len(train_loader.dataset))\n",
    "print(len(test_loader.dataset))"
   ]
  },
  {
   "cell_type": "code",
   "execution_count": 11,
   "metadata": {
    "ExecuteTime": {
     "end_time": "2021-04-28T10:41:59.641755Z",
     "start_time": "2021-04-28T10:41:59.630783Z"
    },
    "scrolled": false
   },
   "outputs": [
    {
     "name": "stdout",
     "output_type": "stream",
     "text": [
      "torch.Size([32, 1, 36, 64])\n",
      "tensor([0., 1., 3., 5., 0., 5., 0., 1., 3., 0., 4., 3., 3., 1., 1., 0., 5., 5.,\n",
      "        5., 0., 4., 3., 4., 1., 5., 4., 4., 0., 5., 2., 5., 5.])\n"
     ]
    }
   ],
   "source": [
    "for i, (images, labels) in enumerate(train_loader):\n",
    "    print(images.shape)\n",
    "    print(labels)\n",
    "    break"
   ]
  },
  {
   "cell_type": "markdown",
   "metadata": {},
   "source": [
    "The CNN architecture is: 16C5$\\times$5-S2$\\times$2-32C5$\\times$5"
   ]
  },
  {
   "cell_type": "code",
   "execution_count": 23,
   "metadata": {
    "ExecuteTime": {
     "end_time": "2021-04-28T10:46:39.903167Z",
     "start_time": "2021-04-28T10:46:39.895156Z"
    }
   },
   "outputs": [],
   "source": [
    "# Layers parameters:\n",
    "original_image_length = 36\n",
    "original_image_width = 64\n",
    "max_pool1_kernel_size = 2\n",
    "final_image_length = int(original_image_length / max_pool1_kernel_size)\n",
    "final_image_width = int(original_image_width / max_pool1_kernel_size)\n",
    "channels_L1 = 16\n",
    "channels_L2 = 32\n",
    "nodes_FC1 = 1000\n",
    "nodes_FC2 = 6\n",
    "\n",
    "class ConvNet(nn.Module):\n",
    "    def __init__(self):\n",
    "        super(ConvNet, self).__init__()\n",
    "        self.layer1 = nn.Sequential(\n",
    "            nn.Conv2d(1, channels_L1, kernel_size=3, stride=1, padding=1),\n",
    "            nn.ReLU(),\n",
    "            nn.MaxPool2d(kernel_size = max_pool1_kernel_size, stride = 2))\n",
    "        self.layer2 = nn.Sequential(\n",
    "            nn.Conv2d(channels_L1, channels_L2, kernel_size=3, stride=1, padding=1),\n",
    "            nn.ReLU())\n",
    "        self.drop_out = nn.Dropout()\n",
    "        self.fc1 = nn.Linear(final_image_length * final_image_width * channels_L2, nodes_FC1)\n",
    "        self.fc2 = nn.Linear(nodes_FC1, nodes_FC2)\n",
    "    \n",
    "    def forward(self, x):\n",
    "        out = self.layer1(x)\n",
    "        out = self.layer2(out)\n",
    "        out = out.reshape(out.size(0), -1)\n",
    "        out = self.drop_out(out)\n",
    "        out = self.fc1(out)\n",
    "        out = self.fc2(out)\n",
    "        return out"
   ]
  },
  {
   "cell_type": "code",
   "execution_count": 24,
   "metadata": {
    "ExecuteTime": {
     "end_time": "2021-04-28T10:46:40.283209Z",
     "start_time": "2021-04-28T10:46:40.152535Z"
    }
   },
   "outputs": [],
   "source": [
    "# Choose CPU or GPU\n",
    "# model = ConvNet() #CPU\n",
    "device = torch.device(\"cuda:0\" if torch.cuda.is_available() else \"cpu\")\n",
    "model = ConvNet().to(device) #GPU\n",
    "\n",
    "# Hyperparameter\n",
    "num_epochs = 10\n",
    "learning_rate = 0.000006\n",
    "weight_decay = 0.0001\n",
    "# Loss and optimizer\n",
    "criterion = nn.CrossEntropyLoss()\n",
    "optimizer = optim.Adam(model.parameters(), lr=learning_rate, weight_decay=weight_decay) #Adding Weight Decay here is equivalent to adding L2 regularization"
   ]
  },
  {
   "cell_type": "code",
   "execution_count": 25,
   "metadata": {
    "ExecuteTime": {
     "end_time": "2021-04-28T10:48:07.872721Z",
     "start_time": "2021-04-28T10:46:40.397222Z"
    },
    "scrolled": true
   },
   "outputs": [
    {
     "name": "stdout",
     "output_type": "stream",
     "text": [
      "Epoch [1/10], Step [100/460], Loss: 0.9272, Accuracy: 53.12%\n",
      "Epoch [1/10], Step [200/460], Loss: 0.6941, Accuracy: 90.62%\n",
      "Epoch [1/10], Step [300/460], Loss: 0.5825, Accuracy: 71.88%\n",
      "Epoch [1/10], Step [400/460], Loss: 0.8281, Accuracy: 75.00%\n",
      "Epoch [2/10], Step [100/460], Loss: 0.4513, Accuracy: 78.12%\n",
      "Epoch [2/10], Step [200/460], Loss: 0.3272, Accuracy: 84.38%\n",
      "Epoch [2/10], Step [300/460], Loss: 0.3767, Accuracy: 87.50%\n",
      "Epoch [2/10], Step [400/460], Loss: 0.4028, Accuracy: 87.50%\n",
      "Epoch [3/10], Step [100/460], Loss: 0.4273, Accuracy: 71.88%\n",
      "Epoch [3/10], Step [200/460], Loss: 0.2624, Accuracy: 84.38%\n",
      "Epoch [3/10], Step [300/460], Loss: 0.4841, Accuracy: 78.12%\n",
      "Epoch [3/10], Step [400/460], Loss: 0.1246, Accuracy: 96.88%\n",
      "Epoch [4/10], Step [100/460], Loss: 0.3477, Accuracy: 87.50%\n",
      "Epoch [4/10], Step [200/460], Loss: 0.3811, Accuracy: 81.25%\n",
      "Epoch [4/10], Step [300/460], Loss: 0.3062, Accuracy: 87.50%\n",
      "Epoch [4/10], Step [400/460], Loss: 0.3018, Accuracy: 87.50%\n",
      "Epoch [5/10], Step [100/460], Loss: 0.2157, Accuracy: 87.50%\n",
      "Epoch [5/10], Step [200/460], Loss: 0.2382, Accuracy: 93.75%\n",
      "Epoch [5/10], Step [300/460], Loss: 0.3043, Accuracy: 90.62%\n",
      "Epoch [5/10], Step [400/460], Loss: 0.3618, Accuracy: 84.38%\n",
      "Epoch [6/10], Step [100/460], Loss: 0.2943, Accuracy: 87.50%\n",
      "Epoch [6/10], Step [200/460], Loss: 0.3936, Accuracy: 84.38%\n",
      "Epoch [6/10], Step [300/460], Loss: 0.3789, Accuracy: 84.38%\n",
      "Epoch [6/10], Step [400/460], Loss: 0.2450, Accuracy: 90.62%\n",
      "Epoch [7/10], Step [100/460], Loss: 0.4585, Accuracy: 71.88%\n",
      "Epoch [7/10], Step [200/460], Loss: 0.2637, Accuracy: 87.50%\n",
      "Epoch [7/10], Step [300/460], Loss: 0.4827, Accuracy: 78.12%\n",
      "Epoch [7/10], Step [400/460], Loss: 0.5793, Accuracy: 81.25%\n",
      "Epoch [8/10], Step [100/460], Loss: 0.3278, Accuracy: 87.50%\n",
      "Epoch [8/10], Step [200/460], Loss: 0.4221, Accuracy: 78.12%\n",
      "Epoch [8/10], Step [300/460], Loss: 0.3839, Accuracy: 81.25%\n",
      "Epoch [8/10], Step [400/460], Loss: 0.1363, Accuracy: 90.62%\n",
      "Epoch [9/10], Step [100/460], Loss: 0.3178, Accuracy: 90.62%\n",
      "Epoch [9/10], Step [200/460], Loss: 0.6159, Accuracy: 78.12%\n",
      "Epoch [9/10], Step [300/460], Loss: 0.2188, Accuracy: 90.62%\n",
      "Epoch [9/10], Step [400/460], Loss: 0.2994, Accuracy: 84.38%\n",
      "Epoch [10/10], Step [100/460], Loss: 0.2125, Accuracy: 90.62%\n",
      "Epoch [10/10], Step [200/460], Loss: 0.1281, Accuracy: 100.00%\n",
      "Epoch [10/10], Step [300/460], Loss: 0.2523, Accuracy: 90.62%\n",
      "Epoch [10/10], Step [400/460], Loss: 0.2381, Accuracy: 93.75%\n"
     ]
    }
   ],
   "source": [
    "# Train the model on GPU\n",
    "total_step = len(train_loader)\n",
    "loss_list = []\n",
    "acc_list = []\n",
    "model.train()\n",
    "for epoch in range(num_epochs):\n",
    "    for i, (images, labels) in enumerate(train_loader):\n",
    "        # Run the forward pass\n",
    "        outputs = model(images.to(device))\n",
    "        loss = criterion(outputs, labels.to(device).long())\n",
    "        loss_list.append(loss.item())\n",
    "\n",
    "        # Backprop and perform Adam optimisation\n",
    "        optimizer.zero_grad()\n",
    "        loss.backward()\n",
    "        optimizer.step()\n",
    "\n",
    "        # Track the accuracy\n",
    "        total = labels.size(0)\n",
    "        _, predicted = torch.max(outputs.data, 1)\n",
    "        correct = (predicted == labels.to(device).long()).sum().item()\n",
    "        acc_list.append(correct / total)\n",
    "\n",
    "        if (i + 1) % 100 == 0:\n",
    "            print('Epoch [{}/{}], Step [{}/{}], Loss: {:.4f}, Accuracy: {:.2f}%'\n",
    "                  .format(epoch + 1, num_epochs, i + 1, total_step, loss.item(),\n",
    "                          (correct / total) * 100))"
   ]
  },
  {
   "cell_type": "code",
   "execution_count": 26,
   "metadata": {
    "ExecuteTime": {
     "end_time": "2021-04-28T10:48:08.580083Z",
     "start_time": "2021-04-28T10:48:07.873660Z"
    }
   },
   "outputs": [
    {
     "name": "stdout",
     "output_type": "stream",
     "text": [
      "Test Accuracy of the model on the UCIHAR test images: 84.3739395995928 %\n"
     ]
    },
    {
     "data": {
      "image/png": "[encoded data removed]",
      "text/plain": [
       "<Figure size 504x504 with 1 Axes>"
      ]
     },
     "metadata": {
      "needs_background": "light"
     },
     "output_type": "display_data"
    }
   ],
   "source": [
    "# Test the model on GPU\n",
    "model.eval()\n",
    "all_labels = []\n",
    "all_predictions = []\n",
    "with torch.no_grad():\n",
    "    correct = 0\n",
    "    total = 0\n",
    "    for images, labels in test_loader:\n",
    "        outputs = model(images.to(device))\n",
    "        _, predicted = torch.max(outputs.data, 1)\n",
    "        all_predictions.append(predicted)\n",
    "        all_labels.append(labels)\n",
    "        total += labels.size(0)\n",
    "        correct += (predicted == labels.to(device)).sum().item()\n",
    "\n",
    "    print('Test Accuracy of the model on the UCIHAR test images: {} %'.format((correct / total) * 100))\n",
    "\n",
    "mat = metrics.confusion_matrix(torch.cat(all_predictions).cpu(), torch.cat(all_labels).cpu())\n",
    "plt.figure(figsize=(7,7))\n",
    "sns.heatmap(mat.T, square=True, annot=True, fmt='d', cbar=False,\n",
    "            xticklabels=classes, yticklabels=classes)\n",
    "plt.xlabel('true label')\n",
    "plt.ylabel('predicted label');"
   ]
  },
  {
   "cell_type": "code",
   "execution_count": null,
   "metadata": {},
   "outputs": [],
   "source": []
  }
 ],
 "metadata": {
  "kernelspec": {
   "display_name": "Python 3",
   "language": "python",
   "name": "python3"
  },
  "language_info": {
   "codemirror_mode": {
    "name": "ipython",
    "version": 3
   },
   "file_extension": ".py",
   "mimetype": "text/x-python",
   "name": "python",
   "nbconvert_exporter": "python",
   "pygments_lexer": "ipython3",
   "version": "3.8.3"
  }
 },
 "nbformat": 4,
 "nbformat_minor": 4
}
