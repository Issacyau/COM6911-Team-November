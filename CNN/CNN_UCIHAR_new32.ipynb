{
 "cells": [
  {
   "cell_type": "code",
   "execution_count": 1,
   "metadata": {
    "ExecuteTime": {
     "end_time": "2021-04-28T10:31:04.802179Z",
     "start_time": "2021-04-28T10:31:03.007867Z"
    }
   },
   "outputs": [],
   "source": [
    "%matplotlib inline\n",
    "import matplotlib.pyplot as plt\n",
    "import numpy as np\n",
    "import torch\n",
    "import torch.nn as nn\n",
    "import torch.nn.functional as F\n",
    "import torch.optim as optim\n",
    "import torchvision\n",
    "from torchvision import datasets, transforms\n",
    "from torch.utils.data import TensorDataset, DataLoader\n",
    "from sklearn import metrics\n",
    "import seaborn as sns\n",
    "from itertools import chain"
   ]
  },
  {
   "cell_type": "code",
   "execution_count": 2,
   "metadata": {
    "ExecuteTime": {
     "end_time": "2021-04-28T10:31:04.844047Z",
     "start_time": "2021-04-28T10:31:04.802922Z"
    }
   },
   "outputs": [],
   "source": [
    "# Set random seed for numpy\n",
    "np.random.seed(11)\n",
    "# Set random seed for pytorch\n",
    "torch.manual_seed(11)\n",
    "# Set random seed for pytorch running in GPU\n",
    "if torch.cuda.is_available():\n",
    "    torch.cuda.manual_seed_all(11)"
   ]
  },
  {
   "cell_type": "code",
   "execution_count": 3,
   "metadata": {
    "ExecuteTime": {
     "end_time": "2021-04-28T10:31:04.850794Z",
     "start_time": "2021-04-28T10:31:04.845808Z"
    }
   },
   "outputs": [],
   "source": [
    "# Choose batch size\n",
    "batch_size = 32"
   ]
  },
  {
   "cell_type": "code",
   "execution_count": 4,
   "metadata": {
    "ExecuteTime": {
     "end_time": "2021-04-28T10:31:05.050382Z",
     "start_time": "2021-04-28T10:31:04.851791Z"
    }
   },
   "outputs": [],
   "source": [
    "# Load processed data\n",
    "UCI_train_features = np.load('./UCI_train_features.npy', allow_pickle=True) # Window size 128\n",
    "UCI_train_labels = np.load('./UCI_train_labels.npy', allow_pickle=True)\n",
    "UCI_test_features = np.load('./UCI_test_features.npy', allow_pickle=True)\n",
    "UCI_test_labels = np.load('./UCI_test_labels.npy', allow_pickle=True)\n",
    "\n",
    "# Subtract 1 for every label for correct training, i.e., [1,2,3,4,5,6] to [0,1,2,3,4,5]\n",
    "UCI_train_labels = UCI_train_labels.astype(int) - 1\n",
    "UCI_test_labels = UCI_test_labels.astype(int) - 1"
   ]
  },
  {
   "cell_type": "code",
   "execution_count": 5,
   "metadata": {
    "ExecuteTime": {
     "end_time": "2021-04-28T10:31:05.684625Z",
     "start_time": "2021-04-28T10:31:05.678641Z"
    }
   },
   "outputs": [],
   "source": [
    "def hsplit_features(temp_copy):\n",
    "    temp_32 = []\n",
    "    for i in range(len(temp_copy)):\n",
    "        temp_sep = np.hsplit(temp_copy[i], 4)\n",
    "        for j in range(len(temp_sep)):\n",
    "            temp_32.append(temp_sep[j])\n",
    "    return np.array(temp_32)\n",
    "\n",
    "def reshape_labels(a):\n",
    "    aa = np.array(list(chain.from_iterable(zip(a, a))))\n",
    "    return np.array(list(chain.from_iterable(zip(aa, aa))))"
   ]
  },
  {
   "cell_type": "code",
   "execution_count": 6,
   "metadata": {
    "ExecuteTime": {
     "end_time": "2021-04-28T10:31:06.618969Z",
     "start_time": "2021-04-28T10:31:06.301922Z"
    }
   },
   "outputs": [],
   "source": [
    "UCI_train_features_32 = hsplit_features(UCI_train_features)\n",
    "UCI_train_labels_32 = reshape_labels(UCI_train_labels)\n",
    "UCI_test_features_32 = hsplit_features(UCI_test_features)\n",
    "UCI_test_labels_32 = reshape_labels(UCI_test_labels)"
   ]
  },
  {
   "cell_type": "code",
   "execution_count": 7,
   "metadata": {
    "ExecuteTime": {
     "end_time": "2021-04-28T10:31:06.723842Z",
     "start_time": "2021-04-28T10:31:06.717819Z"
    }
   },
   "outputs": [
    {
     "data": {
      "text/plain": [
       "(29408, 36, 32)"
      ]
     },
     "execution_count": 7,
     "metadata": {},
     "output_type": "execute_result"
    }
   ],
   "source": [
    "UCI_train_features_32.shape"
   ]
  },
  {
   "cell_type": "code",
   "execution_count": 8,
   "metadata": {
    "ExecuteTime": {
     "end_time": "2021-04-28T10:31:07.036672Z",
     "start_time": "2021-04-28T10:31:07.031685Z"
    }
   },
   "outputs": [
    {
     "data": {
      "text/plain": [
       "(29408,)"
      ]
     },
     "execution_count": 8,
     "metadata": {},
     "output_type": "execute_result"
    }
   ],
   "source": [
    "UCI_train_labels_32.shape"
   ]
  },
  {
   "cell_type": "code",
   "execution_count": 9,
   "metadata": {
    "ExecuteTime": {
     "end_time": "2021-04-28T10:31:07.465821Z",
     "start_time": "2021-04-28T10:31:07.390058Z"
    }
   },
   "outputs": [],
   "source": [
    "# Transform to torch tensor\n",
    "tensor_UCI_train_features = torch.Tensor(UCI_train_features_32) \n",
    "tensor_UCI_train_labels = torch.Tensor(UCI_train_labels_32)\n",
    "tensor_UCI_test_features = torch.Tensor(UCI_test_features_32) \n",
    "tensor_UCI_test_labels = torch.Tensor(UCI_test_labels_32)\n",
    "# Add one dimension of channel\n",
    "tensor_UCI_train_features = torch.unsqueeze(tensor_UCI_train_features, 1)\n",
    "tensor_UCI_test_features = torch.unsqueeze(tensor_UCI_test_features, 1)\n",
    "# Create datset\n",
    "train_dataset_UCI = TensorDataset(tensor_UCI_train_features,tensor_UCI_train_labels)\n",
    "test_dataset_UCI = TensorDataset(tensor_UCI_test_features,tensor_UCI_test_labels)"
   ]
  },
  {
   "cell_type": "code",
   "execution_count": 10,
   "metadata": {
    "ExecuteTime": {
     "end_time": "2021-04-28T10:31:07.849115Z",
     "start_time": "2021-04-28T10:31:07.846121Z"
    }
   },
   "outputs": [],
   "source": [
    "train_loader = torch.utils.data.DataLoader(dataset=train_dataset_UCI, batch_size=batch_size, shuffle=True)\n",
    "test_loader = torch.utils.data.DataLoader(dataset=test_dataset_UCI, batch_size=batch_size, shuffle=False)"
   ]
  },
  {
   "cell_type": "code",
   "execution_count": 11,
   "metadata": {
    "ExecuteTime": {
     "end_time": "2021-04-28T10:31:08.120828Z",
     "start_time": "2021-04-28T10:31:08.117855Z"
    }
   },
   "outputs": [],
   "source": [
    "classes = ('WALKING', 'WALKING_UPSTAIRS', 'WALKING_DOWNSTAIRS', 'SITTING', 'STANDING', 'LAYING')"
   ]
  },
  {
   "cell_type": "code",
   "execution_count": 12,
   "metadata": {
    "ExecuteTime": {
     "end_time": "2021-04-28T10:31:08.487158Z",
     "start_time": "2021-04-28T10:31:08.479145Z"
    }
   },
   "outputs": [
    {
     "name": "stdout",
     "output_type": "stream",
     "text": [
      "29408\n",
      "11788\n"
     ]
    }
   ],
   "source": [
    "print(len(train_loader.dataset))\n",
    "print(len(test_loader.dataset))"
   ]
  },
  {
   "cell_type": "code",
   "execution_count": 13,
   "metadata": {
    "ExecuteTime": {
     "end_time": "2021-04-28T10:31:09.219709Z",
     "start_time": "2021-04-28T10:31:09.206744Z"
    },
    "scrolled": false
   },
   "outputs": [
    {
     "name": "stdout",
     "output_type": "stream",
     "text": [
      "torch.Size([32, 1, 36, 32])\n",
      "tensor([1., 5., 4., 5., 1., 5., 1., 3., 1., 3., 2., 0., 0., 0., 4., 1., 5., 3.,\n",
      "        1., 5., 1., 1., 4., 5., 2., 2., 3., 3., 0., 3., 5., 1.])\n"
     ]
    }
   ],
   "source": [
    "for i, (images, labels) in enumerate(train_loader):\n",
    "    print(images.shape)\n",
    "    print(labels)\n",
    "    break"
   ]
  },
  {
   "cell_type": "markdown",
   "metadata": {},
   "source": [
    "The CNN architecture is: 16C5$\\times$5-S2$\\times$2-32C5$\\times$5"
   ]
  },
  {
   "cell_type": "code",
   "execution_count": 25,
   "metadata": {
    "ExecuteTime": {
     "end_time": "2021-04-28T10:39:01.064021Z",
     "start_time": "2021-04-28T10:39:01.054035Z"
    }
   },
   "outputs": [],
   "source": [
    "# Layers parameters:\n",
    "original_image_length = 36\n",
    "original_image_width = 32\n",
    "max_pool1_kernel_size = 2\n",
    "final_image_length = int(original_image_length / max_pool1_kernel_size)\n",
    "final_image_width = int(original_image_width / max_pool1_kernel_size)\n",
    "channels_L1 = 16\n",
    "channels_L2 = 32\n",
    "nodes_FC1 = 1000\n",
    "nodes_FC2 = 6\n",
    "\n",
    "class ConvNet(nn.Module):\n",
    "    def __init__(self):\n",
    "        super(ConvNet, self).__init__()\n",
    "        self.layer1 = nn.Sequential(\n",
    "            nn.Conv2d(1, channels_L1, kernel_size=3, stride=1, padding=1),\n",
    "            nn.ReLU(),\n",
    "            nn.MaxPool2d(kernel_size = max_pool1_kernel_size, stride = 2))\n",
    "        self.layer2 = nn.Sequential(\n",
    "            nn.Conv2d(channels_L1, channels_L2, kernel_size=3, stride=1, padding=1),\n",
    "            nn.ReLU())\n",
    "        self.drop_out = nn.Dropout()\n",
    "        self.fc1 = nn.Linear(final_image_length * final_image_width * channels_L2, nodes_FC1)\n",
    "        self.fc2 = nn.Linear(nodes_FC1, nodes_FC2)\n",
    "    \n",
    "    def forward(self, x):\n",
    "        out = self.layer1(x)\n",
    "        out = self.layer2(out)\n",
    "        out = out.reshape(out.size(0), -1)\n",
    "        out = self.drop_out(out)\n",
    "        out = self.fc1(out)\n",
    "        out = self.fc2(out)\n",
    "        return out"
   ]
  },
  {
   "cell_type": "code",
   "execution_count": 26,
   "metadata": {
    "ExecuteTime": {
     "end_time": "2021-04-28T10:39:01.317332Z",
     "start_time": "2021-04-28T10:39:01.231597Z"
    }
   },
   "outputs": [],
   "source": [
    "# Choose CPU or GPU\n",
    "# model = ConvNet() #CPU\n",
    "device = torch.device(\"cuda:0\" if torch.cuda.is_available() else \"cpu\")\n",
    "model = ConvNet().to(device) #GPU\n",
    "\n",
    "# Hyperparameter\n",
    "num_epochs = 10\n",
    "learning_rate = 0.000006\n",
    "weight_decay = 0.0001\n",
    "# Loss and optimizer\n",
    "criterion = nn.CrossEntropyLoss()\n",
    "optimizer = optim.Adam(model.parameters(), lr=learning_rate, weight_decay=weight_decay) #Adding Weight Decay here is equivalent to adding L2 regularization"
   ]
  },
  {
   "cell_type": "code",
   "execution_count": 27,
   "metadata": {
    "ExecuteTime": {
     "end_time": "2021-04-28T10:40:49.742958Z",
     "start_time": "2021-04-28T10:39:01.405644Z"
    },
    "scrolled": true
   },
   "outputs": [
    {
     "name": "stdout",
     "output_type": "stream",
     "text": [
      "Epoch [1/10], Step [100/919], Loss: 1.6987, Accuracy: 28.12%\n",
      "Epoch [1/10], Step [200/919], Loss: 1.5680, Accuracy: 46.88%\n",
      "Epoch [1/10], Step [300/919], Loss: 1.2707, Accuracy: 43.75%\n",
      "Epoch [1/10], Step [400/919], Loss: 1.2734, Accuracy: 53.12%\n",
      "Epoch [1/10], Step [500/919], Loss: 1.2317, Accuracy: 59.38%\n",
      "Epoch [1/10], Step [600/919], Loss: 1.0505, Accuracy: 56.25%\n",
      "Epoch [1/10], Step [700/919], Loss: 1.0449, Accuracy: 43.75%\n",
      "Epoch [1/10], Step [800/919], Loss: 0.9084, Accuracy: 59.38%\n",
      "Epoch [1/10], Step [900/919], Loss: 0.9684, Accuracy: 59.38%\n",
      "Epoch [2/10], Step [100/919], Loss: 1.0448, Accuracy: 56.25%\n",
      "Epoch [2/10], Step [200/919], Loss: 0.8152, Accuracy: 59.38%\n",
      "Epoch [2/10], Step [300/919], Loss: 0.7457, Accuracy: 62.50%\n",
      "Epoch [2/10], Step [400/919], Loss: 0.7625, Accuracy: 65.62%\n",
      "Epoch [2/10], Step [500/919], Loss: 1.0531, Accuracy: 50.00%\n",
      "Epoch [2/10], Step [600/919], Loss: 0.7650, Accuracy: 65.62%\n",
      "Epoch [2/10], Step [700/919], Loss: 0.8254, Accuracy: 68.75%\n",
      "Epoch [2/10], Step [800/919], Loss: 0.8253, Accuracy: 56.25%\n",
      "Epoch [2/10], Step [900/919], Loss: 0.8028, Accuracy: 59.38%\n",
      "Epoch [3/10], Step [100/919], Loss: 0.7567, Accuracy: 65.62%\n",
      "Epoch [3/10], Step [200/919], Loss: 1.1364, Accuracy: 50.00%\n",
      "Epoch [3/10], Step [300/919], Loss: 0.6551, Accuracy: 62.50%\n",
      "Epoch [3/10], Step [400/919], Loss: 0.7172, Accuracy: 65.62%\n",
      "Epoch [3/10], Step [500/919], Loss: 0.6894, Accuracy: 71.88%\n",
      "Epoch [3/10], Step [600/919], Loss: 0.7719, Accuracy: 53.12%\n",
      "Epoch [3/10], Step [700/919], Loss: 0.6748, Accuracy: 81.25%\n",
      "Epoch [3/10], Step [800/919], Loss: 0.6234, Accuracy: 65.62%\n",
      "Epoch [3/10], Step [900/919], Loss: 0.6638, Accuracy: 62.50%\n",
      "Epoch [4/10], Step [100/919], Loss: 0.6868, Accuracy: 71.88%\n",
      "Epoch [4/10], Step [200/919], Loss: 0.5953, Accuracy: 78.12%\n",
      "Epoch [4/10], Step [300/919], Loss: 0.6761, Accuracy: 71.88%\n",
      "Epoch [4/10], Step [400/919], Loss: 0.7852, Accuracy: 68.75%\n",
      "Epoch [4/10], Step [500/919], Loss: 0.8778, Accuracy: 65.62%\n",
      "Epoch [4/10], Step [600/919], Loss: 0.9151, Accuracy: 43.75%\n",
      "Epoch [4/10], Step [700/919], Loss: 0.8485, Accuracy: 53.12%\n",
      "Epoch [4/10], Step [800/919], Loss: 0.7904, Accuracy: 65.62%\n",
      "Epoch [4/10], Step [900/919], Loss: 0.6958, Accuracy: 62.50%\n",
      "Epoch [5/10], Step [100/919], Loss: 0.6394, Accuracy: 68.75%\n",
      "Epoch [5/10], Step [200/919], Loss: 0.6271, Accuracy: 68.75%\n",
      "Epoch [5/10], Step [300/919], Loss: 0.7793, Accuracy: 62.50%\n",
      "Epoch [5/10], Step [400/919], Loss: 0.5765, Accuracy: 71.88%\n",
      "Epoch [5/10], Step [500/919], Loss: 0.5511, Accuracy: 71.88%\n",
      "Epoch [5/10], Step [600/919], Loss: 0.7078, Accuracy: 59.38%\n",
      "Epoch [5/10], Step [700/919], Loss: 0.5887, Accuracy: 68.75%\n",
      "Epoch [5/10], Step [800/919], Loss: 0.7694, Accuracy: 62.50%\n",
      "Epoch [5/10], Step [900/919], Loss: 0.7779, Accuracy: 62.50%\n",
      "Epoch [6/10], Step [100/919], Loss: 0.5569, Accuracy: 75.00%\n",
      "Epoch [6/10], Step [200/919], Loss: 0.6366, Accuracy: 68.75%\n",
      "Epoch [6/10], Step [300/919], Loss: 0.9855, Accuracy: 56.25%\n",
      "Epoch [6/10], Step [400/919], Loss: 0.5267, Accuracy: 78.12%\n",
      "Epoch [6/10], Step [500/919], Loss: 0.9188, Accuracy: 53.12%\n",
      "Epoch [6/10], Step [600/919], Loss: 1.0153, Accuracy: 43.75%\n",
      "Epoch [6/10], Step [700/919], Loss: 0.6728, Accuracy: 65.62%\n",
      "Epoch [6/10], Step [800/919], Loss: 0.6351, Accuracy: 78.12%\n",
      "Epoch [6/10], Step [900/919], Loss: 0.6920, Accuracy: 68.75%\n",
      "Epoch [7/10], Step [100/919], Loss: 0.8406, Accuracy: 71.88%\n",
      "Epoch [7/10], Step [200/919], Loss: 0.5109, Accuracy: 78.12%\n",
      "Epoch [7/10], Step [300/919], Loss: 0.6673, Accuracy: 65.62%\n",
      "Epoch [7/10], Step [400/919], Loss: 0.4945, Accuracy: 78.12%\n",
      "Epoch [7/10], Step [500/919], Loss: 0.9499, Accuracy: 46.88%\n",
      "Epoch [7/10], Step [600/919], Loss: 0.8467, Accuracy: 56.25%\n",
      "Epoch [7/10], Step [700/919], Loss: 0.6379, Accuracy: 71.88%\n",
      "Epoch [7/10], Step [800/919], Loss: 0.5380, Accuracy: 75.00%\n",
      "Epoch [7/10], Step [900/919], Loss: 0.6254, Accuracy: 68.75%\n",
      "Epoch [8/10], Step [100/919], Loss: 0.6901, Accuracy: 75.00%\n",
      "Epoch [8/10], Step [200/919], Loss: 0.5121, Accuracy: 78.12%\n",
      "Epoch [8/10], Step [300/919], Loss: 0.5327, Accuracy: 78.12%\n",
      "Epoch [8/10], Step [400/919], Loss: 0.7364, Accuracy: 62.50%\n",
      "Epoch [8/10], Step [500/919], Loss: 0.7446, Accuracy: 65.62%\n",
      "Epoch [8/10], Step [600/919], Loss: 0.4918, Accuracy: 71.88%\n",
      "Epoch [8/10], Step [700/919], Loss: 0.4367, Accuracy: 75.00%\n",
      "Epoch [8/10], Step [800/919], Loss: 0.7110, Accuracy: 62.50%\n",
      "Epoch [8/10], Step [900/919], Loss: 0.6521, Accuracy: 68.75%\n",
      "Epoch [9/10], Step [100/919], Loss: 0.7318, Accuracy: 65.62%\n",
      "Epoch [9/10], Step [200/919], Loss: 0.6634, Accuracy: 65.62%\n",
      "Epoch [9/10], Step [300/919], Loss: 0.4669, Accuracy: 81.25%\n",
      "Epoch [9/10], Step [400/919], Loss: 1.0173, Accuracy: 50.00%\n",
      "Epoch [9/10], Step [500/919], Loss: 0.6968, Accuracy: 65.62%\n",
      "Epoch [9/10], Step [600/919], Loss: 0.6970, Accuracy: 65.62%\n",
      "Epoch [9/10], Step [700/919], Loss: 0.6395, Accuracy: 68.75%\n",
      "Epoch [9/10], Step [800/919], Loss: 0.7556, Accuracy: 65.62%\n",
      "Epoch [9/10], Step [900/919], Loss: 0.7422, Accuracy: 65.62%\n",
      "Epoch [10/10], Step [100/919], Loss: 0.5222, Accuracy: 81.25%\n",
      "Epoch [10/10], Step [200/919], Loss: 0.7331, Accuracy: 53.12%\n",
      "Epoch [10/10], Step [300/919], Loss: 0.6176, Accuracy: 59.38%\n",
      "Epoch [10/10], Step [400/919], Loss: 0.8255, Accuracy: 59.38%\n",
      "Epoch [10/10], Step [500/919], Loss: 0.6153, Accuracy: 68.75%\n",
      "Epoch [10/10], Step [600/919], Loss: 0.6548, Accuracy: 81.25%\n",
      "Epoch [10/10], Step [700/919], Loss: 0.7630, Accuracy: 56.25%\n",
      "Epoch [10/10], Step [800/919], Loss: 0.7030, Accuracy: 62.50%\n",
      "Epoch [10/10], Step [900/919], Loss: 0.5444, Accuracy: 75.00%\n"
     ]
    }
   ],
   "source": [
    "# Train the model on GPU\n",
    "total_step = len(train_loader)\n",
    "loss_list = []\n",
    "acc_list = []\n",
    "model.train()\n",
    "for epoch in range(num_epochs):\n",
    "    for i, (images, labels) in enumerate(train_loader):\n",
    "        # Run the forward pass\n",
    "        outputs = model(images.to(device))\n",
    "        loss = criterion(outputs, labels.to(device).long())\n",
    "        loss_list.append(loss.item())\n",
    "\n",
    "        # Backprop and perform Adam optimisation\n",
    "        optimizer.zero_grad()\n",
    "        loss.backward()\n",
    "        optimizer.step()\n",
    "\n",
    "        # Track the accuracy\n",
    "        total = labels.size(0)\n",
    "        _, predicted = torch.max(outputs.data, 1)\n",
    "        correct = (predicted == labels.to(device).long()).sum().item()\n",
    "        acc_list.append(correct / total)\n",
    "\n",
    "        if (i + 1) % 100 == 0:\n",
    "            print('Epoch [{}/{}], Step [{}/{}], Loss: {:.4f}, Accuracy: {:.2f}%'\n",
    "                  .format(epoch + 1, num_epochs, i + 1, total_step, loss.item(),\n",
    "                          (correct / total) * 100))"
   ]
  },
  {
   "cell_type": "code",
   "execution_count": 28,
   "metadata": {
    "ExecuteTime": {
     "end_time": "2021-04-28T10:40:51.088268Z",
     "start_time": "2021-04-28T10:40:49.743909Z"
    }
   },
   "outputs": [
    {
     "name": "stdout",
     "output_type": "stream",
     "text": [
      "Test Accuracy of the model on the UCIHAR test images: 69.43501866304716 %\n"
     ]
    },
    {
     "data": {
      "image/png": "[encoded data removed]",
      "text/plain": [
       "<Figure size 504x504 with 1 Axes>"
      ]
     },
     "metadata": {
      "needs_background": "light"
     },
     "output_type": "display_data"
    }
   ],
   "source": [
    "# Test the model on GPU\n",
    "model.eval()\n",
    "all_labels = []\n",
    "all_predictions = []\n",
    "with torch.no_grad():\n",
    "    correct = 0\n",
    "    total = 0\n",
    "    for images, labels in test_loader:\n",
    "        outputs = model(images.to(device))\n",
    "        _, predicted = torch.max(outputs.data, 1)\n",
    "        all_predictions.append(predicted)\n",
    "        all_labels.append(labels)\n",
    "        total += labels.size(0)\n",
    "        correct += (predicted == labels.to(device)).sum().item()\n",
    "\n",
    "    print('Test Accuracy of the model on the UCIHAR test images: {} %'.format((correct / total) * 100))\n",
    "\n",
    "mat = metrics.confusion_matrix(torch.cat(all_predictions).cpu(), torch.cat(all_labels).cpu())\n",
    "plt.figure(figsize=(7,7))\n",
    "sns.heatmap(mat.T, square=True, annot=True, fmt='d', cbar=False,\n",
    "            xticklabels=classes, yticklabels=classes)\n",
    "plt.xlabel('true label')\n",
    "plt.ylabel('predicted label');"
   ]
  },
  {
   "cell_type": "code",
   "execution_count": null,
   "metadata": {},
   "outputs": [],
   "source": []
  }
 ],
 "metadata": {
  "kernelspec": {
   "display_name": "Python 3",
   "language": "python",
   "name": "python3"
  },
  "language_info": {
   "codemirror_mode": {
    "name": "ipython",
    "version": 3
   },
   "file_extension": ".py",
   "mimetype": "text/x-python",
   "name": "python",
   "nbconvert_exporter": "python",
   "pygments_lexer": "ipython3",
   "version": "3.8.3"
  }
 },
 "nbformat": 4,
 "nbformat_minor": 4
}
