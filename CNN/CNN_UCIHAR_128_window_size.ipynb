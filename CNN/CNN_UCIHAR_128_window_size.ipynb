{
 "cells": [
  {
   "cell_type": "code",
   "execution_count": 1,
   "metadata": {
    "ExecuteTime": {
     "end_time": "2021-05-04T19:54:06.207023Z",
     "start_time": "2021-05-04T19:53:59.091159Z"
    }
   },
   "outputs": [],
   "source": [
    "%matplotlib inline\n",
    "import matplotlib.pyplot as plt\n",
    "import numpy as np\n",
    "import torch\n",
    "import torch.nn as nn\n",
    "import torch.nn.functional as F\n",
    "import torch.optim as optim\n",
    "import torchvision\n",
    "from torchvision import datasets, transforms\n",
    "from torch.utils.data import TensorDataset, DataLoader\n",
    "from sklearn import metrics\n",
    "import seaborn as sns"
   ]
  },
  {
   "cell_type": "code",
   "execution_count": 2,
   "metadata": {
    "ExecuteTime": {
     "end_time": "2021-05-04T19:54:06.316165Z",
     "start_time": "2021-05-04T19:54:06.208578Z"
    }
   },
   "outputs": [],
   "source": [
    "# Set random seed for numpy\n",
    "np.random.seed(11)\n",
    "# Set random seed for pytorch\n",
    "torch.manual_seed(11)\n",
    "# Set random seed for pytorch running in GPU\n",
    "if torch.cuda.is_available():\n",
    "    torch.cuda.manual_seed_all(11)"
   ]
  },
  {
   "cell_type": "code",
   "execution_count": 3,
   "metadata": {
    "ExecuteTime": {
     "end_time": "2021-05-04T19:54:06.331466Z",
     "start_time": "2021-05-04T19:54:06.318160Z"
    }
   },
   "outputs": [],
   "source": [
    "# Choose batch size\n",
    "batch_size = 32"
   ]
  },
  {
   "cell_type": "code",
   "execution_count": 4,
   "metadata": {
    "ExecuteTime": {
     "end_time": "2021-05-04T19:54:06.981506Z",
     "start_time": "2021-05-04T19:54:06.332467Z"
    }
   },
   "outputs": [],
   "source": [
    "# Load processed data\n",
    "UCI_train_features = np.load('./UCI_train_features.npy', allow_pickle=True)\n",
    "UCI_train_labels = np.load('./UCI_train_labels.npy', allow_pickle=True)\n",
    "UCI_test_features = np.load('./UCI_test_features.npy', allow_pickle=True)\n",
    "UCI_test_labels = np.load('./UCI_test_labels.npy', allow_pickle=True)\n",
    "\n",
    "# Subtract 1 for every label for correct training, i.e., [1,2,3,4,5,6] to [0,1,2,3,4,5]\n",
    "UCI_train_labels = UCI_train_labels.astype(int) - 1\n",
    "UCI_test_labels = UCI_test_labels.astype(int) - 1"
   ]
  },
  {
   "cell_type": "code",
   "execution_count": 5,
   "metadata": {
    "ExecuteTime": {
     "end_time": "2021-05-04T19:54:07.167014Z",
     "start_time": "2021-05-04T19:54:06.983503Z"
    }
   },
   "outputs": [],
   "source": [
    "# Transform to torch tensor\n",
    "tensor_UCI_train_features = torch.Tensor(UCI_train_features) \n",
    "tensor_UCI_train_labels = torch.Tensor(UCI_train_labels)\n",
    "tensor_UCI_test_features = torch.Tensor(UCI_test_features) \n",
    "tensor_UCI_test_labels = torch.Tensor(UCI_test_labels)\n",
    "# Add one dimension of channel\n",
    "tensor_UCI_train_features = torch.unsqueeze(tensor_UCI_train_features, 1)\n",
    "tensor_UCI_test_features = torch.unsqueeze(tensor_UCI_test_features, 1)\n",
    "# Create datset\n",
    "train_dataset_UCI = TensorDataset(tensor_UCI_train_features,tensor_UCI_train_labels)\n",
    "test_dataset_UCI = TensorDataset(tensor_UCI_test_features,tensor_UCI_test_labels)"
   ]
  },
  {
   "cell_type": "code",
   "execution_count": 6,
   "metadata": {
    "ExecuteTime": {
     "end_time": "2021-05-04T19:54:07.182971Z",
     "start_time": "2021-05-04T19:54:07.169008Z"
    }
   },
   "outputs": [],
   "source": [
    "train_loader = torch.utils.data.DataLoader(dataset=train_dataset_UCI, batch_size=batch_size, shuffle=True)\n",
    "test_loader = torch.utils.data.DataLoader(dataset=test_dataset_UCI, batch_size=batch_size, shuffle=False)"
   ]
  },
  {
   "cell_type": "code",
   "execution_count": 7,
   "metadata": {
    "ExecuteTime": {
     "end_time": "2021-05-04T19:54:07.198929Z",
     "start_time": "2021-05-04T19:54:07.184965Z"
    }
   },
   "outputs": [],
   "source": [
    "classes = ('WALKING', 'WALKING_UPSTAIRS', 'WALKING_DOWNSTAIRS', 'SITTING', 'STANDING', 'LAYING')"
   ]
  },
  {
   "cell_type": "code",
   "execution_count": 8,
   "metadata": {
    "ExecuteTime": {
     "end_time": "2021-05-04T19:54:07.214886Z",
     "start_time": "2021-05-04T19:54:07.200923Z"
    }
   },
   "outputs": [
    {
     "name": "stdout",
     "output_type": "stream",
     "text": [
      "7352\n",
      "2947\n"
     ]
    }
   ],
   "source": [
    "print(len(train_loader.dataset))\n",
    "print(len(test_loader.dataset))"
   ]
  },
  {
   "cell_type": "code",
   "execution_count": 9,
   "metadata": {
    "ExecuteTime": {
     "end_time": "2021-05-04T19:54:07.260763Z",
     "start_time": "2021-05-04T19:54:07.215883Z"
    },
    "scrolled": false
   },
   "outputs": [
    {
     "name": "stdout",
     "output_type": "stream",
     "text": [
      "torch.Size([32, 1, 36, 128])\n",
      "tensor([5., 2., 5., 4., 1., 5., 1., 3., 0., 4., 4., 4., 5., 4., 5., 0., 2., 1.,\n",
      "        4., 0., 4., 1., 2., 0., 5., 5., 0., 4., 5., 1., 4., 1.])\n"
     ]
    }
   ],
   "source": [
    "for i, (images, labels) in enumerate(train_loader):\n",
    "    print(images.shape)\n",
    "    print(labels)\n",
    "    break"
   ]
  },
  {
   "cell_type": "markdown",
   "metadata": {},
   "source": [
    "The CNN architecture is: 16C5$\\times$5-S2$\\times$2-32C5$\\times$5"
   ]
  },
  {
   "cell_type": "code",
   "execution_count": 10,
   "metadata": {
    "ExecuteTime": {
     "end_time": "2021-05-04T19:54:07.290684Z",
     "start_time": "2021-05-04T19:54:07.261760Z"
    }
   },
   "outputs": [],
   "source": [
    "# Layers parameters:\n",
    "original_image_length = 36\n",
    "original_image_width = 128\n",
    "max_pool1_kernel_size = 2\n",
    "final_image_length = int(original_image_length / max_pool1_kernel_size)\n",
    "final_image_width = int(original_image_width / max_pool1_kernel_size)\n",
    "channels_L1 = 16\n",
    "channels_L2 = 32\n",
    "nodes_FC1 = 1000\n",
    "nodes_FC2 = 6\n",
    "\n",
    "class ConvNet(nn.Module):\n",
    "    def __init__(self):\n",
    "        super(ConvNet, self).__init__()\n",
    "        self.layer1 = nn.Sequential(\n",
    "            nn.Conv2d(1, channels_L1, kernel_size=5, stride=1, padding=2),\n",
    "            nn.ReLU(),\n",
    "            nn.MaxPool2d(kernel_size = max_pool1_kernel_size, stride = 2))\n",
    "        self.layer2 = nn.Sequential(\n",
    "            nn.Conv2d(channels_L1, channels_L2, kernel_size=5, stride=1, padding=2),\n",
    "            nn.ReLU())\n",
    "        self.drop_out = nn.Dropout()\n",
    "        self.fc1 = nn.Linear(final_image_length * final_image_width * channels_L2, nodes_FC1)\n",
    "        self.fc2 = nn.Linear(nodes_FC1, nodes_FC2)\n",
    "    \n",
    "    def forward(self, x):\n",
    "        out = self.layer1(x)\n",
    "        out = self.layer2(out)\n",
    "        out = out.reshape(out.size(0), -1)\n",
    "        out = self.drop_out(out)\n",
    "        out = self.fc1(out)\n",
    "        out = self.fc2(out)\n",
    "        return out"
   ]
  },
  {
   "cell_type": "code",
   "execution_count": 11,
   "metadata": {
    "ExecuteTime": {
     "end_time": "2021-05-04T19:54:12.591311Z",
     "start_time": "2021-05-04T19:54:09.224727Z"
    }
   },
   "outputs": [],
   "source": [
    "# Choose CPU or GPU\n",
    "# model = ConvNet() #CPU\n",
    "device = torch.device(\"cuda:0\" if torch.cuda.is_available() else \"cpu\")\n",
    "model = ConvNet().to(device) #GPU\n",
    "\n",
    "# Hyperparameter\n",
    "num_epochs = 10\n",
    "learning_rate = 0.000006\n",
    "weight_decay = 0.0001\n",
    "# Loss and optimizer\n",
    "criterion = nn.CrossEntropyLoss()\n",
    "optimizer = optim.Adam(model.parameters(), lr=learning_rate, weight_decay=weight_decay) #Adding Weight Decay here is equivalent to adding L2 regularization"
   ]
  },
  {
   "cell_type": "code",
   "execution_count": 12,
   "metadata": {
    "ExecuteTime": {
     "end_time": "2021-05-04T19:55:40.057690Z",
     "start_time": "2021-05-04T19:54:12.593307Z"
    },
    "scrolled": true
   },
   "outputs": [
    {
     "name": "stdout",
     "output_type": "stream",
     "text": [
      "Epoch [1/10], Step [100/230], Loss: 0.3295, Accuracy: 87.50%\n",
      "Epoch [1/10], Step [200/230], Loss: 0.1513, Accuracy: 93.75%\n",
      "Epoch [2/10], Step [100/230], Loss: 0.5206, Accuracy: 78.12%\n",
      "Epoch [2/10], Step [200/230], Loss: 0.1144, Accuracy: 96.88%\n",
      "Epoch [3/10], Step [100/230], Loss: 0.0946, Accuracy: 96.88%\n",
      "Epoch [3/10], Step [200/230], Loss: 0.2845, Accuracy: 90.62%\n",
      "Epoch [4/10], Step [100/230], Loss: 0.0385, Accuracy: 96.88%\n",
      "Epoch [4/10], Step [200/230], Loss: 0.1872, Accuracy: 87.50%\n",
      "Epoch [5/10], Step [100/230], Loss: 0.0312, Accuracy: 100.00%\n",
      "Epoch [5/10], Step [200/230], Loss: 0.3146, Accuracy: 93.75%\n",
      "Epoch [6/10], Step [100/230], Loss: 0.0684, Accuracy: 100.00%\n",
      "Epoch [6/10], Step [200/230], Loss: 0.3258, Accuracy: 87.50%\n",
      "Epoch [7/10], Step [100/230], Loss: 0.1167, Accuracy: 90.62%\n",
      "Epoch [7/10], Step [200/230], Loss: 0.2374, Accuracy: 93.75%\n",
      "Epoch [8/10], Step [100/230], Loss: 0.1260, Accuracy: 96.88%\n",
      "Epoch [8/10], Step [200/230], Loss: 0.1441, Accuracy: 93.75%\n",
      "Epoch [9/10], Step [100/230], Loss: 0.0562, Accuracy: 93.75%\n",
      "Epoch [9/10], Step [200/230], Loss: 0.0884, Accuracy: 93.75%\n",
      "Epoch [10/10], Step [100/230], Loss: 0.2511, Accuracy: 90.62%\n",
      "Epoch [10/10], Step [200/230], Loss: 0.3098, Accuracy: 87.50%\n"
     ]
    }
   ],
   "source": [
    "# Train the model on GPU\n",
    "total_step = len(train_loader)\n",
    "loss_list = []\n",
    "acc_list = []\n",
    "model.train()\n",
    "for epoch in range(num_epochs):\n",
    "    for i, (images, labels) in enumerate(train_loader):\n",
    "        # Run the forward pass\n",
    "        outputs = model(images.to(device))\n",
    "        loss = criterion(outputs, labels.to(device).long())\n",
    "        loss_list.append(loss.item())\n",
    "\n",
    "        # Backprop and perform Adam optimisation\n",
    "        optimizer.zero_grad()\n",
    "        loss.backward()\n",
    "        optimizer.step()\n",
    "\n",
    "        # Track the accuracy\n",
    "        total = labels.size(0)\n",
    "        _, predicted = torch.max(outputs.data, 1)\n",
    "        correct = (predicted == labels.to(device).long()).sum().item()\n",
    "        acc_list.append(correct / total)\n",
    "\n",
    "        if (i + 1) % 100 == 0:\n",
    "            print('Epoch [{}/{}], Step [{}/{}], Loss: {:.4f}, Accuracy: {:.2f}%'\n",
    "                  .format(epoch + 1, num_epochs, i + 1, total_step, loss.item(),\n",
    "                          (correct / total) * 100))"
   ]
  },
  {
   "cell_type": "code",
   "execution_count": 13,
   "metadata": {
    "ExecuteTime": {
     "end_time": "2021-05-04T19:55:46.934557Z",
     "start_time": "2021-05-04T19:55:46.465212Z"
    }
   },
   "outputs": [
    {
     "name": "stdout",
     "output_type": "stream",
     "text": [
      "Test Accuracy of the model on the UCIHAR test images: 91.82219205972176 %\n"
     ]
    }
   ],
   "source": [
    "# Test the model on GPU\n",
    "model.eval()\n",
    "all_labels = []\n",
    "all_predictions = []\n",
    "with torch.no_grad():\n",
    "    correct = 0\n",
    "    total = 0\n",
    "    for images, labels in test_loader:\n",
    "        outputs = model(images.to(device))\n",
    "        _, predicted = torch.max(outputs.data, 1)\n",
    "        all_predictions.append(predicted)\n",
    "        all_labels.append(labels)\n",
    "        total += labels.size(0)\n",
    "        correct += (predicted == labels.to(device)).sum().item()\n",
    "\n",
    "    print('Test Accuracy of the model on the UCIHAR test images: {} %'.format((correct / total) * 100))\n",
    "\n",
    "# mat = metrics.confusion_matrix(torch.cat(all_predictions).cpu(), torch.cat(all_labels).cpu())\n",
    "# plt.figure(figsize=(7,7))\n",
    "# sns.heatmap(mat.T, square=True, annot=True, fmt='d', cbar=False,\n",
    "#             xticklabels=classes, yticklabels=classes)\n",
    "# plt.xlabel('true label')\n",
    "# plt.ylabel('predicted label');"
   ]
  },
  {
   "cell_type": "code",
   "execution_count": 14,
   "metadata": {
    "ExecuteTime": {
     "end_time": "2021-05-04T19:55:48.473881Z",
     "start_time": "2021-05-04T19:55:48.183906Z"
    }
   },
   "outputs": [
    {
     "data": {
      "image/png": "[encoded data removed]",
      "text/plain": [
       "<Figure size 504x504 with 1 Axes>"
      ]
     },
     "metadata": {
      "needs_background": "light"
     },
     "output_type": "display_data"
    }
   ],
   "source": [
    "mat = metrics.confusion_matrix(torch.cat(all_predictions).cpu(), torch.cat(all_labels).cpu())\n",
    "plt.figure(figsize=(7,7))\n",
    "sns.heatmap(mat.T, square=True, annot=True, fmt='d', cbar=False,\n",
    "            xticklabels=classes, yticklabels=classes)\n",
    "plt.xlabel('true label')\n",
    "plt.ylabel('predicted label');"
   ]
  },
  {
   "cell_type": "code",
   "execution_count": 15,
   "metadata": {
    "ExecuteTime": {
     "end_time": "2021-05-04T19:55:54.879411Z",
     "start_time": "2021-05-04T19:55:54.871433Z"
    }
   },
   "outputs": [
    {
     "data": {
      "text/plain": [
       "array([[470,  11,   5,   0,   1,   0],\n",
       "       [  0, 432,   1,   1,   0,   0],\n",
       "       [ 26,  28, 414,   0,   0,   0],\n",
       "       [  0,   0,   0, 352,  30,   0],\n",
       "       [  0,   0,   0, 135, 501,   0],\n",
       "       [  0,   0,   0,   3,   0, 537]], dtype=int64)"
      ]
     },
     "execution_count": 15,
     "metadata": {},
     "output_type": "execute_result"
    }
   ],
   "source": [
    "mat"
   ]
  },
  {
   "cell_type": "code",
   "execution_count": 16,
   "metadata": {
    "ExecuteTime": {
     "end_time": "2021-05-04T19:56:13.448573Z",
     "start_time": "2021-05-04T19:56:13.424445Z"
    }
   },
   "outputs": [
    {
     "data": {
      "text/plain": [
       "tensor([4, 4, 4,  ..., 1, 1, 1])"
      ]
     },
     "execution_count": 16,
     "metadata": {},
     "output_type": "execute_result"
    }
   ],
   "source": [
    "torch.cat(all_predictions).cpu()"
   ]
  },
  {
   "cell_type": "code",
   "execution_count": null,
   "metadata": {},
   "outputs": [],
   "source": []
  },
  {
   "cell_type": "code",
   "execution_count": null,
   "metadata": {},
   "outputs": [],
   "source": []
  },
  {
   "cell_type": "code",
   "execution_count": null,
   "metadata": {},
   "outputs": [],
   "source": []
  }
 ],
 "metadata": {
  "kernelspec": {
   "display_name": "Python 3",
   "language": "python",
   "name": "python3"
  },
  "language_info": {
   "codemirror_mode": {
    "name": "ipython",
    "version": 3
   },
   "file_extension": ".py",
   "mimetype": "text/x-python",
   "name": "python",
   "nbconvert_exporter": "python",
   "pygments_lexer": "ipython3",
   "version": "3.8.3"
  }
 },
 "nbformat": 4,
 "nbformat_minor": 4
}
