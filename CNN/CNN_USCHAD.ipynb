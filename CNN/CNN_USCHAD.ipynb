{
 "cells": [
  {
   "cell_type": "code",
   "execution_count": 1,
   "metadata": {
    "ExecuteTime": {
     "end_time": "2021-04-29T17:42:10.287118Z",
     "start_time": "2021-04-29T17:42:07.762887Z"
    }
   },
   "outputs": [],
   "source": [
    "%matplotlib inline\n",
    "import matplotlib.pyplot as plt\n",
    "import numpy as np\n",
    "import torch\n",
    "import torch.nn as nn\n",
    "import torch.nn.functional as F\n",
    "import torch.optim as optim\n",
    "import torchvision\n",
    "from torchvision import datasets, transforms\n",
    "from torch.utils.data import TensorDataset, DataLoader\n",
    "from sklearn import metrics\n",
    "import seaborn as sns"
   ]
  },
  {
   "cell_type": "code",
   "execution_count": 2,
   "metadata": {
    "ExecuteTime": {
     "end_time": "2021-04-29T17:42:10.346168Z",
     "start_time": "2021-04-29T17:42:10.288111Z"
    }
   },
   "outputs": [],
   "source": [
    "# Set random seed for numpy\n",
    "np.random.seed(11)\n",
    "# Set random seed for pytorch\n",
    "torch.manual_seed(11)\n",
    "# Set random seed for pytorch running in GPU\n",
    "if torch.cuda.is_available():\n",
    "    torch.cuda.manual_seed_all(11)"
   ]
  },
  {
   "cell_type": "code",
   "execution_count": 3,
   "metadata": {
    "ExecuteTime": {
     "end_time": "2021-04-29T17:42:10.349526Z",
     "start_time": "2021-04-29T17:42:10.347512Z"
    }
   },
   "outputs": [],
   "source": [
    "# Choose batch size\n",
    "batch_size = 16"
   ]
  },
  {
   "cell_type": "code",
   "execution_count": 4,
   "metadata": {
    "ExecuteTime": {
     "end_time": "2021-04-29T17:42:10.358483Z",
     "start_time": "2021-04-29T17:42:10.350504Z"
    }
   },
   "outputs": [],
   "source": [
    "# # Load processed data\n",
    "# USC_train_features = np.load('../LSTM-USC/usc_multi/train_features_USC_mod_al.npy', allow_pickle=True)\n",
    "# USC_train_labels = np.load('../LSTM-USC/usc_multi/train_labels_USC_mod_al.npy', allow_pickle=True)\n",
    "# USC_test_features = np.load('../LSTM-USC/usc_multi/test_features_USC_mod_al.npy', allow_pickle=True)\n",
    "# USC_test_labels = np.load('../LSTM-USC/usc_multi/test_labels_USC_mod_al.npy', allow_pickle=True)\n",
    "\n",
    "# # Subtract 1 for every label for correct training, i.e., [1,2,3,4,5,6] to [0,1,2,3,4,5]\n",
    "# USC_train_labels = USC_train_labels.astype(int) - 1\n",
    "# USC_test_labels = USC_test_labels.astype(int) - 1"
   ]
  },
  {
   "cell_type": "code",
   "execution_count": 5,
   "metadata": {
    "ExecuteTime": {
     "end_time": "2021-04-29T17:42:10.366462Z",
     "start_time": "2021-04-29T17:42:10.359481Z"
    }
   },
   "outputs": [],
   "source": [
    "# # Load processed data\n",
    "# USC_train_features = np.load('../LSTM-USC/usc_multi/train_features_USC_mod_al_64.npy', allow_pickle=True)\n",
    "# USC_train_labels = np.load('../LSTM-USC/usc_multi/train_labels_USC_mod_al_64.npy', allow_pickle=True)\n",
    "# USC_test_features = np.load('../LSTM-USC/usc_multi/test_features_USC_mod_al_64.npy', allow_pickle=True)\n",
    "# USC_test_labels = np.load('../LSTM-USC/usc_multi/test_labels_USC_mod_al_64.npy', allow_pickle=True)\n",
    "\n",
    "# # Subtract 1 for every label for correct training, i.e., [1,2,3,4,5,6] to [0,1,2,3,4,5]\n",
    "# USC_train_labels = USC_train_labels.astype(int) - 1\n",
    "# USC_test_labels = USC_test_labels.astype(int) - 1"
   ]
  },
  {
   "cell_type": "code",
   "execution_count": 6,
   "metadata": {
    "ExecuteTime": {
     "end_time": "2021-04-29T17:42:13.721389Z",
     "start_time": "2021-04-29T17:42:10.368456Z"
    }
   },
   "outputs": [],
   "source": [
    "# Load processed data\n",
    "USC_train_features = np.load('../LSTM-USC/usc_multi/train_features_USC_mod_al_32.npy', allow_pickle=True)\n",
    "USC_train_labels = np.load('../LSTM-USC/usc_multi/train_labels_USC_mod_al_32.npy', allow_pickle=True)\n",
    "USC_test_features = np.load('../LSTM-USC/usc_multi/test_features_USC_mod_al_32.npy', allow_pickle=True)\n",
    "USC_test_labels = np.load('../LSTM-USC/usc_multi/test_labels_USC_mod_al_32.npy', allow_pickle=True)\n",
    "\n",
    "# Subtract 1 for every label for correct training, i.e., [1,2,3,4,5,6] to [0,1,2,3,4,5]\n",
    "USC_train_labels = USC_train_labels.astype(int) - 1\n",
    "USC_test_labels = USC_test_labels.astype(int) - 1"
   ]
  },
  {
   "cell_type": "code",
   "execution_count": 7,
   "metadata": {
    "ExecuteTime": {
     "end_time": "2021-04-29T17:42:13.729096Z",
     "start_time": "2021-04-29T17:42:13.723112Z"
    }
   },
   "outputs": [
    {
     "data": {
      "text/plain": [
       "(52674, 18, 96)"
      ]
     },
     "execution_count": 7,
     "metadata": {},
     "output_type": "execute_result"
    }
   ],
   "source": [
    "USC_test_features.shape"
   ]
  },
  {
   "cell_type": "code",
   "execution_count": 8,
   "metadata": {
    "ExecuteTime": {
     "end_time": "2021-04-29T17:42:14.450168Z",
     "start_time": "2021-04-29T17:42:13.731091Z"
    }
   },
   "outputs": [],
   "source": [
    "# Transform to torch tensor\n",
    "tensor_USC_train_features = torch.Tensor(USC_train_features) \n",
    "tensor_USC_train_labels = torch.Tensor(USC_train_labels)\n",
    "tensor_USC_test_features = torch.Tensor(USC_test_features) \n",
    "tensor_USC_test_labels = torch.Tensor(USC_test_labels)\n",
    "# Add one dimension of channel\n",
    "tensor_USC_train_features = torch.unsqueeze(tensor_USC_train_features, 1)\n",
    "tensor_USC_test_features = torch.unsqueeze(tensor_USC_test_features, 1)\n",
    "# Create datset\n",
    "train_dataset_USC = TensorDataset(tensor_USC_train_features,tensor_USC_train_labels)\n",
    "test_dataset_USC = TensorDataset(tensor_USC_test_features,tensor_USC_test_labels)"
   ]
  },
  {
   "cell_type": "code",
   "execution_count": 9,
   "metadata": {
    "ExecuteTime": {
     "end_time": "2021-04-29T17:42:14.457148Z",
     "start_time": "2021-04-29T17:42:14.452162Z"
    }
   },
   "outputs": [],
   "source": [
    "train_loader = torch.utils.data.DataLoader(dataset=train_dataset_USC, batch_size=batch_size, shuffle=True)\n",
    "test_loader = torch.utils.data.DataLoader(dataset=test_dataset_USC, batch_size=batch_size, shuffle=False)"
   ]
  },
  {
   "cell_type": "code",
   "execution_count": 10,
   "metadata": {
    "ExecuteTime": {
     "end_time": "2021-04-29T17:42:14.465127Z",
     "start_time": "2021-04-29T17:42:14.459143Z"
    }
   },
   "outputs": [],
   "source": [
    "classes = ('Walking Forward', 'Walking Left', 'Walking Right', 'Walking Upstairs', 'Walking Downstairs', 'Running Forward', \n",
    "           'Jumping Up', 'Sitting', 'Standing', 'Sleeping', 'Elevator Up', 'Elevator Down')"
   ]
  },
  {
   "cell_type": "code",
   "execution_count": 11,
   "metadata": {
    "ExecuteTime": {
     "end_time": "2021-04-29T17:42:15.114403Z",
     "start_time": "2021-04-29T17:42:15.105399Z"
    }
   },
   "outputs": [
    {
     "name": "stdout",
     "output_type": "stream",
     "text": [
      "122905\n",
      "52674\n"
     ]
    }
   ],
   "source": [
    "print(len(train_loader.dataset))\n",
    "print(len(test_loader.dataset))"
   ]
  },
  {
   "cell_type": "code",
   "execution_count": 12,
   "metadata": {
    "ExecuteTime": {
     "end_time": "2021-04-29T17:42:16.514471Z",
     "start_time": "2021-04-29T17:42:16.449615Z"
    },
    "scrolled": false
   },
   "outputs": [
    {
     "name": "stdout",
     "output_type": "stream",
     "text": [
      "torch.Size([16, 1, 18, 96])\n",
      "tensor([ 8.,  0.,  9.,  7.,  2.,  1.,  9.,  5., 11.,  9.,  5.,  9.,  1.,  1.,\n",
      "         1., 11.])\n"
     ]
    }
   ],
   "source": [
    "for i, (images, labels) in enumerate(train_loader):\n",
    "    print(images.shape)\n",
    "    print(labels)\n",
    "    break"
   ]
  },
  {
   "cell_type": "markdown",
   "metadata": {},
   "source": [
    "The CNN architecture is: 16C5$\\times$5-S2$\\times$2-32C5$\\times$5"
   ]
  },
  {
   "cell_type": "code",
   "execution_count": 21,
   "metadata": {
    "ExecuteTime": {
     "end_time": "2021-04-29T19:30:16.552067Z",
     "start_time": "2021-04-29T19:30:16.529114Z"
    }
   },
   "outputs": [],
   "source": [
    "# Layers parameters:\n",
    "original_image_length = 18\n",
    "original_image_width = 96 ### [32 <- 96] / [64<-192]/ [128<-384] or single [32 <- 32] / [64<-64]/ [128<-128]\n",
    "max_pool1_kernel_size = 2\n",
    "final_image_length = int(original_image_length / max_pool1_kernel_size)\n",
    "final_image_width = int(original_image_width / max_pool1_kernel_size)\n",
    "channels_L1 = 16\n",
    "channels_L2 = 32\n",
    "nodes_FC1 = 3000\n",
    "nodes_FC2 = 12 # The number should equal to the number of label types !!!\n",
    "\n",
    "class ConvNet(nn.Module):\n",
    "    def __init__(self):\n",
    "        super(ConvNet, self).__init__()\n",
    "        self.layer1 = nn.Sequential(\n",
    "            nn.Conv2d(1, channels_L1, kernel_size=7, stride=1, padding=3),\n",
    "            nn.ReLU(),\n",
    "            nn.MaxPool2d(kernel_size = max_pool1_kernel_size, stride = 2))\n",
    "        self.layer2 = nn.Sequential(\n",
    "            nn.Conv2d(channels_L1, channels_L2, kernel_size=7, stride=1, padding=3),\n",
    "            nn.ReLU())\n",
    "        self.drop_out = nn.Dropout()\n",
    "        self.fc1 = nn.Linear(final_image_length * final_image_width * channels_L2, nodes_FC1)\n",
    "        self.fc2 = nn.Linear(nodes_FC1, nodes_FC2)\n",
    "    \n",
    "    def forward(self, x):\n",
    "        out = self.layer1(x)\n",
    "        out = self.layer2(out)\n",
    "        out = out.reshape(out.size(0), -1)\n",
    "        out = self.drop_out(out)\n",
    "        out = self.fc1(out)\n",
    "        out = self.fc2(out)\n",
    "        return out"
   ]
  },
  {
   "cell_type": "code",
   "execution_count": 22,
   "metadata": {
    "ExecuteTime": {
     "end_time": "2021-04-29T19:30:17.354046Z",
     "start_time": "2021-04-29T19:30:17.039388Z"
    }
   },
   "outputs": [],
   "source": [
    "# Choose CPU or GPU\n",
    "# model = ConvNet() #CPU\n",
    "device = torch.device(\"cuda:0\" if torch.cuda.is_available() else \"cpu\")\n",
    "model = ConvNet().to(device) #GPU\n",
    "\n",
    "# Hyperparameter\n",
    "num_epochs = 10\n",
    "learning_rate = 0.00001\n",
    "weight_decay = 0.001\n",
    "# Loss and optimizer\n",
    "criterion = nn.CrossEntropyLoss()\n",
    "optimizer = optim.Adam(model.parameters(), lr=learning_rate, weight_decay=weight_decay) #Adding Weight Decay here is equivalent to adding L2 regularization"
   ]
  },
  {
   "cell_type": "code",
   "execution_count": 23,
   "metadata": {
    "ExecuteTime": {
     "end_time": "2021-04-29T20:25:05.044696Z",
     "start_time": "2021-04-29T19:30:18.343910Z"
    },
    "scrolled": true
   },
   "outputs": [
    {
     "name": "stdout",
     "output_type": "stream",
     "text": [
      "Epoch [1/10], Step [2000/7682], Loss: 3.3870, Accuracy: 25.00%\n",
      "Epoch [1/10], Step [4000/7682], Loss: 1.6028, Accuracy: 50.00%\n",
      "Epoch [1/10], Step [6000/7682], Loss: 1.5630, Accuracy: 56.25%\n",
      "Epoch [2/10], Step [2000/7682], Loss: 2.4431, Accuracy: 37.50%\n",
      "Epoch [2/10], Step [4000/7682], Loss: 1.7451, Accuracy: 31.25%\n",
      "Epoch [2/10], Step [6000/7682], Loss: 1.8429, Accuracy: 43.75%\n",
      "Epoch [3/10], Step [2000/7682], Loss: 1.3457, Accuracy: 31.25%\n",
      "Epoch [3/10], Step [4000/7682], Loss: 1.5305, Accuracy: 37.50%\n",
      "Epoch [3/10], Step [6000/7682], Loss: 1.3401, Accuracy: 37.50%\n",
      "Epoch [4/10], Step [2000/7682], Loss: 1.2952, Accuracy: 50.00%\n",
      "Epoch [4/10], Step [4000/7682], Loss: 1.2605, Accuracy: 50.00%\n",
      "Epoch [4/10], Step [6000/7682], Loss: 1.5831, Accuracy: 43.75%\n",
      "Epoch [5/10], Step [2000/7682], Loss: 1.5372, Accuracy: 50.00%\n",
      "Epoch [5/10], Step [4000/7682], Loss: 1.8085, Accuracy: 31.25%\n",
      "Epoch [5/10], Step [6000/7682], Loss: 1.4583, Accuracy: 50.00%\n",
      "Epoch [6/10], Step [2000/7682], Loss: 1.3295, Accuracy: 56.25%\n",
      "Epoch [6/10], Step [4000/7682], Loss: 1.0778, Accuracy: 56.25%\n",
      "Epoch [6/10], Step [6000/7682], Loss: 1.3752, Accuracy: 50.00%\n",
      "Epoch [7/10], Step [2000/7682], Loss: 1.1778, Accuracy: 50.00%\n",
      "Epoch [7/10], Step [4000/7682], Loss: 1.2133, Accuracy: 56.25%\n",
      "Epoch [7/10], Step [6000/7682], Loss: 1.7802, Accuracy: 37.50%\n",
      "Epoch [8/10], Step [2000/7682], Loss: 1.5977, Accuracy: 56.25%\n",
      "Epoch [8/10], Step [4000/7682], Loss: 0.9501, Accuracy: 62.50%\n",
      "Epoch [8/10], Step [6000/7682], Loss: 1.2265, Accuracy: 50.00%\n",
      "Epoch [9/10], Step [2000/7682], Loss: 1.0500, Accuracy: 68.75%\n",
      "Epoch [9/10], Step [4000/7682], Loss: 1.0053, Accuracy: 62.50%\n",
      "Epoch [9/10], Step [6000/7682], Loss: 1.1399, Accuracy: 56.25%\n",
      "Epoch [10/10], Step [2000/7682], Loss: 1.1561, Accuracy: 62.50%\n",
      "Epoch [10/10], Step [4000/7682], Loss: 1.2872, Accuracy: 50.00%\n",
      "Epoch [10/10], Step [6000/7682], Loss: 1.2043, Accuracy: 62.50%\n"
     ]
    }
   ],
   "source": [
    "# Train the model on GPU\n",
    "total_step = len(train_loader)\n",
    "loss_list = []\n",
    "acc_list = []\n",
    "model.train()\n",
    "for epoch in range(num_epochs):\n",
    "    for i, (images, labels) in enumerate(train_loader):\n",
    "        # Run the forward pass\n",
    "        outputs = model(images.to(device))\n",
    "        loss = criterion(outputs, labels.to(device).long())\n",
    "        loss_list.append(loss.item())\n",
    "\n",
    "        # Backprop and perform Adam optimisation\n",
    "        optimizer.zero_grad()\n",
    "        loss.backward()\n",
    "        optimizer.step()\n",
    "\n",
    "        # Track the accuracy\n",
    "        total = labels.to(device).size(0)\n",
    "        _, predicted = torch.max(outputs.data, 1)\n",
    "        correct = (predicted == labels.to(device).long()).sum().item()\n",
    "        acc_list.append(correct / total)\n",
    "\n",
    "        if (i + 1) % 2000 == 0:\n",
    "            print('Epoch [{}/{}], Step [{}/{}], Loss: {:.4f}, Accuracy: {:.2f}%'\n",
    "                  .format(epoch + 1, num_epochs, i + 1, total_step, loss.item(),\n",
    "                          (correct / total) * 100))"
   ]
  },
  {
   "cell_type": "code",
   "execution_count": 24,
   "metadata": {
    "ExecuteTime": {
     "end_time": "2021-04-29T20:25:20.575635Z",
     "start_time": "2021-04-29T20:25:05.053672Z"
    }
   },
   "outputs": [
    {
     "name": "stdout",
     "output_type": "stream",
     "text": [
      "Test Accuracy of the model on the USCHAD test images: 58.84307248357824 %\n"
     ]
    },
    {
     "data": {
      "image/png": "[encoded data removed]",
      "text/plain": [
       "<Figure size 504x504 with 1 Axes>"
      ]
     },
     "metadata": {
      "needs_background": "light"
     },
     "output_type": "display_data"
    }
   ],
   "source": [
    "# Test the model on GPU\n",
    "model.eval()\n",
    "all_labels = []\n",
    "all_predictions = []\n",
    "with torch.no_grad():\n",
    "    correct = 0\n",
    "    total = 0\n",
    "    for images, labels in test_loader:\n",
    "        outputs = model(images.to(device))\n",
    "        _, predicted = torch.max(outputs.data, 1)\n",
    "        all_predictions.append(predicted)\n",
    "        all_labels.append(labels.to(device))\n",
    "        total += labels.size(0)\n",
    "        correct += (predicted == labels.to(device)).sum().item()\n",
    "\n",
    "    print('Test Accuracy of the model on the USCHAD test images: {} %'.format((correct / total) * 100))\n",
    "\n",
    "mat = metrics.confusion_matrix(torch.cat(all_predictions).cpu(), torch.cat(all_labels).cpu())\n",
    "plt.figure(figsize=(7,7))\n",
    "sns.heatmap(mat.T, square=True, annot=True, fmt='d', cbar=False,\n",
    "            xticklabels=classes, yticklabels=classes)\n",
    "plt.xlabel('true label')\n",
    "plt.ylabel('predicted label');"
   ]
  },
  {
   "cell_type": "code",
   "execution_count": null,
   "metadata": {},
   "outputs": [],
   "source": []
  }
 ],
 "metadata": {
  "kernelspec": {
   "display_name": "Python 3",
   "language": "python",
   "name": "python3"
  },
  "language_info": {
   "codemirror_mode": {
    "name": "ipython",
    "version": 3
   },
   "file_extension": ".py",
   "mimetype": "text/x-python",
   "name": "python",
   "nbconvert_exporter": "python",
   "pygments_lexer": "ipython3",
   "version": "3.8.3"
  }
 },
 "nbformat": 4,
 "nbformat_minor": 4
}
