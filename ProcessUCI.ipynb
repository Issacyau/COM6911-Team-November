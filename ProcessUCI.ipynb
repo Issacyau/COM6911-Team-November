{
 "cells": [
  {
   "cell_type": "markdown",
   "metadata": {},
   "source": [
    "# UCIHAR EDA"
   ]
  },
  {
   "cell_type": "code",
   "execution_count": null,
   "metadata": {},
   "outputs": [],
   "source": [
    "# PARAMETERS\n",
    "BASE_PATH = '../Data/UCI HAR/UCI HAR Dataset/' # Path to UCI dataset, explained in construct_UCI function\n",
    "window = 128\n",
    "overlap = 0"
   ]
  },
  {
   "cell_type": "code",
   "execution_count": 1,
   "metadata": {},
   "outputs": [],
   "source": [
    "# Imports\n",
    "import numpy as np\n",
    "import pandas as pd\n",
    "import re # for parsing files\n",
    "import matplotlib.pyplot as plt"
   ]
  },
  {
   "cell_type": "code",
   "execution_count": 2,
   "metadata": {},
   "outputs": [],
   "source": [
    "# Need to convert to float from scientific num notation\n",
    "def sci2float(string_rep):\n",
    "    '''Convert string of the form \"x.xxxxe+/-xxx\" to a float'''\n",
    "    try:\n",
    "        return float(string_rep) # normally just works\n",
    "    except:\n",
    "        parts = re.split(r'e', string_rep)\n",
    "        coeff = float(parts[0])\n",
    "        if parts[1] == '':\n",
    "            return coeff\n",
    "        else:\n",
    "            exponent = int(parts[1])\n",
    "            return coeff*10**exponent"
   ]
  },
  {
   "cell_type": "markdown",
   "metadata": {},
   "source": [
    "Main function for scraping the .txt files. Each row represents one time window of observations for each sensor. e.g the first row of body_acc_x_test.txt is the first 128 measurements of that sensor. Some of the rows have more than 128 values so I've just taken the first 128 values (not sure this is the best approach)."
   ]
  },
  {
   "cell_type": "code",
   "execution_count": 3,
   "metadata": {},
   "outputs": [],
   "source": [
    "BASE_PATH = '../Data/UCI HAR/UCI HAR Dataset/'\n",
    "def construct_UCIHAR(path, window = 128, overlap = 0 ,isTest = False):\n",
    "    \"\"\"Builds dataframe for UCI dataset. Either test or train set based on isTest variable.\n",
    "    \n",
    "    Args:\n",
    "        path: (str) path to UCIHAR dataset folder, which should have following structure:\n",
    "            test\n",
    "               |---Inertial Signals\n",
    "               |   |---body_acc_x_test.txt\n",
    "               |   |---...\n",
    "               |   |---total_acc_z_test.txt\n",
    "               |---subject_test.txt\n",
    "            train\n",
    "               |---Ìnertial Signals\n",
    "               |   |---body_acc_x_train.txt\n",
    "               |   |---...\n",
    "               |   |---total_acc_z_test.txt\n",
    "               |---subject_train.txt\n",
    "        window: (int) number of observations per window \n",
    "        overlap: (float) percentage of observations which are shared between a window and the window after it\n",
    "        isTest: (bool) if true, gets the test set data, else gets training data. \n",
    "        \n",
    "    Returns:\n",
    "        data: pandas dataframe with following columns:\n",
    "            Subject: the subject whose activity is being measured\n",
    "            X_acc: array representing the X accelerometer signal over 128 measurements\n",
    "            Y_acc: see above\n",
    "            Z _acc: see above\n",
    "            X_gyr: array representing the X gyroscope signal over 128 measurements\n",
    "            Y_gyr: see above\n",
    "            Z_gyr: see above\n",
    "            X_tot: array representing the Z\n",
    "            Y_tot:\n",
    "            Z_tot: \n",
    "            Activity: the activity label of the 128 measurement interval.\n",
    "            Each row gives us the data from a timewindow of 2.56 seconds (128 measurements at 50Hz) with\n",
    "            the activity at that time.\n",
    "    \"\"\"\n",
    "    if isTest:\n",
    "        base_path = path + 'test/'\n",
    "        suffix = '_test.txt'\n",
    "    else:\n",
    "        base_path = path + 'train/'\n",
    "        suffix = '_train.txt'\n",
    "\n",
    "    sub_paths = ['subject',\n",
    "                 'Inertial Signals/body_acc_x',\n",
    "                 'Inertial Signals/body_acc_y', \n",
    "                 'Inertial Signals/body_acc_z',\n",
    "                 'Inertial Signals/body_gyro_x',\n",
    "                 'Inertial Signals/body_gyro_y',\n",
    "                 'Inertial Signals/body_gyro_z',\n",
    "                 'Inertial Signals/total_acc_x',\n",
    "                 'Inertial Signals/total_acc_y', \n",
    "                 'Inertial Signals/total_acc_z',\n",
    "                 'y']\n",
    "    \n",
    "    colnames = ['Subject', 'X_acc', 'Y_acc', 'Z_acc', 'X_gyr', 'Y_gyr', 'Z_gyr', 'X_tot', 'Y_tot', 'Z_tot', 'Activity']\n",
    "    datafiles = [base_path + sub_path + suffix for sub_path in sub_paths]\n",
    "    cols = {col: None for col in colnames}\n",
    "    for i, filepath in enumerate(datafiles):\n",
    "        column = []\n",
    "        with open(filepath) as file:\n",
    "            for entry in file:\n",
    "                data = re.findall(r'[\\w\\d.-]+', entry)\n",
    "                for j in range(int(128//(window*(1-overlap)))):\n",
    "                    window_start = int(np.floor(j*(window*(1-overlap))))\n",
    "                    window_end = window_start + window\n",
    "                    if len(data) == 1:\n",
    "                        column.append(data[0])\n",
    "                    else:\n",
    "                        data_conv = np.array([sci2float(point) for point in data])[window_start:window_end]\n",
    "                        column.append(data_conv)\n",
    "        cols[colnames[i]] = column\n",
    "        \n",
    "    data = pd.DataFrame.from_dict(cols)\n",
    "    \n",
    "    return data"
   ]
  },
  {
   "cell_type": "markdown",
   "metadata": {},
   "source": [
    "Then to construct the sensor dataframes, just do:"
   ]
  },
  {
   "cell_type": "code",
   "execution_count": 17,
   "metadata": {},
   "outputs": [],
   "source": [
    "train_data = construct_UCIHAR(BASE_PATH, window, overlap)\n",
    "test_data = construct_UCIHAR(BASE_PATH, window, overlap, isTest = True)"
   ]
  },
  {
   "cell_type": "code",
   "execution_count": 24,
   "metadata": {},
   "outputs": [
    {
     "data": {
      "text/html": [
       "<div>\n",
       "<style scoped>\n",
       "    .dataframe tbody tr th:only-of-type {\n",
       "        vertical-align: middle;\n",
       "    }\n",
       "\n",
       "    .dataframe tbody tr th {\n",
       "        vertical-align: top;\n",
       "    }\n",
       "\n",
       "    .dataframe thead th {\n",
       "        text-align: right;\n",
       "    }\n",
       "</style>\n",
       "<table border=\"1\" class=\"dataframe\">\n",
       "  <thead>\n",
       "    <tr style=\"text-align: right;\">\n",
       "      <th></th>\n",
       "      <th>Subject</th>\n",
       "      <th>X_acc</th>\n",
       "      <th>Y_acc</th>\n",
       "      <th>Z_acc</th>\n",
       "      <th>X_gyr</th>\n",
       "      <th>Y_gyr</th>\n",
       "      <th>Z_gyr</th>\n",
       "      <th>X_tot</th>\n",
       "      <th>Y_tot</th>\n",
       "      <th>Z_tot</th>\n",
       "      <th>Activity</th>\n",
       "    </tr>\n",
       "  </thead>\n",
       "  <tbody>\n",
       "    <tr>\n",
       "      <th>0</th>\n",
       "      <td>2</td>\n",
       "      <td>[0.01165315, 0.01310909, 0.01126885, 0.0278307...</td>\n",
       "      <td>[-0.02939904, -0.03972867, -0.05240586, -0.052...</td>\n",
       "      <td>[0.1068262, 0.1524549, 0.2168462, 0.2025812, 0...</td>\n",
       "      <td>[0.4374637, 0.4682641, 0.4982574, 0.4793957, 0...</td>\n",
       "      <td>[0.5313492, 0.7210685, 0.5203284, 0.3726252, 0...</td>\n",
       "      <td>[0.1365279, 0.09762239, 0.08355578, 0.02286101...</td>\n",
       "      <td>[1.041216, 0.0, 1.041803, 0.0, 1.039086, 0.0, ...</td>\n",
       "      <td>[-0.2697959, -0.280025, -0.2926631, -0.2923837...</td>\n",
       "      <td>[0.02377977, 0.07629271, 0.1474754, 0.1399061,...</td>\n",
       "      <td>5</td>\n",
       "    </tr>\n",
       "    <tr>\n",
       "      <th>1</th>\n",
       "      <td>2</td>\n",
       "      <td>[0.009279629, 0.004929711, 0.003953596, 0.0092...</td>\n",
       "      <td>[0.00665052, 0.01864973, 0.0155395, -0.0005741...</td>\n",
       "      <td>[-0.02631933, -0.02688753, -0.03663861, -0.045...</td>\n",
       "      <td>[0.1702878, 0.1752221, 0.1308618, 0.07885598, ...</td>\n",
       "      <td>[-0.06137388, -0.09536355, -0.1464495, -0.1261...</td>\n",
       "      <td>[0.05509624, 0.04334361, 0.05239831, 0.0597087...</td>\n",
       "      <td>[0.9991921, 0.9946787, 0.9935518, 0.9986743, 1...</td>\n",
       "      <td>[-0.2649349, -0.2532142, -0.2565887, -0.272951...</td>\n",
       "      <td>[0.1256164, 0.1256249, 0.1163814, 0.1075668, 0...</td>\n",
       "      <td>5</td>\n",
       "    </tr>\n",
       "    <tr>\n",
       "      <th>2</th>\n",
       "      <td>2</td>\n",
       "      <td>[0.005731945, 0.00706565, 0.005109758, 0.00243...</td>\n",
       "      <td>[0.007304842, 0.007330912, 0.007153458, 0.0066...</td>\n",
       "      <td>[0.01021286, 0.01341419, 0.003646559, -0.00767...</td>\n",
       "      <td>[-0.0387265, -0.04728239, -0.05390624, -0.0594...</td>\n",
       "      <td>[-0.06024968, -0.0517562, -0.05042757, -0.0472...</td>\n",
       "      <td>[0.02928903, 0.02536597, 0.02482575, 0.0217230...</td>\n",
       "      <td>[0.9975931, 0.9989703, 0.9970574, 0.9944241, 0...</td>\n",
       "      <td>[-0.2639912, -0.2638194, -0.2638495, -0.264179...</td>\n",
       "      <td>[0.1507741, 0.1539427, 0.1441536, 0.132821, 0....</td>\n",
       "      <td>5</td>\n",
       "    </tr>\n",
       "    <tr>\n",
       "      <th>3</th>\n",
       "      <td>2</td>\n",
       "      <td>[0.0004519467, 0.0006039382, -0.002484562, -0....</td>\n",
       "      <td>[-0.02380645, -0.02205069, -0.007101194, 0.004...</td>\n",
       "      <td>[-0.02700233, -0.02254782, -0.002648797, 0.022...</td>\n",
       "      <td>[-0.01012762, 0.00356441, -0.008478927, -0.027...</td>\n",
       "      <td>[0.003590409, 0.02460939, 0.02271388, -0.00596...</td>\n",
       "      <td>[0.008402927, -0.009533039, 0.001776758, 0.023...</td>\n",
       "      <td>[0.994564, 0.9947269, 0.9916483, 0.9895802, 0....</td>\n",
       "      <td>[-0.290593, -0.2888855, -0.2739894, -0.2620996...</td>\n",
       "      <td>[0.1111986, 0.1155026, 0.1352512, 0.1605266, 0...</td>\n",
       "      <td>5</td>\n",
       "    </tr>\n",
       "    <tr>\n",
       "      <th>4</th>\n",
       "      <td>2</td>\n",
       "      <td>[-0.004362379, -0.002765392, -0.004904784, -0....</td>\n",
       "      <td>[-0.009464754, -0.008671401, -0.006774347, -0....</td>\n",
       "      <td>[-0.00146104, 0.003182453, 0.004068636, 0.0024...</td>\n",
       "      <td>[-0.03666528, -0.0402769, -0.03994979, -0.0401...</td>\n",
       "      <td>[-0.03242742, -0.03796004, -0.04271361, -0.041...</td>\n",
       "      <td>[0.01398331, 0.02053516, 0.02336173, 0.0212167...</td>\n",
       "      <td>[0.9881504, 0.9897109, 0.9875351, 0.9877212, 0...</td>\n",
       "      <td>[-0.2838965, -0.2832349, -0.2814705, -0.282318...</td>\n",
       "      <td>[0.1338332, 0.1385116, 0.139431, 0.1378515, 0....</td>\n",
       "      <td>5</td>\n",
       "    </tr>\n",
       "    <tr>\n",
       "      <th>...</th>\n",
       "      <td>...</td>\n",
       "      <td>...</td>\n",
       "      <td>...</td>\n",
       "      <td>...</td>\n",
       "      <td>...</td>\n",
       "      <td>...</td>\n",
       "      <td>...</td>\n",
       "      <td>...</td>\n",
       "      <td>...</td>\n",
       "      <td>...</td>\n",
       "      <td>...</td>\n",
       "    </tr>\n",
       "    <tr>\n",
       "      <th>2942</th>\n",
       "      <td>24</td>\n",
       "      <td>[0.1076617, 0.1240792, 0.1834197, 0.2892469, 0...</td>\n",
       "      <td>[0.2614445, 0.2370627, 0.1160924, 0.01647622, ...</td>\n",
       "      <td>[-0.02376661, -0.02036587, -0.06957378, -0.173...</td>\n",
       "      <td>[-0.2106883, -0.2065051, -0.12338, -0.1026337,...</td>\n",
       "      <td>[-0.08991108, -0.1776506, -0.2146743, -0.05206...</td>\n",
       "      <td>[-0.1461478, -0.1019857, 0.005906554, 0.053772...</td>\n",
       "      <td>[1.06976, 0.0, 1.085756, 0.0, 1.144664, 0.0, 1...</td>\n",
       "      <td>[-0.02128328, -0.04631315, -0.1678209, -0.2678...</td>\n",
       "      <td>[-0.2473921, -0.2436013, -0.2924359, -0.395898...</td>\n",
       "      <td>2</td>\n",
       "    </tr>\n",
       "    <tr>\n",
       "      <th>2943</th>\n",
       "      <td>24</td>\n",
       "      <td>[-0.04239224, -0.01724368, 0.01526905, 0.06448...</td>\n",
       "      <td>[0.2253534, 0.2125078, 0.1916144, 0.2011919, 0...</td>\n",
       "      <td>[-0.04610807, -0.02918356, 0.004917604, 0.0294...</td>\n",
       "      <td>[-0.3867692, -0.3966365, -0.3883913, -0.355283...</td>\n",
       "      <td>[-0.08428651, -0.1056109, -0.1009386, -0.11215...</td>\n",
       "      <td>[0.03149592, 0.06744689, 0.06434101, 0.0464688...</td>\n",
       "      <td>[0.9265256, 0.9514418, 0.9836655, 1.032538, 0....</td>\n",
       "      <td>[-0.03038519, -0.04334551, -0.06432124, -0.054...</td>\n",
       "      <td>[-0.2757103, -0.2584891, -0.2241095, -0.199280...</td>\n",
       "      <td>2</td>\n",
       "    </tr>\n",
       "    <tr>\n",
       "      <th>2944</th>\n",
       "      <td>24</td>\n",
       "      <td>[-0.1476465, -0.1699026, -0.168698, -0.1385999...</td>\n",
       "      <td>[0.005519791, 0.03235187, 0.07826144, 0.117863...</td>\n",
       "      <td>[0.01025031, 0.02632373, -0.02703439, -0.05588...</td>\n",
       "      <td>[0.8457912, 0.8385992, 0.8132189, 0.8194174, 0...</td>\n",
       "      <td>[0.06672695, -0.2486773, -0.448804, -0.4360164...</td>\n",
       "      <td>[-0.7659807, -0.8401374, -0.857202, -0.801947,...</td>\n",
       "      <td>[0.8213505, 0.7991996, 0.8004623, 0.8305666, 0...</td>\n",
       "      <td>[-0.2484623, -0.2232599, -0.179017, -0.141108,...</td>\n",
       "      <td>[-0.2216934, -0.2045561, -0.2568719, -0.284702...</td>\n",
       "      <td>2</td>\n",
       "    </tr>\n",
       "    <tr>\n",
       "      <th>2945</th>\n",
       "      <td>24</td>\n",
       "      <td>[0.07122683, -0.0886653, -0.07067473, -0.11688...</td>\n",
       "      <td>[-0.1498122, -0.03755543, -0.01615178, -0.0038...</td>\n",
       "      <td>[-0.1659306, -0.08708159, 0.01401189, 0.044865...</td>\n",
       "      <td>[-0.8444065, -0.6438182, -0.5957706, -0.386011...</td>\n",
       "      <td>[0.3994681, 0.2690953, 0.2522084, 0.2428801, 0...</td>\n",
       "      <td>[-0.5342947, -0.7094171, -0.7025197, -0.609518...</td>\n",
       "      <td>[1.037668, 0.0, 0.8780725, 0.8963897, 0.850527...</td>\n",
       "      <td>[-0.3971532, -0.2848634, -0.2635297, -0.251370...</td>\n",
       "      <td>[-0.3940817, -0.3151097, -0.213904, -0.1829508...</td>\n",
       "      <td>2</td>\n",
       "    </tr>\n",
       "    <tr>\n",
       "      <th>2946</th>\n",
       "      <td>24</td>\n",
       "      <td>[-0.1936425, -0.06498738, -0.0971221, -0.05573...</td>\n",
       "      <td>[-0.1907511, -0.203599, -0.2083832, -0.176824,...</td>\n",
       "      <td>[0.1958357, -0.15314, -0.2710627, -0.3053436, ...</td>\n",
       "      <td>[-0.3324763, -0.3165543, -0.5837689, -0.769853...</td>\n",
       "      <td>[-1.093888, 0.0, -1.066005, 0.0, -0.5695502, -...</td>\n",
       "      <td>[-0.1398256, -0.1855697, -0.2221543, -0.323056...</td>\n",
       "      <td>[0.7713622, 0.9000949, 0.8681034, 0.9096898, 1...</td>\n",
       "      <td>[-0.4250499, -0.4375916, -0.4421595, -0.410478...</td>\n",
       "      <td>[-0.05327655, -0.4020727, -0.5197379, -0.55369...</td>\n",
       "      <td>2</td>\n",
       "    </tr>\n",
       "  </tbody>\n",
       "</table>\n",
       "<p>2947 rows × 11 columns</p>\n",
       "</div>"
      ],
      "text/plain": [
       "     Subject                                              X_acc  \\\n",
       "0          2  [0.01165315, 0.01310909, 0.01126885, 0.0278307...   \n",
       "1          2  [0.009279629, 0.004929711, 0.003953596, 0.0092...   \n",
       "2          2  [0.005731945, 0.00706565, 0.005109758, 0.00243...   \n",
       "3          2  [0.0004519467, 0.0006039382, -0.002484562, -0....   \n",
       "4          2  [-0.004362379, -0.002765392, -0.004904784, -0....   \n",
       "...      ...                                                ...   \n",
       "2942      24  [0.1076617, 0.1240792, 0.1834197, 0.2892469, 0...   \n",
       "2943      24  [-0.04239224, -0.01724368, 0.01526905, 0.06448...   \n",
       "2944      24  [-0.1476465, -0.1699026, -0.168698, -0.1385999...   \n",
       "2945      24  [0.07122683, -0.0886653, -0.07067473, -0.11688...   \n",
       "2946      24  [-0.1936425, -0.06498738, -0.0971221, -0.05573...   \n",
       "\n",
       "                                                  Y_acc  \\\n",
       "0     [-0.02939904, -0.03972867, -0.05240586, -0.052...   \n",
       "1     [0.00665052, 0.01864973, 0.0155395, -0.0005741...   \n",
       "2     [0.007304842, 0.007330912, 0.007153458, 0.0066...   \n",
       "3     [-0.02380645, -0.02205069, -0.007101194, 0.004...   \n",
       "4     [-0.009464754, -0.008671401, -0.006774347, -0....   \n",
       "...                                                 ...   \n",
       "2942  [0.2614445, 0.2370627, 0.1160924, 0.01647622, ...   \n",
       "2943  [0.2253534, 0.2125078, 0.1916144, 0.2011919, 0...   \n",
       "2944  [0.005519791, 0.03235187, 0.07826144, 0.117863...   \n",
       "2945  [-0.1498122, -0.03755543, -0.01615178, -0.0038...   \n",
       "2946  [-0.1907511, -0.203599, -0.2083832, -0.176824,...   \n",
       "\n",
       "                                                  Z_acc  \\\n",
       "0     [0.1068262, 0.1524549, 0.2168462, 0.2025812, 0...   \n",
       "1     [-0.02631933, -0.02688753, -0.03663861, -0.045...   \n",
       "2     [0.01021286, 0.01341419, 0.003646559, -0.00767...   \n",
       "3     [-0.02700233, -0.02254782, -0.002648797, 0.022...   \n",
       "4     [-0.00146104, 0.003182453, 0.004068636, 0.0024...   \n",
       "...                                                 ...   \n",
       "2942  [-0.02376661, -0.02036587, -0.06957378, -0.173...   \n",
       "2943  [-0.04610807, -0.02918356, 0.004917604, 0.0294...   \n",
       "2944  [0.01025031, 0.02632373, -0.02703439, -0.05588...   \n",
       "2945  [-0.1659306, -0.08708159, 0.01401189, 0.044865...   \n",
       "2946  [0.1958357, -0.15314, -0.2710627, -0.3053436, ...   \n",
       "\n",
       "                                                  X_gyr  \\\n",
       "0     [0.4374637, 0.4682641, 0.4982574, 0.4793957, 0...   \n",
       "1     [0.1702878, 0.1752221, 0.1308618, 0.07885598, ...   \n",
       "2     [-0.0387265, -0.04728239, -0.05390624, -0.0594...   \n",
       "3     [-0.01012762, 0.00356441, -0.008478927, -0.027...   \n",
       "4     [-0.03666528, -0.0402769, -0.03994979, -0.0401...   \n",
       "...                                                 ...   \n",
       "2942  [-0.2106883, -0.2065051, -0.12338, -0.1026337,...   \n",
       "2943  [-0.3867692, -0.3966365, -0.3883913, -0.355283...   \n",
       "2944  [0.8457912, 0.8385992, 0.8132189, 0.8194174, 0...   \n",
       "2945  [-0.8444065, -0.6438182, -0.5957706, -0.386011...   \n",
       "2946  [-0.3324763, -0.3165543, -0.5837689, -0.769853...   \n",
       "\n",
       "                                                  Y_gyr  \\\n",
       "0     [0.5313492, 0.7210685, 0.5203284, 0.3726252, 0...   \n",
       "1     [-0.06137388, -0.09536355, -0.1464495, -0.1261...   \n",
       "2     [-0.06024968, -0.0517562, -0.05042757, -0.0472...   \n",
       "3     [0.003590409, 0.02460939, 0.02271388, -0.00596...   \n",
       "4     [-0.03242742, -0.03796004, -0.04271361, -0.041...   \n",
       "...                                                 ...   \n",
       "2942  [-0.08991108, -0.1776506, -0.2146743, -0.05206...   \n",
       "2943  [-0.08428651, -0.1056109, -0.1009386, -0.11215...   \n",
       "2944  [0.06672695, -0.2486773, -0.448804, -0.4360164...   \n",
       "2945  [0.3994681, 0.2690953, 0.2522084, 0.2428801, 0...   \n",
       "2946  [-1.093888, 0.0, -1.066005, 0.0, -0.5695502, -...   \n",
       "\n",
       "                                                  Z_gyr  \\\n",
       "0     [0.1365279, 0.09762239, 0.08355578, 0.02286101...   \n",
       "1     [0.05509624, 0.04334361, 0.05239831, 0.0597087...   \n",
       "2     [0.02928903, 0.02536597, 0.02482575, 0.0217230...   \n",
       "3     [0.008402927, -0.009533039, 0.001776758, 0.023...   \n",
       "4     [0.01398331, 0.02053516, 0.02336173, 0.0212167...   \n",
       "...                                                 ...   \n",
       "2942  [-0.1461478, -0.1019857, 0.005906554, 0.053772...   \n",
       "2943  [0.03149592, 0.06744689, 0.06434101, 0.0464688...   \n",
       "2944  [-0.7659807, -0.8401374, -0.857202, -0.801947,...   \n",
       "2945  [-0.5342947, -0.7094171, -0.7025197, -0.609518...   \n",
       "2946  [-0.1398256, -0.1855697, -0.2221543, -0.323056...   \n",
       "\n",
       "                                                  X_tot  \\\n",
       "0     [1.041216, 0.0, 1.041803, 0.0, 1.039086, 0.0, ...   \n",
       "1     [0.9991921, 0.9946787, 0.9935518, 0.9986743, 1...   \n",
       "2     [0.9975931, 0.9989703, 0.9970574, 0.9944241, 0...   \n",
       "3     [0.994564, 0.9947269, 0.9916483, 0.9895802, 0....   \n",
       "4     [0.9881504, 0.9897109, 0.9875351, 0.9877212, 0...   \n",
       "...                                                 ...   \n",
       "2942  [1.06976, 0.0, 1.085756, 0.0, 1.144664, 0.0, 1...   \n",
       "2943  [0.9265256, 0.9514418, 0.9836655, 1.032538, 0....   \n",
       "2944  [0.8213505, 0.7991996, 0.8004623, 0.8305666, 0...   \n",
       "2945  [1.037668, 0.0, 0.8780725, 0.8963897, 0.850527...   \n",
       "2946  [0.7713622, 0.9000949, 0.8681034, 0.9096898, 1...   \n",
       "\n",
       "                                                  Y_tot  \\\n",
       "0     [-0.2697959, -0.280025, -0.2926631, -0.2923837...   \n",
       "1     [-0.2649349, -0.2532142, -0.2565887, -0.272951...   \n",
       "2     [-0.2639912, -0.2638194, -0.2638495, -0.264179...   \n",
       "3     [-0.290593, -0.2888855, -0.2739894, -0.2620996...   \n",
       "4     [-0.2838965, -0.2832349, -0.2814705, -0.282318...   \n",
       "...                                                 ...   \n",
       "2942  [-0.02128328, -0.04631315, -0.1678209, -0.2678...   \n",
       "2943  [-0.03038519, -0.04334551, -0.06432124, -0.054...   \n",
       "2944  [-0.2484623, -0.2232599, -0.179017, -0.141108,...   \n",
       "2945  [-0.3971532, -0.2848634, -0.2635297, -0.251370...   \n",
       "2946  [-0.4250499, -0.4375916, -0.4421595, -0.410478...   \n",
       "\n",
       "                                                  Z_tot Activity  \n",
       "0     [0.02377977, 0.07629271, 0.1474754, 0.1399061,...        5  \n",
       "1     [0.1256164, 0.1256249, 0.1163814, 0.1075668, 0...        5  \n",
       "2     [0.1507741, 0.1539427, 0.1441536, 0.132821, 0....        5  \n",
       "3     [0.1111986, 0.1155026, 0.1352512, 0.1605266, 0...        5  \n",
       "4     [0.1338332, 0.1385116, 0.139431, 0.1378515, 0....        5  \n",
       "...                                                 ...      ...  \n",
       "2942  [-0.2473921, -0.2436013, -0.2924359, -0.395898...        2  \n",
       "2943  [-0.2757103, -0.2584891, -0.2241095, -0.199280...        2  \n",
       "2944  [-0.2216934, -0.2045561, -0.2568719, -0.284702...        2  \n",
       "2945  [-0.3940817, -0.3151097, -0.213904, -0.1829508...        2  \n",
       "2946  [-0.05327655, -0.4020727, -0.5197379, -0.55369...        2  \n",
       "\n",
       "[2947 rows x 11 columns]"
      ]
     },
     "execution_count": 24,
     "metadata": {},
     "output_type": "execute_result"
    }
   ],
   "source": [
    "test_data"
   ]
  },
  {
   "cell_type": "markdown",
   "metadata": {},
   "source": [
    "Need to carry over this transform so we have a key of which activity is which vector representation (by using label_encoder.inverse_transform)"
   ]
  },
  {
   "cell_type": "code",
   "execution_count": 18,
   "metadata": {},
   "outputs": [],
   "source": [
    "# Implementation of Jiang and Yin's algorithm\n",
    "def layering_alg(signals):\n",
    "    i = 0\n",
    "    j = i + 1\n",
    "    Ns = len(signals)\n",
    "    SI = [signals[i]]\n",
    "    SIS = str(i)\n",
    "    while len(SIS) < Ns*(Ns-1)/2:\n",
    "        while i != j:\n",
    "            if j > Ns - 1:\n",
    "                j = 0\n",
    "            elif (str(i) + str(j) not in SIS) and (str(j) + str(i) not in SIS) and (i != j):\n",
    "                SI.append(signals[j])\n",
    "                SIS += str(j)\n",
    "                i = int(SIS[-1])\n",
    "                j = i + 1\n",
    "            else:\n",
    "                j = j + 1\n",
    "        i += 1\n",
    "    return np.array(SI)"
   ]
  },
  {
   "cell_type": "code",
   "execution_count": 14,
   "metadata": {},
   "outputs": [
    {
     "data": {
      "text/plain": [
       "37"
      ]
     },
     "execution_count": 14,
     "metadata": {},
     "output_type": "execute_result"
    }
   ],
   "source": [
    "len(layering_alg(range(9)))"
   ]
  },
  {
   "cell_type": "markdown",
   "metadata": {},
   "source": [
    "Now we generate the base activity image arrays row by row over the dataframe."
   ]
  },
  {
   "cell_type": "code",
   "execution_count": 25,
   "metadata": {
    "scrolled": true
   },
   "outputs": [],
   "source": [
    "columns = ['X_acc', 'Y_acc', 'Z_acc', 'X_gyr', 'Y_gyr', 'Z_gyr', 'X_tot', 'Y_tot', 'Z_tot']\n",
    "\n",
    "def activity_image(row, columns, resolution = 1):\n",
    "    indices = layering_alg(columns)[:-1]\n",
    "    activity_image = np.vstack([row[col] for col in indices])\n",
    "    activity_image_rescaled = np.empty(shape = [shape * resolution for shape in activity_image.shape])\n",
    "    for i in range(resolution):\n",
    "        for j in range(resolution):\n",
    "            activity_image_rescaled[i::resolution, j::resolution] = activity_image\n",
    "    return activity_image_rescaled\n",
    "\n",
    "def build_features(data, window_size, feature_cols, resolution = 1):\n",
    "    height = (len(layering_alg(feature_cols)) - 1) * resolution\n",
    "    width = window_size * resolution\n",
    "    features = np.empty(shape = (len(data), height, width))\n",
    "    for i, window in data.iterrows():\n",
    "        features[i, :, :] = activity_image(window, columns, resolution)\n",
    "    return features\n",
    "\n",
    "train_features = build_features(train_data, 128, columns)\n",
    "train_labels = train_data['Activity'].to_numpy()\n",
    "test_features = build_features(test_data, 128, columns)\n",
    "test_labels = test_data['Activity'].to_numpy()"
   ]
  },
  {
   "cell_type": "code",
   "execution_count": null,
   "metadata": {},
   "outputs": [],
   "source": [
    "plt.figure(figsize = (18, 7))\n",
    "plt.imshow(-train_features[100], cmap = 'Greys')\n",
    "plt.show()"
   ]
  },
  {
   "cell_type": "markdown",
   "metadata": {},
   "source": [
    "Need to apply the 2D discrete fourier transform and take the absolute value, since result is complex and we want the magnitude. The shape of the output of this is the same as the input. By default `np.fft.fft2` uses the last two dimensions, which is what we want."
   ]
  },
  {
   "cell_type": "code",
   "execution_count": 27,
   "metadata": {},
   "outputs": [],
   "source": [
    "train_features_fft = np.abs(np.fft.fft2(train_features))\n",
    "test_features_fft = np.abs(np.fft.fft2(test_features))"
   ]
  },
  {
   "cell_type": "code",
   "execution_count": 30,
   "metadata": {},
   "outputs": [
    {
     "data": {
      "image/png": "[encoded data removed]",
      "text/plain": [
       "<Figure size 1296x504 with 1 Axes>"
      ]
     },
     "metadata": {
      "needs_background": "light"
     },
     "output_type": "display_data"
    }
   ],
   "source": [
    "plt.figure(figsize = (18, 7))\n",
    "plt.imshow(-train_features_fft[100], cmap = 'Greys') # negative so the darker values represent higher numbers.\n",
    "plt.show()"
   ]
  },
  {
   "cell_type": "markdown",
   "metadata": {},
   "source": [
    "Some images look less interesting since the values are so small, so when you plot as image most of the values go to 0. This isn't a problem (I don't think). For example:"
   ]
  },
  {
   "cell_type": "code",
   "execution_count": 56,
   "metadata": {},
   "outputs": [
    {
     "name": "stdout",
     "output_type": "stream",
     "text": [
      "[2.70680630e+02 1.46946698e+01 7.43824836e+00 4.86077705e+00\n",
      " 5.08602966e+00 2.75182188e+00 2.52737309e+00 2.73102394e+00\n",
      " 2.73612354e+00 8.74957552e-01 1.55879799e+00 1.56894688e+00\n",
      " 1.37741090e+00 5.52211054e-01 1.20342205e+00 5.24817568e-01\n",
      " 4.02251303e-01 6.38655936e-01 1.16694381e+00 4.95318823e-01\n",
      " 5.45574261e-01 5.70792799e-01 6.82680323e-01 1.27197650e+00\n",
      " 1.01872554e+00 4.45993675e-01 3.08730338e-01 5.44750419e-01\n",
      " 8.05053903e-01 5.84600633e-01 1.46558485e-01 7.16332851e-01\n",
      " 4.19016200e-01 4.64670467e-01 6.98076644e-01 3.35296704e-01\n",
      " 5.18531482e-01 1.51365169e-01 2.79280171e-01 3.04116472e-01\n",
      " 3.25282502e-01 2.24065623e-01 2.10203116e-01 4.01921364e-01\n",
      " 3.97092408e-01 4.45123311e-01 3.20562886e-01 6.17445954e-01\n",
      " 4.27176391e-01 7.50033064e-01 8.45911726e-01 8.79467116e-01\n",
      " 5.80869333e-01 5.68711786e-01 3.01247437e-01 2.98580444e-01\n",
      " 3.26861157e-01 3.30400317e-01 3.06283983e-01 3.38368451e-01\n",
      " 2.67772712e-01 3.16661922e-01 3.30081853e-01 3.18616407e-01\n",
      " 2.61260784e+02 3.18616407e-01 3.30081853e-01 3.16661922e-01\n",
      " 2.67772712e-01 3.38368451e-01 3.06283983e-01 3.30400317e-01\n",
      " 3.26861157e-01 2.98580444e-01 3.01247437e-01 5.68711786e-01\n",
      " 5.80869333e-01 8.79467116e-01 8.45911726e-01 7.50033064e-01\n",
      " 4.27176391e-01 6.17445954e-01 3.20562886e-01 4.45123311e-01\n",
      " 3.97092408e-01 4.01921364e-01 2.10203116e-01 2.24065623e-01\n",
      " 3.25282502e-01 3.04116472e-01 2.79280171e-01 1.51365169e-01\n",
      " 5.18531482e-01 3.35296704e-01 6.98076644e-01 4.64670467e-01\n",
      " 4.19016200e-01 7.16332851e-01 1.46558485e-01 5.84600633e-01\n",
      " 8.05053903e-01 5.44750419e-01 3.08730338e-01 4.45993675e-01\n",
      " 1.01872554e+00 1.27197650e+00 6.82680323e-01 5.70792799e-01\n",
      " 5.45574261e-01 4.95318823e-01 1.16694381e+00 6.38655936e-01\n",
      " 4.02251303e-01 5.24817568e-01 1.20342205e+00 5.52211054e-01\n",
      " 1.37741090e+00 1.56894688e+00 1.55879799e+00 8.74957552e-01\n",
      " 2.73612354e+00 2.73102394e+00 2.52737309e+00 2.75182188e+00\n",
      " 5.08602966e+00 4.86077705e+00 7.43824836e+00 1.46946698e+01]\n"
     ]
    },
    {
     "data": {
      "image/png": "[encoded data removed]",
      "text/plain": [
       "<Figure size 1296x504 with 1 Axes>"
      ]
     },
     "metadata": {
      "needs_background": "light"
     },
     "output_type": "display_data"
    }
   ],
   "source": [
    "print(train_features_fft[0][0]) # top row of the first image.\n",
    "plt.figure(figsize = (18, 7))\n",
    "plt.imshow(-train_features_fft[0], cmap = 'Greys')\n",
    "plt.show()"
   ]
  },
  {
   "cell_type": "markdown",
   "metadata": {},
   "source": [
    "Now our final features and labels, which will be fed into our CNN and LSTM models, are `train_features_fft` and `train_labels` respectively. The approach with the dataframe as the intermediate step isn't important, so long as the final results are in this form. Just did it that way to help me understand the data."
   ]
  },
  {
   "cell_type": "code",
   "execution_count": 29,
   "metadata": {},
   "outputs": [
    {
     "name": "stdout",
     "output_type": "stream",
     "text": [
      "(2947, 36, 128)\n",
      "(2947,)\n"
     ]
    }
   ],
   "source": [
    "print(test_features_fft.shape)\n",
    "print(test_labels.shape)"
   ]
  },
  {
   "cell_type": "markdown",
   "metadata": {},
   "source": [
    "## Saving the models"
   ]
  },
  {
   "cell_type": "markdown",
   "metadata": {},
   "source": [
    "First we want to apply the same process to our test data:"
   ]
  },
  {
   "cell_type": "code",
   "execution_count": 58,
   "metadata": {},
   "outputs": [],
   "source": [
    "test_features = np.empty(shape = (len(test_data), 36, 128))\n",
    "for i, window in test_data.iterrows():\n",
    "    test_features[i, :, :] = activity_image(window, columns)\n",
    "    \n",
    "test_features_fft = np.abs(np.fft.fft2(train_features))"
   ]
  },
  {
   "cell_type": "code",
   "execution_count": 59,
   "metadata": {},
   "outputs": [],
   "source": [
    "test_labels = label_encoder.transform(test_data['Activity'])"
   ]
  },
  {
   "cell_type": "markdown",
   "metadata": {},
   "source": [
    "Now save the models:"
   ]
  },
  {
   "cell_type": "code",
   "execution_count": 31,
   "metadata": {},
   "outputs": [],
   "source": [
    "np.save('../Data/UCI_train_features.npy', train_features_fft)\n",
    "np.save('../Data/UCI_train_features_raw.npy', train_features)\n",
    "np.save('../Data/UCI_train_labels.npy', train_labels)\n",
    "np.save('../Data/UCI_test_features.npy', test_features_fft)\n",
    "np.save('../Data/UCI_test_features_raw.npy', test_features)\n",
    "np.save('../Data/UCI_test_labels.npy', test_labels)"
   ]
  },
  {
   "cell_type": "markdown",
   "metadata": {},
   "source": [
    "To load data, simply do:"
   ]
  },
  {
   "cell_type": "code",
   "execution_count": 61,
   "metadata": {
    "scrolled": true
   },
   "outputs": [
    {
     "name": "stdout",
     "output_type": "stream",
     "text": [
      "[[[ True  True  True ...  True  True  True]\n",
      "  [ True  True  True ...  True  True  True]\n",
      "  [ True  True  True ...  True  True  True]\n",
      "  ...\n",
      "  [ True  True  True ...  True  True  True]\n",
      "  [ True  True  True ...  True  True  True]\n",
      "  [ True  True  True ...  True  True  True]]\n",
      "\n",
      " [[ True  True  True ...  True  True  True]\n",
      "  [ True  True  True ...  True  True  True]\n",
      "  [ True  True  True ...  True  True  True]\n",
      "  ...\n",
      "  [ True  True  True ...  True  True  True]\n",
      "  [ True  True  True ...  True  True  True]\n",
      "  [ True  True  True ...  True  True  True]]\n",
      "\n",
      " [[ True  True  True ...  True  True  True]\n",
      "  [ True  True  True ...  True  True  True]\n",
      "  [ True  True  True ...  True  True  True]\n",
      "  ...\n",
      "  [ True  True  True ...  True  True  True]\n",
      "  [ True  True  True ...  True  True  True]\n",
      "  [ True  True  True ...  True  True  True]]\n",
      "\n",
      " ...\n",
      "\n",
      " [[ True  True  True ...  True  True  True]\n",
      "  [ True  True  True ...  True  True  True]\n",
      "  [ True  True  True ...  True  True  True]\n",
      "  ...\n",
      "  [ True  True  True ...  True  True  True]\n",
      "  [ True  True  True ...  True  True  True]\n",
      "  [ True  True  True ...  True  True  True]]\n",
      "\n",
      " [[ True  True  True ...  True  True  True]\n",
      "  [ True  True  True ...  True  True  True]\n",
      "  [ True  True  True ...  True  True  True]\n",
      "  ...\n",
      "  [ True  True  True ...  True  True  True]\n",
      "  [ True  True  True ...  True  True  True]\n",
      "  [ True  True  True ...  True  True  True]]\n",
      "\n",
      " [[ True  True  True ...  True  True  True]\n",
      "  [ True  True  True ...  True  True  True]\n",
      "  [ True  True  True ...  True  True  True]\n",
      "  ...\n",
      "  [ True  True  True ...  True  True  True]\n",
      "  [ True  True  True ...  True  True  True]\n",
      "  [ True  True  True ...  True  True  True]]]\n"
     ]
    }
   ],
   "source": [
    "reloaded_train_features_fft = np.load('UCI_train_features.npy')\n",
    "print(reloaded_train_features_fft == train_features_fft) # Show they are identical"
   ]
  }
 ],
 "metadata": {
  "kernelspec": {
   "display_name": "Python 3",
   "language": "python",
   "name": "python3"
  },
  "language_info": {
   "codemirror_mode": {
    "name": "ipython",
    "version": 3
   },
   "file_extension": ".py",
   "mimetype": "text/x-python",
   "name": "python",
   "nbconvert_exporter": "python",
   "pygments_lexer": "ipython3",
   "version": "3.8.5"
  }
 },
 "nbformat": 4,
 "nbformat_minor": 4
}
