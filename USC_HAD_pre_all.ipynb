{
 "cells": [
  {
   "cell_type": "code",
   "execution_count": 37,
   "metadata": {},
   "outputs": [],
   "source": [
    "%matplotlib inline\n",
    "import matplotlib.pyplot as plt\n",
    "from scipy.io import loadmat\n",
    "import numpy as np\n",
    "from pandas import read_csv\n",
    "from sklearn.preprocessing import MinMaxScaler\n",
    "import os\n",
    "import pandas as pd"
   ]
  },
  {
   "cell_type": "markdown",
   "metadata": {},
   "source": [
    "### Load all the data for each subject"
   ]
  },
  {
   "cell_type": "code",
   "execution_count": 70,
   "metadata": {},
   "outputs": [],
   "source": [
    "path = \"../USC-HAD/\"\n",
    "activity = []\n",
    "activity_num = []\n",
    "sensor_reading = []\n",
    "subject_num = []\n",
    "for root, directories, files in os.walk(path,topdown=True): ### directories = \"Subject2\" e.g\n",
    "    for name in files:\n",
    "        if \".mat\" in name:\n",
    "            mat = loadmat(os.path.join(root,name))\n",
    "            activity.append(mat[\"activity\"][0])\n",
    "            sensor_reading.append(mat[\"sensor_readings\"])\n",
    "            subject.extend(mat[\"subject\"])\n",
    "            if mat.get(\"activity_number\") is None:\n",
    "                activity_num.append(\"99\")\n",
    "            else:\n",
    "                activity_num.append(mat[\"activity_number\"][0])\n",
    "            "
   ]
  },
  {
   "cell_type": "code",
   "execution_count": 167,
   "metadata": {},
   "outputs": [
    {
     "data": {
      "text/plain": [
       "array([[-0.65369838,  0.80597609, -0.15303452,  0.29196018, -0.02742146,\n",
       "        -0.91044861],\n",
       "       [-0.65713215,  0.80597609, -0.14937437,  0.69259858, -0.42889506,\n",
       "        -0.50602061],\n",
       "       [-0.65369838,  0.80959523, -0.15303452,  0.28885165,  0.37557945,\n",
       "        -0.5044297 ],\n",
       "       ...,\n",
       "       [-0.65369838,  0.80959523, -0.14205407,  0.0721088 , -0.02077455,\n",
       "        -0.54122412],\n",
       "       [-0.65369838,  0.80959523, -0.14205407,  0.07188113, -0.02070895,\n",
       "        -0.53954232],\n",
       "       [-0.65369838,  0.80959523, -0.14205407,  0.07165418, -0.02064357,\n",
       "        -0.53786564]])"
      ]
     },
     "execution_count": 167,
     "metadata": {},
     "output_type": "execute_result"
    }
   ],
   "source": [
    "sensor_reading[0]"
   ]
  },
  {
   "cell_type": "code",
   "execution_count": 166,
   "metadata": {
    "scrolled": true
   },
   "outputs": [
    {
     "name": "stdout",
     "output_type": "stream",
     "text": [
      "5000\n",
      "2000\n",
      "2000\n",
      "5000\n",
      "2527\n",
      "2444\n",
      "3311\n",
      "2000\n",
      "5000\n",
      "5000\n",
      "2000\n",
      "1548\n",
      "2000\n",
      "5000\n",
      "2385\n",
      "2155\n",
      "2000\n",
      "1500\n",
      "2201\n",
      "2000\n",
      "1840\n",
      "2000\n",
      "2400\n",
      "1717\n",
      "2000\n",
      "1600\n",
      "4500\n",
      "4100\n",
      "3900\n",
      "3900\n",
      "1300\n",
      "2600\n",
      "2500\n",
      "4400\n",
      "1300\n",
      "4600\n",
      "3100\n",
      "2600\n",
      "3000\n",
      "4800\n",
      "1400\n",
      "2500\n",
      "2400\n",
      "3100\n",
      "1400\n",
      "1900\n",
      "1600\n",
      "4800\n",
      "4000\n",
      "5100\n",
      "1900\n",
      "4200\n",
      "3000\n",
      "1800\n",
      "1700\n",
      "2700\n",
      "3100\n",
      "2800\n",
      "4800\n",
      "2700\n",
      "5000\n",
      "2000\n",
      "2000\n",
      "5000\n",
      "2329\n",
      "2493\n",
      "2294\n",
      "2000\n",
      "5000\n",
      "5000\n",
      "2000\n",
      "2434\n",
      "2000\n",
      "5000\n",
      "2513\n",
      "2285\n",
      "2000\n",
      "2000\n",
      "2304\n",
      "2000\n",
      "2775\n",
      "2000\n",
      "1891\n",
      "2462\n",
      "2000\n",
      "1400\n",
      "900\n",
      "3600\n",
      "4000\n",
      "800\n",
      "600\n",
      "2600\n",
      "2600\n",
      "800\n",
      "600\n",
      "800\n",
      "3400\n",
      "2900\n",
      "3100\n",
      "800\n",
      "700\n",
      "2600\n",
      "2600\n",
      "3600\n",
      "800\n",
      "1800\n",
      "1800\n",
      "1300\n",
      "3800\n",
      "1500\n",
      "1800\n",
      "700\n",
      "3600\n",
      "1700\n",
      "1800\n",
      "3400\n",
      "3700\n",
      "900\n",
      "800\n",
      "3300\n",
      "5000\n",
      "5000\n",
      "5000\n",
      "5000\n",
      "3571\n",
      "2737\n",
      "2841\n",
      "5000\n",
      "5000\n",
      "5000\n",
      "5000\n",
      "3364\n",
      "5000\n",
      "5000\n",
      "3339\n",
      "3141\n",
      "4000\n",
      "5000\n",
      "3003\n",
      "6000\n",
      "2813\n",
      "6000\n",
      "2838\n",
      "2840\n",
      "5000\n",
      "2800\n",
      "2200\n",
      "4900\n",
      "5000\n",
      "2400\n",
      "2100\n",
      "13500\n",
      "13500\n",
      "2500\n",
      "3100\n",
      "2100\n",
      "4500\n",
      "13400\n",
      "4600\n",
      "2100\n",
      "2500\n",
      "13000\n",
      "13000\n",
      "3800\n",
      "2900\n",
      "1800\n",
      "1900\n",
      "2600\n",
      "5600\n",
      "2700\n",
      "1700\n",
      "2700\n",
      "5600\n",
      "1900\n",
      "1700\n",
      "5000\n",
      "5400\n",
      "2500\n",
      "2400\n",
      "5300\n",
      "5000\n",
      "4000\n",
      "4000\n",
      "5000\n",
      "2193\n",
      "2084\n",
      "2542\n",
      "4000\n",
      "5000\n",
      "5000\n",
      "4000\n",
      "2618\n",
      "4000\n",
      "5000\n",
      "2526\n",
      "2489\n",
      "4000\n",
      "4000\n",
      "2208\n",
      "4000\n",
      "2567\n",
      "4000\n",
      "2417\n",
      "2423\n",
      "4000\n",
      "1200\n",
      "1000\n",
      "3400\n",
      "3400\n",
      "600\n",
      "1200\n",
      "2800\n",
      "2600\n",
      "600\n",
      "1400\n",
      "1000\n",
      "3100\n",
      "2900\n",
      "4900\n",
      "1000\n",
      "1300\n",
      "2900\n",
      "2800\n",
      "2300\n",
      "1300\n",
      "1800\n",
      "1900\n",
      "700\n",
      "3100\n",
      "1000\n",
      "2100\n",
      "700\n",
      "3400\n",
      "1900\n",
      "1900\n",
      "2300\n",
      "3400\n",
      "1000\n",
      "1000\n",
      "2000\n",
      "10000\n",
      "5000\n",
      "5000\n",
      "10000\n",
      "1975\n",
      "1716\n",
      "1725\n",
      "5000\n",
      "10000\n",
      "10000\n",
      "5000\n",
      "1954\n",
      "5000\n",
      "10000\n",
      "1663\n",
      "2405\n",
      "5000\n",
      "5000\n",
      "2209\n",
      "5000\n",
      "2059\n",
      "5000\n",
      "2181\n",
      "2124\n",
      "5000\n",
      "1500\n",
      "2300\n",
      "3200\n",
      "3100\n",
      "2400\n",
      "1400\n",
      "10800\n",
      "9600\n",
      "2100\n",
      "2000\n",
      "2300\n",
      "3300\n",
      "9400\n",
      "3200\n",
      "2300\n",
      "1700\n",
      "9800\n",
      "10000\n",
      "3100\n",
      "1700\n",
      "4100\n",
      "4900\n",
      "2200\n",
      "3300\n",
      "2500\n",
      "4600\n",
      "2300\n",
      "3200\n",
      "4600\n",
      "4500\n",
      "3200\n",
      "3500\n",
      "2400\n",
      "2400\n",
      "3500\n",
      "5000\n",
      "5000\n",
      "5000\n",
      "5000\n",
      "1938\n",
      "1848\n",
      "2103\n",
      "5000\n",
      "5000\n",
      "5000\n",
      "5000\n",
      "1959\n",
      "5000\n",
      "5000\n",
      "2067\n",
      "2191\n",
      "2000\n",
      "2000\n",
      "2185\n",
      "2000\n",
      "2302\n",
      "2000\n",
      "2153\n",
      "2184\n",
      "2000\n",
      "1700\n",
      "1600\n",
      "6600\n",
      "6500\n",
      "1600\n",
      "2200\n",
      "5800\n",
      "5700\n",
      "1400\n",
      "2200\n",
      "1300\n",
      "6600\n",
      "5600\n",
      "5800\n",
      "1500\n",
      "2900\n",
      "5300\n",
      "5200\n",
      "5600\n",
      "1600\n",
      "3700\n",
      "4000\n",
      "1500\n",
      "6400\n",
      "1800\n",
      "3200\n",
      "1600\n",
      "6000\n",
      "3600\n",
      "3700\n",
      "4600\n",
      "5600\n",
      "1300\n",
      "1500\n",
      "3900\n",
      "5000\n",
      "3000\n",
      "2500\n",
      "5000\n",
      "2304\n",
      "2265\n",
      "2852\n",
      "3000\n",
      "5000\n",
      "5000\n",
      "3000\n",
      "1805\n",
      "3000\n",
      "5000\n",
      "2076\n",
      "2580\n",
      "3000\n",
      "3000\n",
      "2392\n",
      "3000\n",
      "1997\n",
      "3000\n",
      "2277\n",
      "1952\n",
      "3000\n",
      "1400\n",
      "700\n",
      "1700\n",
      "2700\n",
      "700\n",
      "1300\n",
      "2500\n",
      "2300\n",
      "700\n",
      "1600\n",
      "700\n",
      "1800\n",
      "3400\n",
      "1800\n",
      "700\n",
      "1700\n",
      "2700\n",
      "2500\n",
      "2100\n",
      "1900\n",
      "1900\n",
      "1900\n",
      "900\n",
      "2200\n",
      "700\n",
      "2000\n",
      "800\n",
      "2200\n",
      "1800\n",
      "1900\n",
      "2000\n",
      "2300\n",
      "700\n",
      "700\n",
      "2200\n",
      "5000\n",
      "3000\n",
      "3000\n",
      "5000\n",
      "2196\n",
      "1990\n",
      "1629\n",
      "3000\n",
      "5000\n",
      "5000\n",
      "3000\n",
      "2088\n",
      "3000\n",
      "5000\n",
      "1605\n",
      "1924\n",
      "3000\n",
      "3000\n",
      "2194\n",
      "3000\n",
      "1617\n",
      "3000\n",
      "1658\n",
      "1700\n",
      "3000\n",
      "1400\n",
      "4100\n",
      "6400\n",
      "6100\n",
      "4100\n",
      "1400\n",
      "3000\n",
      "3000\n",
      "3600\n",
      "1400\n",
      "5100\n",
      "6400\n",
      "3000\n",
      "4600\n",
      "4300\n",
      "1500\n",
      "3000\n",
      "3000\n",
      "4400\n",
      "1450\n",
      "3000\n",
      "3000\n",
      "4500\n",
      "6600\n",
      "3500\n",
      "3000\n",
      "3400\n",
      "5400\n",
      "3000\n",
      "3000\n",
      "3800\n",
      "5800\n",
      "4800\n",
      "5100\n",
      "4100\n",
      "5000\n",
      "4000\n",
      "4000\n",
      "5000\n",
      "2237\n",
      "2087\n",
      "2156\n",
      "4000\n",
      "5000\n",
      "5000\n",
      "4000\n",
      "1831\n",
      "4000\n",
      "5000\n",
      "1777\n",
      "2166\n",
      "4000\n",
      "4000\n",
      "1892\n",
      "4000\n",
      "1816\n",
      "4000\n",
      "2162\n",
      "2153\n",
      "4000\n",
      "1500\n",
      "800\n",
      "6000\n",
      "4500\n",
      "900\n",
      "1000\n",
      "2600\n",
      "2700\n",
      "600\n",
      "600\n",
      "800\n",
      "5000\n",
      "2400\n",
      "4200\n",
      "800\n",
      "600\n",
      "2500\n",
      "2700\n",
      "2300\n",
      "600\n",
      "1800\n",
      "1900\n",
      "600\n",
      "3900\n",
      "900\n",
      "2200\n",
      "900\n",
      "3500\n",
      "1900\n",
      "1900\n",
      "2300\n",
      "3300\n",
      "900\n",
      "800\n",
      "3600\n",
      "5000\n",
      "5000\n",
      "7000\n",
      "5000\n",
      "2820\n",
      "2807\n",
      "2901\n",
      "5000\n",
      "5000\n",
      "5000\n",
      "5000\n",
      "2886\n",
      "5000\n",
      "5000\n",
      "2540\n",
      "2844\n",
      "6000\n",
      "6000\n",
      "2989\n",
      "5000\n",
      "2867\n",
      "5000\n",
      "3121\n",
      "2862\n",
      "5000\n",
      "1800\n",
      "3100\n",
      "4200\n",
      "4000\n",
      "3300\n",
      "1800\n",
      "12000\n",
      "10700\n",
      "3200\n",
      "1900\n",
      "3200\n",
      "4200\n",
      "8400\n",
      "3700\n",
      "3300\n",
      "2000\n",
      "6900\n",
      "10500\n",
      "4000\n",
      "2600\n",
      "4000\n",
      "4200\n",
      "4000\n",
      "4000\n",
      "3700\n",
      "4300\n",
      "3500\n",
      "3900\n",
      "4600\n",
      "4200\n",
      "4800\n",
      "4100\n",
      "3700\n",
      "3700\n",
      "3900\n",
      "5000\n",
      "4000\n",
      "4000\n",
      "5000\n",
      "1765\n",
      "1953\n",
      "1751\n",
      "4000\n",
      "5000\n",
      "5500\n",
      "4000\n",
      "1737\n",
      "4000\n",
      "4500\n",
      "1981\n",
      "1979\n",
      "2000\n",
      "1500\n",
      "1917\n",
      "2000\n",
      "1870\n",
      "2000\n",
      "1936\n",
      "1985\n",
      "2000\n",
      "1100\n",
      "6500\n",
      "3900\n",
      "4000\n",
      "6600\n",
      "1400\n",
      "2600\n",
      "2300\n",
      "7600\n",
      "1500\n",
      "4700\n",
      "3800\n",
      "2400\n",
      "3900\n",
      "3300\n",
      "1500\n",
      "2500\n",
      "2500\n",
      "3100\n",
      "1500\n",
      "1700\n",
      "1700\n",
      "7500\n",
      "3700\n",
      "6800\n",
      "1500\n",
      "7600\n",
      "3500\n",
      "1700\n",
      "1600\n",
      "2600\n",
      "3600\n",
      "5600\n",
      "3200\n",
      "3000\n",
      "5000\n",
      "2000\n",
      "3000\n",
      "5000\n",
      "1930\n",
      "2185\n",
      "1957\n",
      "3000\n",
      "5000\n",
      "5000\n",
      "3000\n",
      "2103\n",
      "3000\n",
      "5000\n",
      "2940\n",
      "1846\n",
      "3000\n",
      "3000\n",
      "1652\n",
      "3000\n",
      "2199\n",
      "3000\n",
      "1898\n",
      "1935\n",
      "3000\n",
      "1100\n",
      "900\n",
      "4400\n",
      "3300\n",
      "900\n",
      "2500\n",
      "2200\n",
      "2400\n",
      "700\n",
      "1800\n",
      "800\n",
      "3000\n",
      "2200\n",
      "2800\n",
      "700\n",
      "1100\n",
      "1900\n",
      "1900\n",
      "2900\n",
      "1200\n",
      "1000\n",
      "1200\n",
      "800\n",
      "2600\n",
      "800\n",
      "1000\n",
      "800\n",
      "2700\n",
      "1200\n",
      "1100\n",
      "1500\n",
      "2500\n",
      "900\n",
      "900\n",
      "2300\n",
      "5000\n",
      "4000\n",
      "4000\n",
      "5000\n",
      "2926\n",
      "2592\n",
      "2476\n",
      "5000\n",
      "5000\n",
      "5000\n",
      "4000\n",
      "2657\n",
      "3000\n",
      "5000\n",
      "2630\n",
      "2825\n",
      "4000\n",
      "4000\n",
      "2964\n",
      "4000\n",
      "3237\n",
      "4000\n",
      "3136\n",
      "2743\n",
      "4000\n",
      "1000\n",
      "6200\n",
      "3400\n",
      "3400\n",
      "5300\n",
      "1000\n",
      "8700\n",
      "8600\n",
      "4900\n",
      "950\n",
      "5900\n",
      "3200\n",
      "8300\n",
      "3300\n",
      "5700\n",
      "1000\n",
      "8200\n",
      "8900\n",
      "4400\n",
      "1000\n",
      "2700\n",
      "3300\n",
      "5700\n",
      "3100\n",
      "5800\n",
      "3000\n",
      "6000\n",
      "3100\n",
      "3100\n",
      "3000\n",
      "4000\n",
      "3300\n",
      "6900\n",
      "6500\n",
      "3300\n",
      "5000\n",
      "3000\n",
      "2000\n",
      "5000\n",
      "3432\n",
      "2852\n",
      "2955\n",
      "3000\n",
      "5000\n",
      "5000\n",
      "3000\n",
      "2899\n",
      "5000\n",
      "5000\n",
      "3385\n",
      "3446\n",
      "3000\n",
      "3000\n",
      "3537\n",
      "2000\n",
      "2415\n",
      "3000\n",
      "3021\n",
      "3025\n",
      "3000\n",
      "1800\n",
      "6300\n",
      "4200\n",
      "4200\n",
      "6200\n",
      "1700\n",
      "8700\n",
      "8500\n",
      "6000\n",
      "1600\n",
      "6600\n",
      "3900\n",
      "7800\n",
      "4000\n",
      "6300\n",
      "1600\n",
      "8600\n",
      "8900\n",
      "4500\n",
      "1500\n",
      "3100\n",
      "2900\n",
      "6500\n",
      "4400\n",
      "7100\n",
      "3100\n",
      "7000\n",
      "4100\n",
      "2900\n",
      "2900\n",
      "5900\n",
      "4100\n",
      "6800\n",
      "7100\n",
      "4000\n"
     ]
    }
   ],
   "source": [
    "for i in range(len(sensor_reading)):\n",
    "    print(len(sensor_reading[i]))"
   ]
  },
  {
   "cell_type": "code",
   "execution_count": 150,
   "metadata": {},
   "outputs": [
    {
     "name": "stdout",
     "output_type": "stream",
     "text": [
      "840\n"
     ]
    }
   ],
   "source": [
    "print(len(activity_num))"
   ]
  },
  {
   "cell_type": "code",
   "execution_count": 74,
   "metadata": {},
   "outputs": [],
   "source": [
    "acc_x = []\n",
    "acc_y = []\n",
    "acc_z = []\n",
    "gyro_x = []\n",
    "gyro_y = []\n",
    "gyro_z = []\n",
    "subjects = []\n",
    "labels = []\n",
    "for i in range(len(sensor_reading)): ### for each reading in total reading\n",
    "    for readings in sensor_reading[i]:\n",
    "        acc_x.append(readings[0])\n",
    "        acc_y.append(readings[1])\n",
    "        acc_z.append(readings[2])\n",
    "        gyro_x.append(readings[3])\n",
    "        gyro_y.append(readings[4])\n",
    "        gyro_z.append(readings[5])\n",
    "        subjects.append(subject[i])\n",
    "        labels.append(activity_num[i])"
   ]
  },
  {
   "cell_type": "code",
   "execution_count": 64,
   "metadata": {},
   "outputs": [
    {
     "data": {
      "text/plain": [
       "{'elevator-down',\n",
       " 'elevator-up',\n",
       " 'jump',\n",
       " 'jumping',\n",
       " 'run',\n",
       " 'running',\n",
       " 'sit',\n",
       " 'sitting',\n",
       " 'sleeping',\n",
       " 'stand',\n",
       " 'standing',\n",
       " 'walk-downstairs',\n",
       " 'walk-forward',\n",
       " 'walk-left',\n",
       " 'walk-right',\n",
       " 'walk-up',\n",
       " 'walk-upstairs',\n",
       " 'walking-down',\n",
       " 'walking-downstairs',\n",
       " 'walking-forward',\n",
       " 'walking-left',\n",
       " 'walking-right',\n",
       " 'walking-up',\n",
       " 'walking-upstairs'}"
      ]
     },
     "execution_count": 64,
     "metadata": {},
     "output_type": "execute_result"
    }
   ],
   "source": [
    "set(activity)"
   ]
  },
  {
   "cell_type": "markdown",
   "metadata": {},
   "source": [
    "### Create Dataframe"
   ]
  },
  {
   "cell_type": "code",
   "execution_count": 75,
   "metadata": {},
   "outputs": [],
   "source": [
    "df = pd.DataFrame({\"Subject_Id\":subjects,\"acc_x\":acc_x,\"acc_y\":acc_y,\"acc_z\":acc_z,\n",
    "                  \"gyro_x\":gyro_x,\"gyro_y\":gyro_y,\"gyro_z\":gyro_z,\"labels\":labels})"
   ]
  },
  {
   "cell_type": "code",
   "execution_count": 174,
   "metadata": {},
   "outputs": [
    {
     "data": {
      "text/plain": [
       "2811490"
      ]
     },
     "execution_count": 174,
     "metadata": {},
     "output_type": "execute_result"
    }
   ],
   "source": [
    "len(df)"
   ]
  },
  {
   "cell_type": "code",
   "execution_count": 76,
   "metadata": {
    "scrolled": true
   },
   "outputs": [
    {
     "data": {
      "text/html": [
       "<div>\n",
       "<style scoped>\n",
       "    .dataframe tbody tr th:only-of-type {\n",
       "        vertical-align: middle;\n",
       "    }\n",
       "\n",
       "    .dataframe tbody tr th {\n",
       "        vertical-align: top;\n",
       "    }\n",
       "\n",
       "    .dataframe thead th {\n",
       "        text-align: right;\n",
       "    }\n",
       "</style>\n",
       "<table border=\"1\" class=\"dataframe\">\n",
       "  <thead>\n",
       "    <tr style=\"text-align: right;\">\n",
       "      <th></th>\n",
       "      <th>Subject_Id</th>\n",
       "      <th>acc_x</th>\n",
       "      <th>acc_y</th>\n",
       "      <th>acc_z</th>\n",
       "      <th>gyro_x</th>\n",
       "      <th>gyro_y</th>\n",
       "      <th>gyro_z</th>\n",
       "      <th>labels</th>\n",
       "    </tr>\n",
       "  </thead>\n",
       "  <tbody>\n",
       "    <tr>\n",
       "      <th>0</th>\n",
       "      <td>2</td>\n",
       "      <td>-0.653698</td>\n",
       "      <td>0.805976</td>\n",
       "      <td>-0.153035</td>\n",
       "      <td>0.291960</td>\n",
       "      <td>-0.027421</td>\n",
       "      <td>-0.910449</td>\n",
       "      <td>10</td>\n",
       "    </tr>\n",
       "    <tr>\n",
       "      <th>1</th>\n",
       "      <td>2</td>\n",
       "      <td>-0.657132</td>\n",
       "      <td>0.805976</td>\n",
       "      <td>-0.149374</td>\n",
       "      <td>0.692599</td>\n",
       "      <td>-0.428895</td>\n",
       "      <td>-0.506021</td>\n",
       "      <td>10</td>\n",
       "    </tr>\n",
       "    <tr>\n",
       "      <th>2</th>\n",
       "      <td>2</td>\n",
       "      <td>-0.653698</td>\n",
       "      <td>0.809595</td>\n",
       "      <td>-0.153035</td>\n",
       "      <td>0.288852</td>\n",
       "      <td>0.375579</td>\n",
       "      <td>-0.504430</td>\n",
       "      <td>10</td>\n",
       "    </tr>\n",
       "    <tr>\n",
       "      <th>3</th>\n",
       "      <td>2</td>\n",
       "      <td>-0.650265</td>\n",
       "      <td>0.809595</td>\n",
       "      <td>-0.149374</td>\n",
       "      <td>0.287940</td>\n",
       "      <td>0.374394</td>\n",
       "      <td>-0.101278</td>\n",
       "      <td>10</td>\n",
       "    </tr>\n",
       "    <tr>\n",
       "      <th>4</th>\n",
       "      <td>2</td>\n",
       "      <td>-0.646831</td>\n",
       "      <td>0.805976</td>\n",
       "      <td>-0.149374</td>\n",
       "      <td>0.287031</td>\n",
       "      <td>0.373212</td>\n",
       "      <td>-0.502525</td>\n",
       "      <td>10</td>\n",
       "    </tr>\n",
       "  </tbody>\n",
       "</table>\n",
       "</div>"
      ],
      "text/plain": [
       "  Subject_Id     acc_x     acc_y     acc_z    gyro_x    gyro_y    gyro_z  \\\n",
       "0          2 -0.653698  0.805976 -0.153035  0.291960 -0.027421 -0.910449   \n",
       "1          2 -0.657132  0.805976 -0.149374  0.692599 -0.428895 -0.506021   \n",
       "2          2 -0.653698  0.809595 -0.153035  0.288852  0.375579 -0.504430   \n",
       "3          2 -0.650265  0.809595 -0.149374  0.287940  0.374394 -0.101278   \n",
       "4          2 -0.646831  0.805976 -0.149374  0.287031  0.373212 -0.502525   \n",
       "\n",
       "  labels  \n",
       "0     10  \n",
       "1     10  \n",
       "2     10  \n",
       "3     10  \n",
       "4     10  "
      ]
     },
     "execution_count": 76,
     "metadata": {},
     "output_type": "execute_result"
    }
   ],
   "source": [
    "df.head()"
   ]
  },
  {
   "cell_type": "code",
   "execution_count": 171,
   "metadata": {},
   "outputs": [],
   "source": [
    "df1 = df[(df.labels != \"99\")]"
   ]
  },
  {
   "cell_type": "code",
   "execution_count": 176,
   "metadata": {},
   "outputs": [
    {
     "data": {
      "text/html": [
       "<div>\n",
       "<style scoped>\n",
       "    .dataframe tbody tr th:only-of-type {\n",
       "        vertical-align: middle;\n",
       "    }\n",
       "\n",
       "    .dataframe tbody tr th {\n",
       "        vertical-align: top;\n",
       "    }\n",
       "\n",
       "    .dataframe thead th {\n",
       "        text-align: right;\n",
       "    }\n",
       "</style>\n",
       "<table border=\"1\" class=\"dataframe\">\n",
       "  <thead>\n",
       "    <tr style=\"text-align: right;\">\n",
       "      <th></th>\n",
       "      <th>Subject_Id</th>\n",
       "      <th>acc_x</th>\n",
       "      <th>acc_y</th>\n",
       "      <th>acc_z</th>\n",
       "      <th>gyro_x</th>\n",
       "      <th>gyro_y</th>\n",
       "      <th>gyro_z</th>\n",
       "      <th>labels</th>\n",
       "    </tr>\n",
       "  </thead>\n",
       "  <tbody>\n",
       "    <tr>\n",
       "      <th>0</th>\n",
       "      <td>2</td>\n",
       "      <td>-0.653698</td>\n",
       "      <td>0.805976</td>\n",
       "      <td>-0.153035</td>\n",
       "      <td>0.291960</td>\n",
       "      <td>-0.027421</td>\n",
       "      <td>-0.910449</td>\n",
       "      <td>10</td>\n",
       "    </tr>\n",
       "    <tr>\n",
       "      <th>1</th>\n",
       "      <td>2</td>\n",
       "      <td>-0.657132</td>\n",
       "      <td>0.805976</td>\n",
       "      <td>-0.149374</td>\n",
       "      <td>0.692599</td>\n",
       "      <td>-0.428895</td>\n",
       "      <td>-0.506021</td>\n",
       "      <td>10</td>\n",
       "    </tr>\n",
       "    <tr>\n",
       "      <th>2</th>\n",
       "      <td>2</td>\n",
       "      <td>-0.653698</td>\n",
       "      <td>0.809595</td>\n",
       "      <td>-0.153035</td>\n",
       "      <td>0.288852</td>\n",
       "      <td>0.375579</td>\n",
       "      <td>-0.504430</td>\n",
       "      <td>10</td>\n",
       "    </tr>\n",
       "    <tr>\n",
       "      <th>3</th>\n",
       "      <td>2</td>\n",
       "      <td>-0.650265</td>\n",
       "      <td>0.809595</td>\n",
       "      <td>-0.149374</td>\n",
       "      <td>0.287940</td>\n",
       "      <td>0.374394</td>\n",
       "      <td>-0.101278</td>\n",
       "      <td>10</td>\n",
       "    </tr>\n",
       "    <tr>\n",
       "      <th>4</th>\n",
       "      <td>2</td>\n",
       "      <td>-0.646831</td>\n",
       "      <td>0.805976</td>\n",
       "      <td>-0.149374</td>\n",
       "      <td>0.287031</td>\n",
       "      <td>0.373212</td>\n",
       "      <td>-0.502525</td>\n",
       "      <td>10</td>\n",
       "    </tr>\n",
       "  </tbody>\n",
       "</table>\n",
       "</div>"
      ],
      "text/plain": [
       "  Subject_Id     acc_x     acc_y     acc_z    gyro_x    gyro_y    gyro_z  \\\n",
       "0          2 -0.653698  0.805976 -0.153035  0.291960 -0.027421 -0.910449   \n",
       "1          2 -0.657132  0.805976 -0.149374  0.692599 -0.428895 -0.506021   \n",
       "2          2 -0.653698  0.809595 -0.153035  0.288852  0.375579 -0.504430   \n",
       "3          2 -0.650265  0.809595 -0.149374  0.287940  0.374394 -0.101278   \n",
       "4          2 -0.646831  0.805976 -0.149374  0.287031  0.373212 -0.502525   \n",
       "\n",
       "  labels  \n",
       "0     10  \n",
       "1     10  \n",
       "2     10  \n",
       "3     10  \n",
       "4     10  "
      ]
     },
     "execution_count": 176,
     "metadata": {},
     "output_type": "execute_result"
    }
   ],
   "source": [
    "df1.head()"
   ]
  },
  {
   "cell_type": "code",
   "execution_count": 172,
   "metadata": {},
   "outputs": [
    {
     "data": {
      "text/plain": [
       "2809281"
      ]
     },
     "execution_count": 172,
     "metadata": {},
     "output_type": "execute_result"
    }
   ],
   "source": [
    "len(df1)"
   ]
  },
  {
   "cell_type": "code",
   "execution_count": 95,
   "metadata": {},
   "outputs": [],
   "source": [
    "no_labels = df[(df.labels==\"99\")]"
   ]
  },
  {
   "cell_type": "code",
   "execution_count": 173,
   "metadata": {},
   "outputs": [
    {
     "data": {
      "text/plain": [
       "2209"
      ]
     },
     "execution_count": 173,
     "metadata": {},
     "output_type": "execute_result"
    }
   ],
   "source": [
    "len(no_labels)"
   ]
  },
  {
   "cell_type": "code",
   "execution_count": 177,
   "metadata": {
    "scrolled": false
   },
   "outputs": [
    {
     "data": {
      "image/png": "[encoded data removed]",
      "text/plain": [
       "<Figure size 720x432 with 6 Axes>"
      ]
     },
     "metadata": {
      "needs_background": "light"
     },
     "output_type": "display_data"
    }
   ],
   "source": [
    "plt.figure(figsize=(10,6))\n",
    "plt.subplot(6,1,1)\n",
    "plt.plot(df1[\"acc_x\"])\n",
    "plt.subplot(6,1,2)\n",
    "plt.plot(df1[\"acc_y\"])\n",
    "plt.subplot(6,1,3)\n",
    "plt.plot(df1[\"acc_z\"])\n",
    "plt.subplot(6,1,4)\n",
    "plt.plot(df1[\"gyro_x\"])\n",
    "plt.subplot(6,1,5)\n",
    "plt.plot(df1[\"gyro_y\"])\n",
    "plt.subplot(6,1,6)\n",
    "plt.plot(df1[\"gyro_z\"])\n",
    "plt.show()"
   ]
  },
  {
   "cell_type": "markdown",
   "metadata": {},
   "source": [
    "### Signal Segmentation"
   ]
  },
  {
   "cell_type": "code",
   "execution_count": null,
   "metadata": {},
   "outputs": [],
   "source": [
    "### 68 number of samples in each timestep window size = 50%"
   ]
  },
  {
   "cell_type": "code",
   "execution_count": 203,
   "metadata": {},
   "outputs": [],
   "source": [
    "def window(data,window_size):\n",
    "    start = 0\n",
    "    while start < data.count():\n",
    "        yield int(start),int(start+window_size)\n",
    "        start += (window_size/2)"
   ]
  },
  {
   "cell_type": "code",
   "execution_count": null,
   "metadata": {},
   "outputs": [],
   "source": [
    "def signal_segmentation(data,window_size):\n",
    "    segment = np.empty((0,6,window_size))\n",
    "    "
   ]
  },
  {
   "cell_type": "markdown",
   "metadata": {},
   "source": [
    "### Jiang and Yin's algorithm"
   ]
  },
  {
   "cell_type": "code",
   "execution_count": 205,
   "metadata": {},
   "outputs": [],
   "source": [
    "raw_signal = [acc_x,acc_y,acc_z,gyro_x,gyro_y,gyro_z]"
   ]
  },
  {
   "cell_type": "code",
   "execution_count": 207,
   "metadata": {},
   "outputs": [],
   "source": [
    "def alg_2(raw_signal): ### input:raw signal list (6xNumber of sample point)\n",
    "    Ns = len(raw_signal)\n",
    "    sis = []\n",
    "    signal_images = []\n",
    "    for i in range(1,Ns+1):\n",
    "        sis.append(i)\n",
    "        signal_images.append(raw_signal[i-1])\n",
    "    i = Ns\n",
    "    j = i + 1\n",
    "    Nsis = len(sis)\n",
    "    while (i != j):\n",
    "        inter_sis = list(zip(sis, sis[1:] + sis[:0]))\n",
    "        if j > (Ns):\n",
    "            j = 1\n",
    "        elif (i,j) not in inter_sis and (j,i) not in inter_sis:\n",
    "            sis.append(j)\n",
    "            signal_images.append(raw_signal[j-1])\n",
    "            Nsis += 1\n",
    "            i = j\n",
    "            j = i + 1\n",
    "        else:\n",
    "            j = j+1\n",
    "    print(\"SIS:\",sis,\"NSIS:\",Nsis,\"(i,j):\",(i,j))\n",
    "    return signal_images"
   ]
  },
  {
   "cell_type": "code",
   "execution_count": 208,
   "metadata": {
    "scrolled": false
   },
   "outputs": [
    {
     "name": "stdout",
     "output_type": "stream",
     "text": [
      "SIS: [1, 2, 3, 4, 5, 6, 1, 3, 5, 1, 4, 6, 2, 4] NSIS: 14 (i,j): (4, 4)\n"
     ]
    }
   ],
   "source": [
    "stack_raw_signal = alg_2(raw_signal)"
   ]
  },
  {
   "cell_type": "code",
   "execution_count": 209,
   "metadata": {},
   "outputs": [
    {
     "data": {
      "text/plain": [
       "14"
      ]
     },
     "execution_count": 209,
     "metadata": {},
     "output_type": "execute_result"
    }
   ],
   "source": [
    "len(stack_raw_signal)"
   ]
  },
  {
   "cell_type": "code",
   "execution_count": 210,
   "metadata": {},
   "outputs": [],
   "source": [
    "stack_raw_signal_array = np.array(stack_raw_signal[0])\n",
    "for i in range(1,len(stack_raw_signal)):\n",
    "    stack_raw_signal_array = np.vstack((stack_raw_signal_array,stack_raw_signal[i]))"
   ]
  },
  {
   "cell_type": "code",
   "execution_count": 211,
   "metadata": {},
   "outputs": [
    {
     "data": {
      "text/plain": [
       "(14, 2811490)"
      ]
     },
     "execution_count": 211,
     "metadata": {},
     "output_type": "execute_result"
    }
   ],
   "source": [
    "stack_raw_signal_array.shape"
   ]
  },
  {
   "cell_type": "code",
   "execution_count": 356,
   "metadata": {},
   "outputs": [],
   "source": [
    "aa = stack_raw_signal_array[:,100:200]"
   ]
  },
  {
   "cell_type": "code",
   "execution_count": 357,
   "metadata": {},
   "outputs": [
    {
     "data": {
      "text/plain": [
       "(14, 100)"
      ]
     },
     "execution_count": 357,
     "metadata": {},
     "output_type": "execute_result"
    }
   ],
   "source": [
    "aa.shape"
   ]
  },
  {
   "cell_type": "code",
   "execution_count": 235,
   "metadata": {},
   "outputs": [],
   "source": [
    "def plot_SI(SI):\n",
    "    plt.figure(figsize=(10,6))\n",
    "    n,off = SI.shape[0],0\n",
    "    for i in range(n):\n",
    "        plt.subplot(n,1,off+1)\n",
    "        plt.plot(SI[off,:])\n",
    "        plt.title(str(i), y=0, loc='left')\n",
    "        off += 1\n",
    "    plt.show()"
   ]
  },
  {
   "cell_type": "code",
   "execution_count": 358,
   "metadata": {},
   "outputs": [
    {
     "data": {
      "text/plain": [
       "<matplotlib.image.AxesImage at 0x7fd28d736a00>"
      ]
     },
     "execution_count": 358,
     "metadata": {},
     "output_type": "execute_result"
    },
    {
     "data": {
      "image/png": "[encoded data removed]",
      "text/plain": [
       "<Figure size 432x288 with 1 Axes>"
      ]
     },
     "metadata": {
      "needs_background": "light"
     },
     "output_type": "display_data"
    }
   ],
   "source": [
    "plt.imshow(aa,cmap=\"gray\")"
   ]
  },
  {
   "cell_type": "markdown",
   "metadata": {},
   "source": [
    "### DFT"
   ]
  },
  {
   "cell_type": "code",
   "execution_count": 359,
   "metadata": {},
   "outputs": [
    {
     "data": {
      "image/png": "[encoded data removed]",
      "text/plain": [
       "<Figure size 432x288 with 1 Axes>"
      ]
     },
     "metadata": {
      "needs_background": "light"
     },
     "output_type": "display_data"
    }
   ],
   "source": [
    "SI_fft = np.fft.fft2(aa)\n",
    "fshift_SI = np.fft.fftshift(SI_fft)\n",
    "magnitude_spectrum_SI = np.log(np.abs(fshift_SI))\n",
    "plt.imshow(magnitude_spectrum_SI)\n",
    "plt.show()"
   ]
  },
  {
   "cell_type": "markdown",
   "metadata": {},
   "source": [
    "### Plot for different activity"
   ]
  },
  {
   "cell_type": "code",
   "execution_count": 250,
   "metadata": {},
   "outputs": [],
   "source": [
    "act_1 = df1[df1.labels==\"1\"]\n",
    "act_8 = df1[df1.labels==\"8\"]\n",
    "act_10 = df1[df1.labels==\"10\"]"
   ]
  },
  {
   "cell_type": "code",
   "execution_count": 288,
   "metadata": {},
   "outputs": [],
   "source": [
    "raw_signal_act_1 = np.array([act_1.acc_x.values,act_1.acc_y.values,act_1.acc_z.values,\n",
    "                    act_1.gyro_x.values,act_1.gyro_y.values,act_1.gyro_z.values])\n",
    "raw_signal_act_8 = np.array([act_8.acc_x.values,act_8.acc_y.values,act_8.acc_z.values,\n",
    "                    act_8.gyro_x.values,act_8.gyro_y.values,act_8.gyro_z.values])\n",
    "raw_signal_act_10= np.array([act_10.acc_x.values,act_10.acc_y.values,act_10.acc_z.values,\n",
    "                    act_10.gyro_x.values,act_10.gyro_y.values,act_10.gyro_z.values])"
   ]
  },
  {
   "cell_type": "code",
   "execution_count": 289,
   "metadata": {},
   "outputs": [
    {
     "name": "stdout",
     "output_type": "stream",
     "text": [
      "SIS: [1, 2, 3, 4, 5, 6, 1, 3, 5, 1, 4, 6, 2, 4] NSIS: 14 (i,j): (4, 4)\n",
      "SIS: [1, 2, 3, 4, 5, 6, 1, 3, 5, 1, 4, 6, 2, 4] NSIS: 14 (i,j): (4, 4)\n",
      "SIS: [1, 2, 3, 4, 5, 6, 1, 3, 5, 1, 4, 6, 2, 4] NSIS: 14 (i,j): (4, 4)\n"
     ]
    }
   ],
   "source": [
    "raw_signal_act_1_stacked = alg_2(raw_signal_act_1)\n",
    "raw_signal_act_8_stacked = alg_2(raw_signal_act_8)\n",
    "raw_signal_act_10_stacked = alg_2(raw_signal_act_10)"
   ]
  },
  {
   "cell_type": "code",
   "execution_count": 290,
   "metadata": {},
   "outputs": [],
   "source": [
    "stack_raw_signal_act_1 = np.array(raw_signal_act_1_stacked[0])\n",
    "for i in range(1,len(raw_signal_act_1_stacked)):\n",
    "    stack_raw_signal_act_1 = np.vstack((stack_raw_signal_act_1,raw_signal_act_1_stacked[i]))"
   ]
  },
  {
   "cell_type": "code",
   "execution_count": 291,
   "metadata": {},
   "outputs": [],
   "source": [
    "stack_raw_signal_act_8 = np.array(raw_signal_act_8_stacked[0])\n",
    "for i in range(1,len(raw_signal_act_8_stacked)):\n",
    "    stack_raw_signal_act_8 = np.vstack((stack_raw_signal_act_8,raw_signal_act_8_stacked[i]))"
   ]
  },
  {
   "cell_type": "code",
   "execution_count": 292,
   "metadata": {},
   "outputs": [],
   "source": [
    "stack_raw_signal_act_10 = np.array(raw_signal_act_10_stacked[0])\n",
    "for i in range(1,len(raw_signal_act_10_stacked)):\n",
    "    stack_raw_signal_act_10 = np.vstack((stack_raw_signal_act_10,raw_signal_act_10_stacked[i]))"
   ]
  },
  {
   "cell_type": "code",
   "execution_count": 338,
   "metadata": {},
   "outputs": [],
   "source": [
    "stack_raw_signal_act_1_sub = stack_raw_signal_act_1[:,0:100]\n",
    "stack_raw_signal_act_8_sub = stack_raw_signal_act_8[:,0:100]\n",
    "stack_raw_signal_act_10_sub = stack_raw_signal_act_10[:,0:100]"
   ]
  },
  {
   "cell_type": "code",
   "execution_count": 339,
   "metadata": {},
   "outputs": [
    {
     "data": {
      "text/plain": [
       "<matplotlib.image.AxesImage at 0x7fd28d1a94f0>"
      ]
     },
     "execution_count": 339,
     "metadata": {},
     "output_type": "execute_result"
    },
    {
     "data": {
      "image/png": "[encoded data removed]",
      "text/plain": [
       "<Figure size 432x288 with 1 Axes>"
      ]
     },
     "metadata": {
      "needs_background": "light"
     },
     "output_type": "display_data"
    }
   ],
   "source": [
    "plt.imshow(stack_raw_signal_act_1_sub,cmap=\"gray\")"
   ]
  },
  {
   "cell_type": "code",
   "execution_count": 340,
   "metadata": {},
   "outputs": [
    {
     "data": {
      "text/plain": [
       "<matplotlib.image.AxesImage at 0x7fd2556e3370>"
      ]
     },
     "execution_count": 340,
     "metadata": {},
     "output_type": "execute_result"
    },
    {
     "data": {
      "image/png": "[encoded data removed]",
      "text/plain": [
       "<Figure size 432x288 with 1 Axes>"
      ]
     },
     "metadata": {
      "needs_background": "light"
     },
     "output_type": "display_data"
    }
   ],
   "source": [
    "plt.imshow(stack_raw_signal_act_8_sub,cmap=\"gray\")"
   ]
  },
  {
   "cell_type": "code",
   "execution_count": 341,
   "metadata": {},
   "outputs": [
    {
     "data": {
      "text/plain": [
       "<matplotlib.image.AxesImage at 0x7fd25e9ceb50>"
      ]
     },
     "execution_count": 341,
     "metadata": {},
     "output_type": "execute_result"
    },
    {
     "data": {
      "image/png": "[encoded data removed]",
      "text/plain": [
       "<Figure size 432x288 with 1 Axes>"
      ]
     },
     "metadata": {
      "needs_background": "light"
     },
     "output_type": "display_data"
    }
   ],
   "source": [
    "plt.imshow(stack_raw_signal_act_10_sub,cmap=\"gray\")"
   ]
  },
  {
   "cell_type": "markdown",
   "metadata": {},
   "source": [
    "### DFT"
   ]
  },
  {
   "cell_type": "code",
   "execution_count": 360,
   "metadata": {},
   "outputs": [
    {
     "data": {
      "image/png": "[encoded data removed]",
      "text/plain": [
       "<Figure size 432x288 with 1 Axes>"
      ]
     },
     "metadata": {
      "needs_background": "light"
     },
     "output_type": "display_data"
    }
   ],
   "source": [
    "SI_fft_act_1 = np.fft.fft2(stack_raw_signal_act_1_sub) ###walking\n",
    "fshift = np.fft.fftshift(SI_fft_act_1)\n",
    "magnitude_spectrum = np.log(np.abs(fshift))\n",
    "plt.imshow(magnitude_spectrum,cmap=\"gray\")\n",
    "plt.show()"
   ]
  },
  {
   "cell_type": "code",
   "execution_count": 361,
   "metadata": {},
   "outputs": [
    {
     "data": {
      "image/png": "[encoded data removed]",
      "text/plain": [
       "<Figure size 432x288 with 1 Axes>"
      ]
     },
     "metadata": {
      "needs_background": "light"
     },
     "output_type": "display_data"
    }
   ],
   "source": [
    "SI_fft_act_8 = np.fft.fft2(stack_raw_signal_act_8_sub) ###sitting\n",
    "fshift_8 = np.fft.fftshift(SI_fft_act_8)\n",
    "magnitude_spectrum_8 = np.log(np.abs(fshift_8))\n",
    "plt.imshow(magnitude_spectrum_8,cmap=\"gray\")\n",
    "plt.show()"
   ]
  },
  {
   "cell_type": "code",
   "execution_count": 362,
   "metadata": {},
   "outputs": [
    {
     "data": {
      "image/png": "[encoded data removed]",
      "text/plain": [
       "<Figure size 432x288 with 1 Axes>"
      ]
     },
     "metadata": {
      "needs_background": "light"
     },
     "output_type": "display_data"
    }
   ],
   "source": [
    "SI_fft_act_10 = np.fft.fft2(stack_raw_signal_act_10_sub) ###sleeping\n",
    "fshift_10 = np.fft.fftshift(SI_fft_act_10)\n",
    "magnitude_spectrum_10 = np.log(np.abs(fshift_10))\n",
    "plt.imshow(magnitude_spectrum_10,cmap=\"gray\")\n",
    "plt.show()"
   ]
  }
 ],
 "metadata": {
  "kernelspec": {
   "display_name": "Python 3",
   "language": "python",
   "name": "python3"
  },
  "language_info": {
   "codemirror_mode": {
    "name": "ipython",
    "version": 3
   },
   "file_extension": ".py",
   "mimetype": "text/x-python",
   "name": "python",
   "nbconvert_exporter": "python",
   "pygments_lexer": "ipython3",
   "version": "3.8.3"
  }
 },
 "nbformat": 4,
 "nbformat_minor": 4
}
