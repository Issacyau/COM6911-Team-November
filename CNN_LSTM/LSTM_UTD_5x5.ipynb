{
 "cells": [
  {
   "cell_type": "markdown",
   "metadata": {},
   "source": [
    "CNN_LSTM_kernel_size_5x5"
   ]
  },
  {
   "cell_type": "code",
   "execution_count": 1,
   "metadata": {},
   "outputs": [],
   "source": [
    "%matplotlib inline\n",
    "import matplotlib.pyplot as plt\n",
    "import numpy as np\n",
    "import torch\n",
    "import torch.nn as nn\n",
    "import torch.nn.functional as F\n",
    "import torch.optim as optim\n",
    "import torchvision\n",
    "from torchvision import datasets, transforms\n",
    "from torch.utils.data import TensorDataset, DataLoader"
   ]
  },
  {
   "cell_type": "code",
   "execution_count": 2,
   "metadata": {},
   "outputs": [],
   "source": [
    "# Set random seed for numpy\n",
    "np.random.seed(11)\n",
    "# Set random seed for pytorch\n",
    "torch.manual_seed(11)\n",
    "# Set random seed for pytorch running in GPU\n",
    "if torch.cuda.is_available():\n",
    "    torch.cuda.manual_seed_all(11)"
   ]
  },
  {
   "cell_type": "code",
   "execution_count": 10,
   "metadata": {},
   "outputs": [],
   "source": [
    "UTD_train_features = np.load('utd/UTD-single-column/sig_train_128_AI.npy',allow_pickle=True)\n",
    "UTD_test_features = np.load('utd/UTD-single-column/sig_test_128_AI.npy',allow_pickle=True)\n",
    "UTD_train_labels = np.load('utd/UTD-single-column/sig_train_128_labels.npy',allow_pickle=True)\n",
    "UTD_test_labels = np.load('utd/UTD-single-column/sig_test_128_labels.npy',allow_pickle=True)"
   ]
  },
  {
   "cell_type": "code",
   "execution_count": 11,
   "metadata": {},
   "outputs": [],
   "source": [
    "# Hyperparameters\n",
    "num_epochs = 30\n",
    "batch_size = 10\n",
    "learning_rate = 0.0001"
   ]
  },
  {
   "cell_type": "code",
   "execution_count": 12,
   "metadata": {},
   "outputs": [],
   "source": [
    "UTD_train_labels = UTD_train_labels.astype(int) - 1\n",
    "UTD_test_labels = UTD_test_labels.astype(int) - 1"
   ]
  },
  {
   "cell_type": "code",
   "execution_count": 13,
   "metadata": {},
   "outputs": [],
   "source": [
    "# Transform to torch tensor\n",
    "tensor_UTD_train_features = torch.Tensor(UTD_train_features) \n",
    "tensor_UTD_train_labels = torch.Tensor(UTD_train_labels)\n",
    "tensor_UTD_test_features = torch.Tensor(UTD_test_features) \n",
    "tensor_UTD_test_labels = torch.Tensor(UTD_test_labels)\n",
    "# Add one dimension of channel\n",
    "tensor_UTD_train_features = torch.unsqueeze(tensor_UTD_train_features, 1)\n",
    "tensor_UTD_test_features = torch.unsqueeze(tensor_UTD_test_features, 1)\n",
    "# Create datset\n",
    "train_dataset_UTD = TensorDataset(tensor_UTD_train_features,tensor_UTD_train_labels)\n",
    "test_dataset_UTD = TensorDataset(tensor_UTD_test_features,tensor_UTD_test_labels)"
   ]
  },
  {
   "cell_type": "code",
   "execution_count": 14,
   "metadata": {},
   "outputs": [],
   "source": [
    "train_loader = torch.utils.data.DataLoader(dataset=train_dataset_UTD, batch_size=batch_size, shuffle=True)\n",
    "test_loader = torch.utils.data.DataLoader(dataset=test_dataset_UTD, batch_size=batch_size, shuffle=False)"
   ]
  },
  {
   "cell_type": "code",
   "execution_count": 15,
   "metadata": {},
   "outputs": [
    {
     "name": "stdout",
     "output_type": "stream",
     "text": [
      "torch.Size([10, 1, 18, 128])\n",
      "torch.Size([10])\n"
     ]
    }
   ],
   "source": [
    "for image,label in train_loader:\n",
    "    print(image.size())\n",
    "    print(label.size())\n",
    "    break"
   ]
  },
  {
   "cell_type": "code",
   "execution_count": 16,
   "metadata": {},
   "outputs": [
    {
     "name": "stdout",
     "output_type": "stream",
     "text": [
      "519\n",
      "130\n"
     ]
    }
   ],
   "source": [
    "print(len(train_loader.dataset))\n",
    "print(len(test_loader.dataset))"
   ]
  },
  {
   "cell_type": "markdown",
   "metadata": {},
   "source": [
    "### Construct LSTM"
   ]
  },
  {
   "cell_type": "code",
   "execution_count": 10,
   "metadata": {},
   "outputs": [],
   "source": [
    "device = torch.device('cuda') if torch.cuda.is_available() else torch.device('cpu')"
   ]
  },
  {
   "cell_type": "code",
   "execution_count": 11,
   "metadata": {},
   "outputs": [],
   "source": [
    "class Cnn(nn.Module):\n",
    "    def __init__(self):\n",
    "        super(Cnn, self).__init__()\n",
    "        self.conv1 = nn.Conv2d(1,32, kernel_size=5, stride=1, padding=2)  ### 10,32,18,384\n",
    "        self.pool = nn.MaxPool2d(2, 2) ### 10,32,9,192 2nd layer\n",
    "        self.conv2 = nn.Conv2d(32,64, kernel_size=5, stride=1, padding=2) ###10,64,9,192 3rd layer\n",
    "    \n",
    "    def forward(self, x):\n",
    "        batch,c,h,w = x.size()\n",
    "        x = self.pool(F.relu(self.conv1(x)))\n",
    "        x = (F.relu(self.conv2(x))) ### 10,64,9,192/ 5,64,9,192\n",
    "        x = x.view(batch,-1) ### 10,110592 \n",
    "        return x"
   ]
  },
  {
   "cell_type": "code",
   "execution_count": 12,
   "metadata": {},
   "outputs": [],
   "source": [
    "\n",
    "class CNN_LSTM(nn.Module): \n",
    "    def __init__(self):\n",
    "        super(CNN_LSTM, self).__init__() ###(num_samples,timesteps,input_dim). \n",
    "        self.cnn = Cnn()\n",
    "        self.rnn = nn.LSTM(\n",
    "            input_size=72, ### [32 <- 216] / [64<-432]/ [128<-864] or single [32 <- 72] / [64<-144]/ [128<-288]\n",
    "            hidden_size=441, \n",
    "            num_layers=5, ### change [1,3,5]\n",
    "            batch_first=True)\n",
    "        self.linear = nn.Linear(441,21)\n",
    "\n",
    "    def forward(self, x):\n",
    "        batch,c,h,w = x.size()\n",
    "        c_out = self.cnn(x) ### 10,110592\n",
    "        r_in = c_out.view(batch,128,-1) ### 10,1,8192\n",
    "        r_out, (h_n, h_c) = self.rnn(r_in)\n",
    "        r_out2 = self.linear(r_out[:, -1, :])\n",
    "        return F.log_softmax(r_out2, dim=1)\n"
   ]
  },
  {
   "cell_type": "code",
   "execution_count": 13,
   "metadata": {},
   "outputs": [],
   "source": [
    "# Choose CPU or GPU\n",
    "# model = ConvNet() #CPU\n",
    "device = torch.device(\"cuda:0\" if torch.cuda.is_available() else \"cpu\")\n",
    "model = CNN_LSTM().to(device)\n",
    "\n",
    "# Loss and optimizer\n",
    "criterion = nn.CrossEntropyLoss()\n",
    "optimizer = optim.Adam(model.parameters(), lr=learning_rate)"
   ]
  },
  {
   "cell_type": "markdown",
   "metadata": {},
   "source": [
    "### Combine"
   ]
  },
  {
   "cell_type": "code",
   "execution_count": 14,
   "metadata": {},
   "outputs": [
    {
     "name": "stdout",
     "output_type": "stream",
     "text": [
      "Epoch [1/30], Step [100/364], Loss: 2.7707, Accuracy: 20.00%\n",
      "Epoch [1/30], Step [200/364], Loss: 2.8176, Accuracy: 10.00%\n",
      "Epoch [1/30], Step [300/364], Loss: 2.7598, Accuracy: 0.00%\n",
      "Epoch [2/30], Step [100/364], Loss: 3.1154, Accuracy: 10.00%\n",
      "Epoch [2/30], Step [200/364], Loss: 2.6351, Accuracy: 10.00%\n",
      "Epoch [2/30], Step [300/364], Loss: 2.2755, Accuracy: 10.00%\n",
      "Epoch [3/30], Step [100/364], Loss: 2.8338, Accuracy: 10.00%\n",
      "Epoch [3/30], Step [200/364], Loss: 2.5102, Accuracy: 0.00%\n",
      "Epoch [3/30], Step [300/364], Loss: 2.2924, Accuracy: 30.00%\n",
      "Epoch [4/30], Step [100/364], Loss: 2.4000, Accuracy: 30.00%\n",
      "Epoch [4/30], Step [200/364], Loss: 2.1341, Accuracy: 20.00%\n",
      "Epoch [4/30], Step [300/364], Loss: 2.9384, Accuracy: 10.00%\n",
      "Epoch [5/30], Step [100/364], Loss: 2.1725, Accuracy: 40.00%\n",
      "Epoch [5/30], Step [200/364], Loss: 2.1869, Accuracy: 20.00%\n",
      "Epoch [5/30], Step [300/364], Loss: 2.1422, Accuracy: 20.00%\n",
      "Epoch [6/30], Step [100/364], Loss: 2.2944, Accuracy: 30.00%\n",
      "Epoch [6/30], Step [200/364], Loss: 2.1415, Accuracy: 30.00%\n",
      "Epoch [6/30], Step [300/364], Loss: 2.4867, Accuracy: 30.00%\n",
      "Epoch [7/30], Step [100/364], Loss: 2.3765, Accuracy: 30.00%\n",
      "Epoch [7/30], Step [200/364], Loss: 2.5400, Accuracy: 20.00%\n",
      "Epoch [7/30], Step [300/364], Loss: 2.1860, Accuracy: 20.00%\n",
      "Epoch [8/30], Step [100/364], Loss: 2.1176, Accuracy: 60.00%\n",
      "Epoch [8/30], Step [200/364], Loss: 2.0958, Accuracy: 20.00%\n",
      "Epoch [8/30], Step [300/364], Loss: 1.8930, Accuracy: 40.00%\n",
      "Epoch [9/30], Step [100/364], Loss: 2.0317, Accuracy: 20.00%\n",
      "Epoch [9/30], Step [200/364], Loss: 2.4414, Accuracy: 30.00%\n",
      "Epoch [9/30], Step [300/364], Loss: 2.1045, Accuracy: 30.00%\n",
      "Epoch [10/30], Step [100/364], Loss: 2.1008, Accuracy: 40.00%\n",
      "Epoch [10/30], Step [200/364], Loss: 1.4209, Accuracy: 70.00%\n",
      "Epoch [10/30], Step [300/364], Loss: 2.0161, Accuracy: 50.00%\n",
      "Epoch [11/30], Step [100/364], Loss: 2.7530, Accuracy: 0.00%\n",
      "Epoch [11/30], Step [200/364], Loss: 2.4453, Accuracy: 20.00%\n",
      "Epoch [11/30], Step [300/364], Loss: 2.3365, Accuracy: 40.00%\n",
      "Epoch [12/30], Step [100/364], Loss: 2.5776, Accuracy: 10.00%\n",
      "Epoch [12/30], Step [200/364], Loss: 1.9501, Accuracy: 60.00%\n",
      "Epoch [12/30], Step [300/364], Loss: 1.8864, Accuracy: 40.00%\n",
      "Epoch [13/30], Step [100/364], Loss: 1.9012, Accuracy: 40.00%\n",
      "Epoch [13/30], Step [200/364], Loss: 2.1538, Accuracy: 20.00%\n",
      "Epoch [13/30], Step [300/364], Loss: 1.9952, Accuracy: 40.00%\n",
      "Epoch [14/30], Step [100/364], Loss: 1.5131, Accuracy: 50.00%\n",
      "Epoch [14/30], Step [200/364], Loss: 1.7929, Accuracy: 50.00%\n",
      "Epoch [14/30], Step [300/364], Loss: 2.4217, Accuracy: 10.00%\n",
      "Epoch [15/30], Step [100/364], Loss: 1.5256, Accuracy: 50.00%\n",
      "Epoch [15/30], Step [200/364], Loss: 2.0698, Accuracy: 30.00%\n",
      "Epoch [15/30], Step [300/364], Loss: 2.3157, Accuracy: 10.00%\n",
      "Epoch [16/30], Step [100/364], Loss: 2.5231, Accuracy: 20.00%\n",
      "Epoch [16/30], Step [200/364], Loss: 2.4410, Accuracy: 10.00%\n",
      "Epoch [16/30], Step [300/364], Loss: 1.8420, Accuracy: 10.00%\n",
      "Epoch [17/30], Step [100/364], Loss: 1.7998, Accuracy: 40.00%\n",
      "Epoch [17/30], Step [200/364], Loss: 1.8469, Accuracy: 30.00%\n",
      "Epoch [17/30], Step [300/364], Loss: 1.4142, Accuracy: 70.00%\n",
      "Epoch [18/30], Step [100/364], Loss: 1.6700, Accuracy: 40.00%\n",
      "Epoch [18/30], Step [200/364], Loss: 1.7674, Accuracy: 30.00%\n",
      "Epoch [18/30], Step [300/364], Loss: 2.5059, Accuracy: 30.00%\n",
      "Epoch [19/30], Step [100/364], Loss: 2.0371, Accuracy: 30.00%\n",
      "Epoch [19/30], Step [200/364], Loss: 2.0955, Accuracy: 30.00%\n",
      "Epoch [19/30], Step [300/364], Loss: 2.7904, Accuracy: 20.00%\n",
      "Epoch [20/30], Step [100/364], Loss: 1.3137, Accuracy: 60.00%\n",
      "Epoch [20/30], Step [200/364], Loss: 1.6414, Accuracy: 50.00%\n",
      "Epoch [20/30], Step [300/364], Loss: 2.1692, Accuracy: 20.00%\n",
      "Epoch [21/30], Step [100/364], Loss: 1.2492, Accuracy: 60.00%\n",
      "Epoch [21/30], Step [200/364], Loss: 2.0436, Accuracy: 40.00%\n",
      "Epoch [21/30], Step [300/364], Loss: 2.3198, Accuracy: 20.00%\n",
      "Epoch [22/30], Step [100/364], Loss: 1.2273, Accuracy: 50.00%\n",
      "Epoch [22/30], Step [200/364], Loss: 1.0404, Accuracy: 80.00%\n",
      "Epoch [22/30], Step [300/364], Loss: 1.7789, Accuracy: 50.00%\n",
      "Epoch [23/30], Step [100/364], Loss: 1.2069, Accuracy: 60.00%\n",
      "Epoch [23/30], Step [200/364], Loss: 1.7193, Accuracy: 60.00%\n",
      "Epoch [23/30], Step [300/364], Loss: 1.3278, Accuracy: 50.00%\n",
      "Epoch [24/30], Step [100/364], Loss: 1.7148, Accuracy: 40.00%\n",
      "Epoch [24/30], Step [200/364], Loss: 2.1469, Accuracy: 30.00%\n",
      "Epoch [24/30], Step [300/364], Loss: 2.1373, Accuracy: 40.00%\n",
      "Epoch [25/30], Step [100/364], Loss: 1.7531, Accuracy: 40.00%\n",
      "Epoch [25/30], Step [200/364], Loss: 1.7496, Accuracy: 60.00%\n",
      "Epoch [25/30], Step [300/364], Loss: 0.9573, Accuracy: 60.00%\n",
      "Epoch [26/30], Step [100/364], Loss: 1.2949, Accuracy: 60.00%\n",
      "Epoch [26/30], Step [200/364], Loss: 1.9145, Accuracy: 50.00%\n",
      "Epoch [26/30], Step [300/364], Loss: 1.8522, Accuracy: 20.00%\n",
      "Epoch [27/30], Step [100/364], Loss: 1.1392, Accuracy: 60.00%\n",
      "Epoch [27/30], Step [200/364], Loss: 1.8248, Accuracy: 30.00%\n",
      "Epoch [27/30], Step [300/364], Loss: 1.2086, Accuracy: 60.00%\n",
      "Epoch [28/30], Step [100/364], Loss: 1.5437, Accuracy: 50.00%\n",
      "Epoch [28/30], Step [200/364], Loss: 1.5553, Accuracy: 40.00%\n",
      "Epoch [28/30], Step [300/364], Loss: 1.7561, Accuracy: 40.00%\n",
      "Epoch [29/30], Step [100/364], Loss: 0.9793, Accuracy: 60.00%\n",
      "Epoch [29/30], Step [200/364], Loss: 2.1427, Accuracy: 30.00%\n",
      "Epoch [29/30], Step [300/364], Loss: 1.8335, Accuracy: 50.00%\n",
      "Epoch [30/30], Step [100/364], Loss: 0.9061, Accuracy: 70.00%\n",
      "Epoch [30/30], Step [200/364], Loss: 1.8272, Accuracy: 20.00%\n",
      "Epoch [30/30], Step [300/364], Loss: 1.4027, Accuracy: 60.00%\n",
      "CPU times: user 6h 58min 10s, sys: 28min 9s, total: 7h 26min 19s\n",
      "Wall time: 7h 9min 22s\n"
     ]
    }
   ],
   "source": [
    "%%time\n",
    "total_step = len(train_loader)\n",
    "loss_list = []\n",
    "acc_list = []\n",
    "for epoch in range(num_epochs):\n",
    "    for i, (images, labels) in enumerate(train_loader):\n",
    "        # Run the forward pass\n",
    "        outputs = model(images)\n",
    "        loss = criterion(outputs, labels.to(device).long())\n",
    "        loss_list.append(loss.item())\n",
    "\n",
    "        # Backprop and perform Adam optimisation\n",
    "        optimizer.zero_grad()\n",
    "        loss.backward()\n",
    "        optimizer.step()\n",
    "\n",
    "        # Track the accuracy\n",
    "        total = labels.size(0)\n",
    "        _, predicted = torch.max(outputs.data, 1)\n",
    "        correct = (predicted == labels).sum().item()\n",
    "        acc_list.append(correct / total)\n",
    "\n",
    "        if (i + 1) % 100 == 0:\n",
    "            print('Epoch [{}/{}], Step [{}/{}], Loss: {:.4f}, Accuracy: {:.2f}%'\n",
    "                  .format(epoch + 1, num_epochs, i + 1, total_step, loss.item(),\n",
    "                          (correct / total) * 100))"
   ]
  },
  {
   "cell_type": "code",
   "execution_count": 15,
   "metadata": {},
   "outputs": [],
   "source": [
    "classes = ('Swipe_left','Swipe_right','Wave',\"Clap\",\"Throw\",\"Arm_cross\",\"Basketball_shoot\",\"Draw_X\",\n",
    "           \"Draw_circle_clockwise\",\"Draw_circle_counter\",\"Draw_traingle\",\"Bowling\",\"Boxing\",\"Baseball_swing\",\n",
    "          \"Tennis_swing\",\"Arm_curl\",\"Tennis_serve\",\"Push\",\"Knock\",\"Catch\",\"Pickup_throw\")"
   ]
  },
  {
   "cell_type": "code",
   "execution_count": 16,
   "metadata": {},
   "outputs": [
    {
     "name": "stdout",
     "output_type": "stream",
     "text": [
      "Test Accuracy of the model on the UCIHAR test images: 36.26373626373626 %\n"
     ]
    },
    {
     "data": {
      "image/png": "[encoded data removed]",
      "text/plain": [
       "<Figure size 504x504 with 1 Axes>"
      ]
     },
     "metadata": {
      "needs_background": "light"
     },
     "output_type": "display_data"
    }
   ],
   "source": [
    "\n",
    "from sklearn import metrics\n",
    "import seaborn as sns\n",
    "# Test the model on GPU\n",
    "model.eval()\n",
    "all_labels = []\n",
    "all_predictions = []\n",
    "with torch.no_grad():\n",
    "    correct = 0\n",
    "    total = 0\n",
    "    for images, labels in test_loader:\n",
    "        outputs = model(images.to(device))\n",
    "        _, predicted = torch.max(outputs.data, 1)\n",
    "        all_predictions.append(predicted)\n",
    "        all_labels.append(labels)\n",
    "        total += labels.size(0)\n",
    "        correct += (predicted == labels.to(device)).sum().item()\n",
    "\n",
    "    print('Test Accuracy of the model on the UCIHAR test images: {} %'.format((correct / total) * 100))\n",
    "\n",
    "mat = metrics.confusion_matrix(torch.cat(all_predictions).cpu(), torch.cat(all_labels).cpu())\n",
    "plt.figure(figsize=(7,7))\n",
    "sns.heatmap(mat.T, square=True, annot=True, fmt='d', cbar=False,\n",
    "            xticklabels=classes, yticklabels=classes)\n",
    "plt.xlabel('true label')\n",
    "plt.ylabel('predicted label');"
   ]
  },
  {
   "cell_type": "code",
   "execution_count": null,
   "metadata": {},
   "outputs": [],
   "source": []
  },
  {
   "cell_type": "code",
   "execution_count": null,
   "metadata": {},
   "outputs": [],
   "source": []
  }
 ],
 "metadata": {
  "kernelspec": {
   "display_name": "Python 3",
   "language": "python",
   "name": "python3"
  },
  "language_info": {
   "codemirror_mode": {
    "name": "ipython",
    "version": 3
   },
   "file_extension": ".py",
   "mimetype": "text/x-python",
   "name": "python",
   "nbconvert_exporter": "python",
   "pygments_lexer": "ipython3",
   "version": "3.8.3"
  }
 },
 "nbformat": 4,
 "nbformat_minor": 4
}
