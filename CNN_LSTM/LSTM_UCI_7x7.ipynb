{
 "cells": [
  {
   "cell_type": "code",
   "execution_count": 1,
   "metadata": {},
   "outputs": [],
   "source": [
    "%matplotlib inline\n",
    "import matplotlib.pyplot as plt\n",
    "import numpy as np\n",
    "import torch\n",
    "import torch.nn as nn\n",
    "import torch.nn.functional as F\n",
    "import torch.optim as optim\n",
    "import torchvision\n",
    "from torchvision import datasets, transforms\n",
    "from torch.utils.data import TensorDataset, DataLoader\n",
    "from itertools import chain"
   ]
  },
  {
   "cell_type": "code",
   "execution_count": 2,
   "metadata": {},
   "outputs": [],
   "source": [
    "# Set random seed for numpy\n",
    "np.random.seed(11)\n",
    "# Set random seed for pytorch\n",
    "torch.manual_seed(11)\n",
    "# Set random seed for pytorch running in GPU\n",
    "if torch.cuda.is_available():\n",
    "    torch.cuda.manual_seed_all(11)"
   ]
  },
  {
   "cell_type": "code",
   "execution_count": 3,
   "metadata": {
    "scrolled": true
   },
   "outputs": [],
   "source": [
    "UCI_train_features = np.load(\"uci/UCI_train_features_64.npy\")\n",
    "UCI_test_features = np.load(\"uci/UCI_test_features_64.npy\")\n",
    "UCI_train_labels = np.load(\"uci/UCI_train_labels_64.npy\",allow_pickle=True)\n",
    "UCI_test_labels = np.load(\"uci/UCI_test_labels_64.npy\",allow_pickle=True)"
   ]
  },
  {
   "cell_type": "code",
   "execution_count": 4,
   "metadata": {},
   "outputs": [],
   "source": [
    "UCI_train_labels = np.asarray(list(chain.from_iterable(UCI_train_labels)))\n",
    "UCI_test_labels = np.asarray(list(chain.from_iterable(UCI_test_labels)))"
   ]
  },
  {
   "cell_type": "code",
   "execution_count": 5,
   "metadata": {},
   "outputs": [],
   "source": [
    "# Hyperparameters\n",
    "num_epochs = 15\n",
    "batch_size = 10\n",
    "learning_rate = 0.0001"
   ]
  },
  {
   "cell_type": "code",
   "execution_count": 6,
   "metadata": {},
   "outputs": [],
   "source": [
    "UCI_train_labels = UCI_train_labels.astype(int) - 1\n",
    "UCI_test_labels = UCI_test_labels.astype(int) - 1"
   ]
  },
  {
   "cell_type": "code",
   "execution_count": 7,
   "metadata": {},
   "outputs": [],
   "source": [
    "# Transform to torch tensor\n",
    "tensor_UCI_train_features = torch.Tensor(UCI_train_features) \n",
    "tensor_UCI_train_labels = torch.Tensor(UCI_train_labels)\n",
    "tensor_UCI_test_features = torch.Tensor(UCI_test_features) \n",
    "tensor_UCI_test_labels = torch.Tensor(UCI_test_labels)\n",
    "# Add one dimension of channel\n",
    "tensor_UCI_train_features = torch.unsqueeze(tensor_UCI_train_features, 1)\n",
    "tensor_UCI_test_features = torch.unsqueeze(tensor_UCI_test_features, 1)\n",
    "# Create datset\n",
    "train_dataset_UCI = TensorDataset(tensor_UCI_train_features,tensor_UCI_train_labels)\n",
    "test_dataset_UCI = TensorDataset(tensor_UCI_test_features,tensor_UCI_test_labels)"
   ]
  },
  {
   "cell_type": "code",
   "execution_count": 8,
   "metadata": {},
   "outputs": [],
   "source": [
    "train_loader = torch.utils.data.DataLoader(dataset=train_dataset_UCI, batch_size=batch_size, shuffle=True)\n",
    "test_loader = torch.utils.data.DataLoader(dataset=test_dataset_UCI, batch_size=batch_size, shuffle=False)"
   ]
  },
  {
   "cell_type": "code",
   "execution_count": 9,
   "metadata": {},
   "outputs": [
    {
     "name": "stdout",
     "output_type": "stream",
     "text": [
      "14704\n",
      "5894\n"
     ]
    }
   ],
   "source": [
    "print(len(train_loader.dataset))\n",
    "print(len(test_loader.dataset))"
   ]
  },
  {
   "cell_type": "code",
   "execution_count": 10,
   "metadata": {},
   "outputs": [
    {
     "name": "stdout",
     "output_type": "stream",
     "text": [
      "torch.Size([10, 1, 36, 64])\n"
     ]
    }
   ],
   "source": [
    "for images,labels in train_loader:\n",
    "    print(images.size())\n",
    "    break"
   ]
  },
  {
   "cell_type": "markdown",
   "metadata": {},
   "source": [
    "### Construct LSTM"
   ]
  },
  {
   "cell_type": "code",
   "execution_count": 11,
   "metadata": {},
   "outputs": [],
   "source": [
    "device = torch.device('cuda') if torch.cuda.is_available() else torch.device('cpu')"
   ]
  },
  {
   "cell_type": "code",
   "execution_count": 12,
   "metadata": {},
   "outputs": [],
   "source": [
    "class Cnn(nn.Module):\n",
    "    def __init__(self):\n",
    "        super(Cnn, self).__init__()\n",
    "        self.conv1 = nn.Conv2d(1,32, kernel_size=7, stride=1, padding=3)  ### 10,32,18,384\n",
    "        self.pool = nn.MaxPool2d(2, 2) ### 10,32,9,192 2nd layer\n",
    "        self.conv2 = nn.Conv2d(32,64, kernel_size=7, stride=1, padding=3) ###10,64,9,192 3rd layer\n",
    "    \n",
    "    def forward(self, x):\n",
    "        batch,c,h,w = x.size()\n",
    "        x = self.pool(F.relu(self.conv1(x)))\n",
    "        x = (F.relu(self.conv2(x))) ### 10,64,9,192/ 5,64,9,192\n",
    "        x = x.view(batch,-1) ### 10,110592 \n",
    "        return x"
   ]
  },
  {
   "cell_type": "code",
   "execution_count": 13,
   "metadata": {},
   "outputs": [],
   "source": [
    "\n",
    "class CNN_LSTM(nn.Module): \n",
    "    def __init__(self):\n",
    "        super(CNN_LSTM, self).__init__() ###(num_samples,timesteps,input_dim). \n",
    "        self.cnn = Cnn()\n",
    "        self.rnn = nn.LSTM(\n",
    "            input_size=288, ### [32 <- 216] / [64<-432]/ [128<-864] or single [32 <- 72] / [64<-144]/ [128<-288]\n",
    "            hidden_size=36, \n",
    "            num_layers=5, ### change [1,3,5]\n",
    "            batch_first=True)\n",
    "        self.linear = nn.Linear(36,6)\n",
    "\n",
    "    def forward(self, x):\n",
    "        batch,c,h,w = x.size()\n",
    "        c_out = self.cnn(x) ### 10,110592\n",
    "        r_in = c_out.view(batch,128,-1) ### 10,1,8192\n",
    "        r_out, (h_n, h_c) = self.rnn(r_in)\n",
    "        r_out2 = self.linear(r_out[:, -1, :])\n",
    "        return F.log_softmax(r_out2, dim=1)\n"
   ]
  },
  {
   "cell_type": "code",
   "execution_count": 14,
   "metadata": {},
   "outputs": [],
   "source": [
    "# Choose CPU or GPU\n",
    "# model = ConvNet() #CPU\n",
    "device = torch.device(\"cuda:0\" if torch.cuda.is_available() else \"cpu\")\n",
    "model = CNN_LSTM().to(device)\n",
    "\n",
    "# Loss and optimizer\n",
    "criterion = nn.CrossEntropyLoss()\n",
    "optimizer = optim.Adam(model.parameters(), lr=learning_rate)"
   ]
  },
  {
   "cell_type": "markdown",
   "metadata": {},
   "source": [
    "### Combine"
   ]
  },
  {
   "cell_type": "code",
   "execution_count": 15,
   "metadata": {},
   "outputs": [
    {
     "name": "stdout",
     "output_type": "stream",
     "text": [
      "Epoch [1/15], Step [100/1471], Loss: 1.7973, Accuracy: 10.00%\n",
      "Epoch [1/15], Step [200/1471], Loss: 1.3883, Accuracy: 60.00%\n",
      "Epoch [1/15], Step [300/1471], Loss: 1.4446, Accuracy: 20.00%\n",
      "Epoch [1/15], Step [400/1471], Loss: 1.2260, Accuracy: 10.00%\n",
      "Epoch [1/15], Step [500/1471], Loss: 1.1517, Accuracy: 20.00%\n",
      "Epoch [1/15], Step [600/1471], Loss: 1.1096, Accuracy: 80.00%\n",
      "Epoch [1/15], Step [700/1471], Loss: 1.1180, Accuracy: 50.00%\n",
      "Epoch [1/15], Step [800/1471], Loss: 1.0948, Accuracy: 60.00%\n",
      "Epoch [1/15], Step [900/1471], Loss: 1.0953, Accuracy: 50.00%\n",
      "Epoch [1/15], Step [1000/1471], Loss: 1.1875, Accuracy: 10.00%\n",
      "Epoch [1/15], Step [1100/1471], Loss: 1.1264, Accuracy: 40.00%\n",
      "Epoch [1/15], Step [1200/1471], Loss: 1.1311, Accuracy: 20.00%\n",
      "Epoch [1/15], Step [1300/1471], Loss: 1.0906, Accuracy: 50.00%\n",
      "Epoch [1/15], Step [1400/1471], Loss: 1.0893, Accuracy: 30.00%\n",
      "Epoch [2/15], Step [100/1471], Loss: 1.0603, Accuracy: 50.00%\n",
      "Epoch [2/15], Step [200/1471], Loss: 1.1243, Accuracy: 20.00%\n",
      "Epoch [2/15], Step [300/1471], Loss: 1.1151, Accuracy: 10.00%\n",
      "Epoch [2/15], Step [400/1471], Loss: 1.0857, Accuracy: 40.00%\n",
      "Epoch [2/15], Step [500/1471], Loss: 1.1204, Accuracy: 50.00%\n",
      "Epoch [2/15], Step [600/1471], Loss: 1.3194, Accuracy: 40.00%\n",
      "Epoch [2/15], Step [700/1471], Loss: 1.0108, Accuracy: 50.00%\n",
      "Epoch [2/15], Step [800/1471], Loss: 1.3267, Accuracy: 20.00%\n",
      "Epoch [2/15], Step [900/1471], Loss: 1.1157, Accuracy: 30.00%\n",
      "Epoch [2/15], Step [1000/1471], Loss: 1.0660, Accuracy: 40.00%\n",
      "Epoch [2/15], Step [1100/1471], Loss: 1.1025, Accuracy: 30.00%\n",
      "Epoch [2/15], Step [1200/1471], Loss: 0.9450, Accuracy: 70.00%\n",
      "Epoch [2/15], Step [1300/1471], Loss: 0.9412, Accuracy: 40.00%\n",
      "Epoch [2/15], Step [1400/1471], Loss: 0.7026, Accuracy: 50.00%\n",
      "Epoch [3/15], Step [100/1471], Loss: 0.9516, Accuracy: 60.00%\n",
      "Epoch [3/15], Step [200/1471], Loss: 0.8733, Accuracy: 60.00%\n",
      "Epoch [3/15], Step [300/1471], Loss: 0.7320, Accuracy: 60.00%\n",
      "Epoch [3/15], Step [400/1471], Loss: 0.8882, Accuracy: 50.00%\n",
      "Epoch [3/15], Step [500/1471], Loss: 0.7470, Accuracy: 70.00%\n",
      "Epoch [3/15], Step [600/1471], Loss: 0.8145, Accuracy: 50.00%\n",
      "Epoch [3/15], Step [700/1471], Loss: 1.0262, Accuracy: 40.00%\n",
      "Epoch [3/15], Step [800/1471], Loss: 0.8770, Accuracy: 60.00%\n",
      "Epoch [3/15], Step [900/1471], Loss: 0.9314, Accuracy: 40.00%\n",
      "Epoch [3/15], Step [1000/1471], Loss: 0.9548, Accuracy: 50.00%\n",
      "Epoch [3/15], Step [1100/1471], Loss: 0.8625, Accuracy: 60.00%\n",
      "Epoch [3/15], Step [1200/1471], Loss: 0.6738, Accuracy: 70.00%\n",
      "Epoch [3/15], Step [1300/1471], Loss: 0.9332, Accuracy: 70.00%\n",
      "Epoch [3/15], Step [1400/1471], Loss: 0.6062, Accuracy: 80.00%\n",
      "Epoch [4/15], Step [100/1471], Loss: 0.8667, Accuracy: 50.00%\n",
      "Epoch [4/15], Step [200/1471], Loss: 1.2464, Accuracy: 50.00%\n",
      "Epoch [4/15], Step [300/1471], Loss: 0.5872, Accuracy: 70.00%\n",
      "Epoch [4/15], Step [400/1471], Loss: 0.9246, Accuracy: 60.00%\n",
      "Epoch [4/15], Step [500/1471], Loss: 0.7472, Accuracy: 70.00%\n",
      "Epoch [4/15], Step [600/1471], Loss: 0.5826, Accuracy: 80.00%\n",
      "Epoch [4/15], Step [700/1471], Loss: 0.4613, Accuracy: 90.00%\n",
      "Epoch [4/15], Step [800/1471], Loss: 0.6795, Accuracy: 70.00%\n",
      "Epoch [4/15], Step [900/1471], Loss: 0.6503, Accuracy: 90.00%\n",
      "Epoch [4/15], Step [1000/1471], Loss: 0.5809, Accuracy: 70.00%\n",
      "Epoch [4/15], Step [1100/1471], Loss: 0.6008, Accuracy: 80.00%\n",
      "Epoch [4/15], Step [1200/1471], Loss: 0.5930, Accuracy: 80.00%\n",
      "Epoch [4/15], Step [1300/1471], Loss: 0.7203, Accuracy: 60.00%\n",
      "Epoch [4/15], Step [1400/1471], Loss: 0.5852, Accuracy: 90.00%\n",
      "Epoch [5/15], Step [100/1471], Loss: 0.4690, Accuracy: 80.00%\n",
      "Epoch [5/15], Step [200/1471], Loss: 0.3686, Accuracy: 80.00%\n",
      "Epoch [5/15], Step [300/1471], Loss: 0.5891, Accuracy: 70.00%\n",
      "Epoch [5/15], Step [400/1471], Loss: 0.5876, Accuracy: 80.00%\n",
      "Epoch [5/15], Step [500/1471], Loss: 0.5025, Accuracy: 90.00%\n",
      "Epoch [5/15], Step [600/1471], Loss: 0.4438, Accuracy: 80.00%\n",
      "Epoch [5/15], Step [700/1471], Loss: 0.4991, Accuracy: 90.00%\n",
      "Epoch [5/15], Step [800/1471], Loss: 0.5424, Accuracy: 80.00%\n",
      "Epoch [5/15], Step [900/1471], Loss: 0.4924, Accuracy: 80.00%\n",
      "Epoch [5/15], Step [1000/1471], Loss: 0.5135, Accuracy: 90.00%\n",
      "Epoch [5/15], Step [1100/1471], Loss: 0.5090, Accuracy: 80.00%\n",
      "Epoch [5/15], Step [1200/1471], Loss: 0.2998, Accuracy: 100.00%\n",
      "Epoch [5/15], Step [1300/1471], Loss: 0.5024, Accuracy: 70.00%\n",
      "Epoch [5/15], Step [1400/1471], Loss: 0.2079, Accuracy: 100.00%\n",
      "Epoch [6/15], Step [100/1471], Loss: 0.4152, Accuracy: 70.00%\n",
      "Epoch [6/15], Step [200/1471], Loss: 0.4414, Accuracy: 70.00%\n",
      "Epoch [6/15], Step [300/1471], Loss: 0.3080, Accuracy: 90.00%\n",
      "Epoch [6/15], Step [400/1471], Loss: 0.4668, Accuracy: 80.00%\n",
      "Epoch [6/15], Step [500/1471], Loss: 0.7271, Accuracy: 60.00%\n",
      "Epoch [6/15], Step [600/1471], Loss: 0.4533, Accuracy: 90.00%\n",
      "Epoch [6/15], Step [700/1471], Loss: 0.6289, Accuracy: 70.00%\n",
      "Epoch [6/15], Step [800/1471], Loss: 0.4194, Accuracy: 70.00%\n",
      "Epoch [6/15], Step [900/1471], Loss: 0.4759, Accuracy: 70.00%\n",
      "Epoch [6/15], Step [1000/1471], Loss: 0.6627, Accuracy: 70.00%\n",
      "Epoch [6/15], Step [1100/1471], Loss: 0.3347, Accuracy: 100.00%\n",
      "Epoch [6/15], Step [1200/1471], Loss: 0.5159, Accuracy: 80.00%\n",
      "Epoch [6/15], Step [1300/1471], Loss: 0.3169, Accuracy: 90.00%\n",
      "Epoch [6/15], Step [1400/1471], Loss: 0.3513, Accuracy: 80.00%\n",
      "Epoch [7/15], Step [100/1471], Loss: 0.1968, Accuracy: 90.00%\n",
      "Epoch [7/15], Step [200/1471], Loss: 0.4962, Accuracy: 70.00%\n",
      "Epoch [7/15], Step [300/1471], Loss: 0.2998, Accuracy: 90.00%\n",
      "Epoch [7/15], Step [400/1471], Loss: 0.4247, Accuracy: 80.00%\n",
      "Epoch [7/15], Step [500/1471], Loss: 0.3192, Accuracy: 90.00%\n",
      "Epoch [7/15], Step [600/1471], Loss: 0.3326, Accuracy: 90.00%\n",
      "Epoch [7/15], Step [700/1471], Loss: 0.2677, Accuracy: 90.00%\n",
      "Epoch [7/15], Step [800/1471], Loss: 0.4489, Accuracy: 90.00%\n",
      "Epoch [7/15], Step [900/1471], Loss: 0.4592, Accuracy: 90.00%\n",
      "Epoch [7/15], Step [1000/1471], Loss: 0.3361, Accuracy: 80.00%\n",
      "Epoch [7/15], Step [1100/1471], Loss: 0.5069, Accuracy: 70.00%\n",
      "Epoch [7/15], Step [1200/1471], Loss: 0.2084, Accuracy: 90.00%\n",
      "Epoch [7/15], Step [1300/1471], Loss: 0.3715, Accuracy: 80.00%\n",
      "Epoch [7/15], Step [1400/1471], Loss: 0.4173, Accuracy: 80.00%\n",
      "Epoch [8/15], Step [100/1471], Loss: 0.4152, Accuracy: 90.00%\n",
      "Epoch [8/15], Step [200/1471], Loss: 0.4896, Accuracy: 80.00%\n",
      "Epoch [8/15], Step [300/1471], Loss: 0.2475, Accuracy: 90.00%\n",
      "Epoch [8/15], Step [400/1471], Loss: 0.2077, Accuracy: 100.00%\n",
      "Epoch [8/15], Step [500/1471], Loss: 0.3094, Accuracy: 70.00%\n",
      "Epoch [8/15], Step [600/1471], Loss: 0.2660, Accuracy: 80.00%\n",
      "Epoch [8/15], Step [700/1471], Loss: 0.3498, Accuracy: 70.00%\n",
      "Epoch [8/15], Step [800/1471], Loss: 0.2181, Accuracy: 90.00%\n",
      "Epoch [8/15], Step [900/1471], Loss: 0.3171, Accuracy: 80.00%\n",
      "Epoch [8/15], Step [1000/1471], Loss: 0.4311, Accuracy: 90.00%\n",
      "Epoch [8/15], Step [1100/1471], Loss: 0.3914, Accuracy: 70.00%\n",
      "Epoch [8/15], Step [1200/1471], Loss: 0.3307, Accuracy: 90.00%\n",
      "Epoch [8/15], Step [1300/1471], Loss: 0.2278, Accuracy: 90.00%\n",
      "Epoch [8/15], Step [1400/1471], Loss: 0.4012, Accuracy: 90.00%\n",
      "Epoch [9/15], Step [100/1471], Loss: 0.2328, Accuracy: 90.00%\n",
      "Epoch [9/15], Step [200/1471], Loss: 0.2708, Accuracy: 90.00%\n",
      "Epoch [9/15], Step [300/1471], Loss: 0.1007, Accuracy: 100.00%\n",
      "Epoch [9/15], Step [400/1471], Loss: 0.2916, Accuracy: 80.00%\n",
      "Epoch [9/15], Step [500/1471], Loss: 0.6361, Accuracy: 70.00%\n",
      "Epoch [9/15], Step [600/1471], Loss: 0.0951, Accuracy: 90.00%\n",
      "Epoch [9/15], Step [700/1471], Loss: 0.3849, Accuracy: 80.00%\n",
      "Epoch [9/15], Step [800/1471], Loss: 0.3290, Accuracy: 80.00%\n",
      "Epoch [9/15], Step [900/1471], Loss: 0.2635, Accuracy: 90.00%\n",
      "Epoch [9/15], Step [1000/1471], Loss: 0.1643, Accuracy: 90.00%\n",
      "Epoch [9/15], Step [1100/1471], Loss: 0.2329, Accuracy: 100.00%\n",
      "Epoch [9/15], Step [1200/1471], Loss: 0.3109, Accuracy: 80.00%\n",
      "Epoch [9/15], Step [1300/1471], Loss: 0.1308, Accuracy: 100.00%\n",
      "Epoch [9/15], Step [1400/1471], Loss: 0.1552, Accuracy: 100.00%\n",
      "Epoch [10/15], Step [100/1471], Loss: 0.2924, Accuracy: 90.00%\n",
      "Epoch [10/15], Step [200/1471], Loss: 0.3960, Accuracy: 90.00%\n",
      "Epoch [10/15], Step [300/1471], Loss: 0.2288, Accuracy: 90.00%\n",
      "Epoch [10/15], Step [400/1471], Loss: 0.3935, Accuracy: 80.00%\n",
      "Epoch [10/15], Step [500/1471], Loss: 0.2177, Accuracy: 90.00%\n",
      "Epoch [10/15], Step [600/1471], Loss: 0.2871, Accuracy: 90.00%\n"
     ]
    },
    {
     "name": "stdout",
     "output_type": "stream",
     "text": [
      "Epoch [10/15], Step [700/1471], Loss: 0.1659, Accuracy: 100.00%\n",
      "Epoch [10/15], Step [800/1471], Loss: 0.2366, Accuracy: 90.00%\n",
      "Epoch [10/15], Step [900/1471], Loss: 0.2212, Accuracy: 90.00%\n",
      "Epoch [10/15], Step [1000/1471], Loss: 0.0685, Accuracy: 100.00%\n",
      "Epoch [10/15], Step [1100/1471], Loss: 0.2187, Accuracy: 90.00%\n",
      "Epoch [10/15], Step [1200/1471], Loss: 0.1245, Accuracy: 100.00%\n",
      "Epoch [10/15], Step [1300/1471], Loss: 0.1784, Accuracy: 90.00%\n",
      "Epoch [10/15], Step [1400/1471], Loss: 0.2617, Accuracy: 90.00%\n",
      "Epoch [11/15], Step [100/1471], Loss: 0.2570, Accuracy: 90.00%\n",
      "Epoch [11/15], Step [200/1471], Loss: 0.1889, Accuracy: 100.00%\n",
      "Epoch [11/15], Step [300/1471], Loss: 0.3085, Accuracy: 90.00%\n",
      "Epoch [11/15], Step [400/1471], Loss: 0.0644, Accuracy: 100.00%\n",
      "Epoch [11/15], Step [500/1471], Loss: 0.0857, Accuracy: 100.00%\n",
      "Epoch [11/15], Step [600/1471], Loss: 0.3537, Accuracy: 70.00%\n",
      "Epoch [11/15], Step [700/1471], Loss: 0.5600, Accuracy: 90.00%\n",
      "Epoch [11/15], Step [800/1471], Loss: 0.5451, Accuracy: 70.00%\n",
      "Epoch [11/15], Step [900/1471], Loss: 0.6827, Accuracy: 70.00%\n",
      "Epoch [11/15], Step [1000/1471], Loss: 0.2203, Accuracy: 100.00%\n",
      "Epoch [11/15], Step [1100/1471], Loss: 0.4268, Accuracy: 90.00%\n",
      "Epoch [11/15], Step [1200/1471], Loss: 0.1960, Accuracy: 90.00%\n",
      "Epoch [11/15], Step [1300/1471], Loss: 0.2572, Accuracy: 100.00%\n",
      "Epoch [11/15], Step [1400/1471], Loss: 0.3662, Accuracy: 80.00%\n",
      "Epoch [12/15], Step [100/1471], Loss: 0.2849, Accuracy: 80.00%\n",
      "Epoch [12/15], Step [200/1471], Loss: 0.0436, Accuracy: 100.00%\n",
      "Epoch [12/15], Step [300/1471], Loss: 0.3720, Accuracy: 80.00%\n",
      "Epoch [12/15], Step [400/1471], Loss: 0.2337, Accuracy: 100.00%\n",
      "Epoch [12/15], Step [500/1471], Loss: 0.4431, Accuracy: 80.00%\n",
      "Epoch [12/15], Step [600/1471], Loss: 0.7931, Accuracy: 60.00%\n",
      "Epoch [12/15], Step [700/1471], Loss: 0.4488, Accuracy: 80.00%\n",
      "Epoch [12/15], Step [800/1471], Loss: 0.3342, Accuracy: 70.00%\n",
      "Epoch [12/15], Step [900/1471], Loss: 0.3291, Accuracy: 90.00%\n",
      "Epoch [12/15], Step [1000/1471], Loss: 0.2655, Accuracy: 90.00%\n",
      "Epoch [12/15], Step [1100/1471], Loss: 0.3129, Accuracy: 90.00%\n",
      "Epoch [12/15], Step [1200/1471], Loss: 0.2228, Accuracy: 90.00%\n",
      "Epoch [12/15], Step [1300/1471], Loss: 0.3453, Accuracy: 80.00%\n",
      "Epoch [12/15], Step [1400/1471], Loss: 0.3079, Accuracy: 90.00%\n",
      "Epoch [13/15], Step [100/1471], Loss: 0.4388, Accuracy: 60.00%\n",
      "Epoch [13/15], Step [200/1471], Loss: 0.5641, Accuracy: 80.00%\n",
      "Epoch [13/15], Step [300/1471], Loss: 0.3195, Accuracy: 80.00%\n",
      "Epoch [13/15], Step [400/1471], Loss: 0.0556, Accuracy: 100.00%\n",
      "Epoch [13/15], Step [500/1471], Loss: 0.3222, Accuracy: 90.00%\n",
      "Epoch [13/15], Step [600/1471], Loss: 0.2274, Accuracy: 90.00%\n",
      "Epoch [13/15], Step [700/1471], Loss: 0.2448, Accuracy: 80.00%\n",
      "Epoch [13/15], Step [800/1471], Loss: 0.1864, Accuracy: 90.00%\n",
      "Epoch [13/15], Step [900/1471], Loss: 0.5696, Accuracy: 70.00%\n",
      "Epoch [13/15], Step [1000/1471], Loss: 0.1595, Accuracy: 90.00%\n",
      "Epoch [13/15], Step [1100/1471], Loss: 0.4189, Accuracy: 90.00%\n",
      "Epoch [13/15], Step [1200/1471], Loss: 0.0627, Accuracy: 100.00%\n",
      "Epoch [13/15], Step [1300/1471], Loss: 0.4795, Accuracy: 80.00%\n",
      "Epoch [13/15], Step [1400/1471], Loss: 0.0911, Accuracy: 100.00%\n",
      "Epoch [14/15], Step [100/1471], Loss: 0.2116, Accuracy: 90.00%\n",
      "Epoch [14/15], Step [200/1471], Loss: 0.1273, Accuracy: 100.00%\n",
      "Epoch [14/15], Step [300/1471], Loss: 0.3436, Accuracy: 90.00%\n",
      "Epoch [14/15], Step [400/1471], Loss: 0.5178, Accuracy: 90.00%\n",
      "Epoch [14/15], Step [500/1471], Loss: 0.1925, Accuracy: 90.00%\n",
      "Epoch [14/15], Step [600/1471], Loss: 0.3088, Accuracy: 80.00%\n",
      "Epoch [14/15], Step [700/1471], Loss: 0.2621, Accuracy: 80.00%\n",
      "Epoch [14/15], Step [800/1471], Loss: 0.2592, Accuracy: 80.00%\n",
      "Epoch [14/15], Step [900/1471], Loss: 0.4307, Accuracy: 70.00%\n",
      "Epoch [14/15], Step [1000/1471], Loss: 0.4381, Accuracy: 80.00%\n",
      "Epoch [14/15], Step [1100/1471], Loss: 0.3487, Accuracy: 80.00%\n",
      "Epoch [14/15], Step [1200/1471], Loss: 0.3489, Accuracy: 70.00%\n",
      "Epoch [14/15], Step [1300/1471], Loss: 0.3631, Accuracy: 80.00%\n",
      "Epoch [14/15], Step [1400/1471], Loss: 0.4311, Accuracy: 90.00%\n",
      "Epoch [15/15], Step [100/1471], Loss: 0.0722, Accuracy: 100.00%\n",
      "Epoch [15/15], Step [200/1471], Loss: 0.0282, Accuracy: 100.00%\n",
      "Epoch [15/15], Step [300/1471], Loss: 0.0574, Accuracy: 100.00%\n",
      "Epoch [15/15], Step [400/1471], Loss: 0.2548, Accuracy: 90.00%\n",
      "Epoch [15/15], Step [500/1471], Loss: 0.0651, Accuracy: 100.00%\n",
      "Epoch [15/15], Step [600/1471], Loss: 0.0763, Accuracy: 100.00%\n",
      "Epoch [15/15], Step [700/1471], Loss: 0.1369, Accuracy: 100.00%\n",
      "Epoch [15/15], Step [800/1471], Loss: 0.3093, Accuracy: 90.00%\n",
      "Epoch [15/15], Step [900/1471], Loss: 0.3870, Accuracy: 90.00%\n",
      "Epoch [15/15], Step [1000/1471], Loss: 0.2633, Accuracy: 80.00%\n",
      "Epoch [15/15], Step [1100/1471], Loss: 0.1924, Accuracy: 90.00%\n",
      "Epoch [15/15], Step [1200/1471], Loss: 0.2119, Accuracy: 90.00%\n",
      "Epoch [15/15], Step [1300/1471], Loss: 0.0290, Accuracy: 100.00%\n",
      "Epoch [15/15], Step [1400/1471], Loss: 0.0506, Accuracy: 100.00%\n",
      "CPU times: user 1h 16min 39s, sys: 1min 55s, total: 1h 18min 35s\n",
      "Wall time: 1h 23min 3s\n"
     ]
    }
   ],
   "source": [
    "%%time\n",
    "total_step = len(train_loader)\n",
    "loss_list = []\n",
    "acc_list = []\n",
    "for epoch in range(num_epochs):\n",
    "    for i, (images, labels) in enumerate(train_loader):\n",
    "        # Run the forward pass\n",
    "        outputs = model(images)\n",
    "        loss = criterion(outputs, labels.to(device).long())\n",
    "        loss_list.append(loss.item())\n",
    "\n",
    "        # Backprop and perform Adam optimisation\n",
    "        optimizer.zero_grad()\n",
    "        loss.backward()\n",
    "        optimizer.step()\n",
    "\n",
    "        # Track the accuracy\n",
    "        total = labels.size(0)\n",
    "        _, predicted = torch.max(outputs.data, 1)\n",
    "        correct = (predicted == labels).sum().item()\n",
    "        acc_list.append(correct / total)\n",
    "\n",
    "        if (i + 1) % 100 == 0:\n",
    "            print('Epoch [{}/{}], Step [{}/{}], Loss: {:.4f}, Accuracy: {:.2f}%'\n",
    "                  .format(epoch + 1, num_epochs, i + 1, total_step, loss.item(),\n",
    "                          (correct / total) * 100))"
   ]
  },
  {
   "cell_type": "code",
   "execution_count": 16,
   "metadata": {},
   "outputs": [],
   "source": [
    "classes = [\"WALKING\", \"WALKING_UPSTAIRS\", \"WALKING_DOWNSTAIRS\", \"SITTING\", \"STANDING\", \"LAYING\"]"
   ]
  },
  {
   "cell_type": "code",
   "execution_count": 17,
   "metadata": {},
   "outputs": [
    {
     "name": "stdout",
     "output_type": "stream",
     "text": [
      "Test Accuracy of the model on the UCIHAR test images: 85.05259586019682 %\n"
     ]
    },
    {
     "data": {
      "image/png": "[encoded data removed]",
      "text/plain": [
       "<Figure size 504x504 with 1 Axes>"
      ]
     },
     "metadata": {
      "needs_background": "light"
     },
     "output_type": "display_data"
    }
   ],
   "source": [
    "\n",
    "from sklearn import metrics\n",
    "import seaborn as sns\n",
    "# Test the model on GPU\n",
    "model.eval()\n",
    "all_labels = []\n",
    "all_predictions = []\n",
    "with torch.no_grad():\n",
    "    correct = 0\n",
    "    total = 0\n",
    "    for images, labels in test_loader:\n",
    "        outputs = model(images.to(device))\n",
    "        _, predicted = torch.max(outputs.data, 1)\n",
    "        all_predictions.append(predicted)\n",
    "        all_labels.append(labels)\n",
    "        total += labels.size(0)\n",
    "        correct += (predicted == labels.to(device)).sum().item()\n",
    "\n",
    "    print('Test Accuracy of the model on the UCIHAR test images: {} %'.format((correct / total) * 100))\n",
    "\n",
    "mat = metrics.confusion_matrix(torch.cat(all_predictions).cpu(), torch.cat(all_labels).cpu())\n",
    "plt.figure(figsize=(7,7))\n",
    "sns.heatmap(mat.T, square=True, annot=True, fmt='d', cbar=False,\n",
    "            xticklabels=classes, yticklabels=classes)\n",
    "plt.xlabel('true label')\n",
    "plt.ylabel('predicted label');"
   ]
  },
  {
   "cell_type": "code",
   "execution_count": null,
   "metadata": {},
   "outputs": [],
   "source": []
  },
  {
   "cell_type": "code",
   "execution_count": null,
   "metadata": {},
   "outputs": [],
   "source": []
  },
  {
   "cell_type": "code",
   "execution_count": null,
   "metadata": {},
   "outputs": [],
   "source": []
  },
  {
   "cell_type": "code",
   "execution_count": null,
   "metadata": {},
   "outputs": [],
   "source": []
  }
 ],
 "metadata": {
  "kernelspec": {
   "display_name": "Python 3",
   "language": "python",
   "name": "python3"
  },
  "language_info": {
   "codemirror_mode": {
    "name": "ipython",
    "version": 3
   },
   "file_extension": ".py",
   "mimetype": "text/x-python",
   "name": "python",
   "nbconvert_exporter": "python",
   "pygments_lexer": "ipython3",
   "version": "3.8.3"
  }
 },
 "nbformat": 4,
 "nbformat_minor": 4
}
