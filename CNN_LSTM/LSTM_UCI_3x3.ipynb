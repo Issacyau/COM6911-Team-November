{
 "cells": [
  {
   "cell_type": "code",
   "execution_count": 1,
   "metadata": {},
   "outputs": [],
   "source": [
    "%matplotlib inline\n",
    "import matplotlib.pyplot as plt\n",
    "import numpy as np\n",
    "import torch\n",
    "import torch.nn as nn\n",
    "import torch.nn.functional as F\n",
    "import torch.optim as optim\n",
    "import torchvision\n",
    "from torchvision import datasets, transforms\n",
    "from torch.utils.data import TensorDataset, DataLoader\n",
    "from itertools import chain"
   ]
  },
  {
   "cell_type": "code",
   "execution_count": 2,
   "metadata": {},
   "outputs": [],
   "source": [
    "# Set random seed for numpy\n",
    "np.random.seed(11)\n",
    "# Set random seed for pytorch\n",
    "torch.manual_seed(11)\n",
    "# Set random seed for pytorch running in GPU\n",
    "if torch.cuda.is_available():\n",
    "    torch.cuda.manual_seed_all(11)"
   ]
  },
  {
   "cell_type": "code",
   "execution_count": 3,
   "metadata": {
    "scrolled": true
   },
   "outputs": [],
   "source": [
    "UCI_train_features = np.load(\"uci/UCI_train_features_64.npy\")\n",
    "UCI_test_features = np.load(\"uci/UCI_test_features_64.npy\")\n",
    "UCI_train_labels = np.load(\"uci/UCI_train_labels_64.npy\",allow_pickle=True)\n",
    "UCI_test_labels = np.load(\"uci/UCI_test_labels_64.npy\",allow_pickle=True)"
   ]
  },
  {
   "cell_type": "code",
   "execution_count": 4,
   "metadata": {},
   "outputs": [],
   "source": [
    "UCI_train_labels = np.asarray(list(chain.from_iterable(UCI_train_labels)))\n",
    "UCI_test_labels = np.asarray(list(chain.from_iterable(UCI_test_labels)))"
   ]
  },
  {
   "cell_type": "code",
   "execution_count": 5,
   "metadata": {},
   "outputs": [],
   "source": [
    "# Hyperparameters\n",
    "num_epochs = 15\n",
    "batch_size = 10\n",
    "learning_rate = 0.0001"
   ]
  },
  {
   "cell_type": "code",
   "execution_count": 6,
   "metadata": {},
   "outputs": [],
   "source": [
    "UCI_train_labels = UCI_train_labels.astype(int) - 1\n",
    "UCI_test_labels = UCI_test_labels.astype(int) - 1"
   ]
  },
  {
   "cell_type": "code",
   "execution_count": 7,
   "metadata": {},
   "outputs": [],
   "source": [
    "# Transform to torch tensor\n",
    "tensor_UCI_train_features = torch.Tensor(UCI_train_features) \n",
    "tensor_UCI_train_labels = torch.Tensor(UCI_train_labels)\n",
    "tensor_UCI_test_features = torch.Tensor(UCI_test_features) \n",
    "tensor_UCI_test_labels = torch.Tensor(UCI_test_labels)\n",
    "# Add one dimension of channel\n",
    "tensor_UCI_train_features = torch.unsqueeze(tensor_UCI_train_features, 1)\n",
    "tensor_UCI_test_features = torch.unsqueeze(tensor_UCI_test_features, 1)\n",
    "# Create datset\n",
    "train_dataset_UCI = TensorDataset(tensor_UCI_train_features,tensor_UCI_train_labels)\n",
    "test_dataset_UCI = TensorDataset(tensor_UCI_test_features,tensor_UCI_test_labels)"
   ]
  },
  {
   "cell_type": "code",
   "execution_count": 8,
   "metadata": {},
   "outputs": [],
   "source": [
    "train_loader = torch.utils.data.DataLoader(dataset=train_dataset_UCI, batch_size=batch_size, shuffle=True)\n",
    "test_loader = torch.utils.data.DataLoader(dataset=test_dataset_UCI, batch_size=batch_size, shuffle=False)"
   ]
  },
  {
   "cell_type": "code",
   "execution_count": 9,
   "metadata": {},
   "outputs": [
    {
     "name": "stdout",
     "output_type": "stream",
     "text": [
      "14704\n",
      "5894\n"
     ]
    }
   ],
   "source": [
    "print(len(train_loader.dataset))\n",
    "print(len(test_loader.dataset))"
   ]
  },
  {
   "cell_type": "code",
   "execution_count": 10,
   "metadata": {},
   "outputs": [
    {
     "name": "stdout",
     "output_type": "stream",
     "text": [
      "torch.Size([10, 1, 36, 64])\n"
     ]
    }
   ],
   "source": [
    "for images,labels in train_loader:\n",
    "    print(images.size())\n",
    "    break"
   ]
  },
  {
   "cell_type": "markdown",
   "metadata": {},
   "source": [
    "### Construct LSTM"
   ]
  },
  {
   "cell_type": "code",
   "execution_count": 11,
   "metadata": {},
   "outputs": [],
   "source": [
    "device = torch.device('cuda') if torch.cuda.is_available() else torch.device('cpu')"
   ]
  },
  {
   "cell_type": "code",
   "execution_count": 12,
   "metadata": {},
   "outputs": [],
   "source": [
    "class Cnn(nn.Module):\n",
    "    def __init__(self):\n",
    "        super(Cnn, self).__init__()\n",
    "        self.conv1 = nn.Conv2d(1,32, kernel_size=3, stride=1, padding=1)  ### 10,32,18,384\n",
    "        self.pool = nn.MaxPool2d(2, 2) ### 10,32,9,192 2nd layer\n",
    "        self.conv2 = nn.Conv2d(32,64, kernel_size=3, stride=1, padding=1) ###10,64,9,192 3rd layer\n",
    "    \n",
    "    def forward(self, x):\n",
    "        batch,c,h,w = x.size()\n",
    "        x = self.pool(F.relu(self.conv1(x)))\n",
    "        x = (F.relu(self.conv2(x))) ### 10,64,9,192/ 5,64,9,192\n",
    "        x = x.view(batch,-1) ### 10,110592 \n",
    "        return x"
   ]
  },
  {
   "cell_type": "code",
   "execution_count": 13,
   "metadata": {},
   "outputs": [],
   "source": [
    "\n",
    "class CNN_LSTM(nn.Module): \n",
    "    def __init__(self):\n",
    "        super(CNN_LSTM, self).__init__() ###(num_samples,timesteps,input_dim). \n",
    "        self.cnn = Cnn()\n",
    "        self.rnn = nn.LSTM(\n",
    "            input_size=288, ### [32 <- 216] / [64<-432]/ [128<-864] or single [32 <- 72] / [64<-144]/ [128<-288]\n",
    "            hidden_size=36, \n",
    "            num_layers=5, ### change [1,3,5]\n",
    "            batch_first=True)\n",
    "        self.linear = nn.Linear(36,6)\n",
    "\n",
    "    def forward(self, x):\n",
    "        batch,c,h,w = x.size()\n",
    "        c_out = self.cnn(x) ### 10,110592\n",
    "        r_in = c_out.view(batch,128,-1) ### 10,1,8192\n",
    "        r_out, (h_n, h_c) = self.rnn(r_in)\n",
    "        r_out2 = self.linear(r_out[:, -1, :])\n",
    "        return F.log_softmax(r_out2, dim=1)\n"
   ]
  },
  {
   "cell_type": "code",
   "execution_count": 14,
   "metadata": {},
   "outputs": [],
   "source": [
    "# Choose CPU or GPU\n",
    "# model = ConvNet() #CPU\n",
    "device = torch.device(\"cuda:0\" if torch.cuda.is_available() else \"cpu\")\n",
    "model = CNN_LSTM().to(device)\n",
    "\n",
    "# Loss and optimizer\n",
    "criterion = nn.CrossEntropyLoss()\n",
    "optimizer = optim.Adam(model.parameters(), lr=learning_rate)"
   ]
  },
  {
   "cell_type": "markdown",
   "metadata": {},
   "source": [
    "### Combine"
   ]
  },
  {
   "cell_type": "code",
   "execution_count": 15,
   "metadata": {},
   "outputs": [
    {
     "name": "stdout",
     "output_type": "stream",
     "text": [
      "Epoch [1/15], Step [100/1471], Loss: 1.7936, Accuracy: 30.00%\n",
      "Epoch [1/15], Step [200/1471], Loss: 1.6773, Accuracy: 50.00%\n",
      "Epoch [1/15], Step [300/1471], Loss: 1.3862, Accuracy: 50.00%\n",
      "Epoch [1/15], Step [400/1471], Loss: 1.2337, Accuracy: 70.00%\n",
      "Epoch [1/15], Step [500/1471], Loss: 1.1562, Accuracy: 50.00%\n",
      "Epoch [1/15], Step [600/1471], Loss: 1.2124, Accuracy: 20.00%\n",
      "Epoch [1/15], Step [700/1471], Loss: 1.1701, Accuracy: 40.00%\n",
      "Epoch [1/15], Step [800/1471], Loss: 1.1191, Accuracy: 70.00%\n",
      "Epoch [1/15], Step [900/1471], Loss: 1.1151, Accuracy: 40.00%\n",
      "Epoch [1/15], Step [1000/1471], Loss: 0.9582, Accuracy: 70.00%\n",
      "Epoch [1/15], Step [1100/1471], Loss: 0.9780, Accuracy: 60.00%\n",
      "Epoch [1/15], Step [1200/1471], Loss: 1.0739, Accuracy: 50.00%\n",
      "Epoch [1/15], Step [1300/1471], Loss: 1.1229, Accuracy: 40.00%\n",
      "Epoch [1/15], Step [1400/1471], Loss: 1.2882, Accuracy: 50.00%\n",
      "Epoch [2/15], Step [100/1471], Loss: 1.1071, Accuracy: 50.00%\n",
      "Epoch [2/15], Step [200/1471], Loss: 1.5262, Accuracy: 30.00%\n",
      "Epoch [2/15], Step [300/1471], Loss: 0.8865, Accuracy: 50.00%\n",
      "Epoch [2/15], Step [400/1471], Loss: 0.9815, Accuracy: 60.00%\n",
      "Epoch [2/15], Step [500/1471], Loss: 0.9916, Accuracy: 40.00%\n",
      "Epoch [2/15], Step [600/1471], Loss: 0.9600, Accuracy: 60.00%\n",
      "Epoch [2/15], Step [700/1471], Loss: 0.8467, Accuracy: 60.00%\n",
      "Epoch [2/15], Step [800/1471], Loss: 0.5954, Accuracy: 80.00%\n",
      "Epoch [2/15], Step [900/1471], Loss: 0.8976, Accuracy: 60.00%\n",
      "Epoch [2/15], Step [1000/1471], Loss: 0.8184, Accuracy: 60.00%\n",
      "Epoch [2/15], Step [1100/1471], Loss: 0.9637, Accuracy: 50.00%\n",
      "Epoch [2/15], Step [1200/1471], Loss: 0.8200, Accuracy: 60.00%\n",
      "Epoch [2/15], Step [1300/1471], Loss: 0.8346, Accuracy: 70.00%\n",
      "Epoch [2/15], Step [1400/1471], Loss: 0.8073, Accuracy: 70.00%\n",
      "Epoch [3/15], Step [100/1471], Loss: 1.0717, Accuracy: 20.00%\n",
      "Epoch [3/15], Step [200/1471], Loss: 0.9200, Accuracy: 60.00%\n",
      "Epoch [3/15], Step [300/1471], Loss: 1.0598, Accuracy: 60.00%\n",
      "Epoch [3/15], Step [400/1471], Loss: 0.9074, Accuracy: 60.00%\n",
      "Epoch [3/15], Step [500/1471], Loss: 0.8607, Accuracy: 60.00%\n",
      "Epoch [3/15], Step [600/1471], Loss: 0.7544, Accuracy: 60.00%\n",
      "Epoch [3/15], Step [700/1471], Loss: 1.0680, Accuracy: 20.00%\n",
      "Epoch [3/15], Step [800/1471], Loss: 0.6672, Accuracy: 70.00%\n",
      "Epoch [3/15], Step [900/1471], Loss: 0.9138, Accuracy: 60.00%\n",
      "Epoch [3/15], Step [1000/1471], Loss: 0.6228, Accuracy: 90.00%\n",
      "Epoch [3/15], Step [1100/1471], Loss: 0.8606, Accuracy: 50.00%\n",
      "Epoch [3/15], Step [1200/1471], Loss: 1.0757, Accuracy: 60.00%\n",
      "Epoch [3/15], Step [1300/1471], Loss: 0.9191, Accuracy: 60.00%\n",
      "Epoch [3/15], Step [1400/1471], Loss: 0.7439, Accuracy: 70.00%\n",
      "Epoch [4/15], Step [100/1471], Loss: 0.6820, Accuracy: 80.00%\n",
      "Epoch [4/15], Step [200/1471], Loss: 0.7945, Accuracy: 60.00%\n",
      "Epoch [4/15], Step [300/1471], Loss: 1.0894, Accuracy: 30.00%\n",
      "Epoch [4/15], Step [400/1471], Loss: 0.7089, Accuracy: 70.00%\n",
      "Epoch [4/15], Step [500/1471], Loss: 0.9482, Accuracy: 50.00%\n",
      "Epoch [4/15], Step [600/1471], Loss: 1.0574, Accuracy: 50.00%\n",
      "Epoch [4/15], Step [700/1471], Loss: 1.2803, Accuracy: 30.00%\n",
      "Epoch [4/15], Step [800/1471], Loss: 0.4069, Accuracy: 90.00%\n",
      "Epoch [4/15], Step [900/1471], Loss: 0.9325, Accuracy: 50.00%\n",
      "Epoch [4/15], Step [1000/1471], Loss: 0.8348, Accuracy: 50.00%\n",
      "Epoch [4/15], Step [1100/1471], Loss: 0.6695, Accuracy: 80.00%\n",
      "Epoch [4/15], Step [1200/1471], Loss: 0.8848, Accuracy: 60.00%\n",
      "Epoch [4/15], Step [1300/1471], Loss: 0.5729, Accuracy: 60.00%\n",
      "Epoch [4/15], Step [1400/1471], Loss: 0.6176, Accuracy: 70.00%\n",
      "Epoch [5/15], Step [100/1471], Loss: 0.7410, Accuracy: 70.00%\n",
      "Epoch [5/15], Step [200/1471], Loss: 0.5866, Accuracy: 80.00%\n",
      "Epoch [5/15], Step [300/1471], Loss: 0.4947, Accuracy: 80.00%\n",
      "Epoch [5/15], Step [400/1471], Loss: 0.8481, Accuracy: 40.00%\n",
      "Epoch [5/15], Step [500/1471], Loss: 0.5880, Accuracy: 70.00%\n",
      "Epoch [5/15], Step [600/1471], Loss: 0.6271, Accuracy: 70.00%\n",
      "Epoch [5/15], Step [700/1471], Loss: 0.5417, Accuracy: 70.00%\n",
      "Epoch [5/15], Step [800/1471], Loss: 0.6505, Accuracy: 80.00%\n",
      "Epoch [5/15], Step [900/1471], Loss: 0.8825, Accuracy: 50.00%\n",
      "Epoch [5/15], Step [1000/1471], Loss: 0.6865, Accuracy: 60.00%\n",
      "Epoch [5/15], Step [1100/1471], Loss: 0.7034, Accuracy: 60.00%\n",
      "Epoch [5/15], Step [1200/1471], Loss: 1.0225, Accuracy: 60.00%\n",
      "Epoch [5/15], Step [1300/1471], Loss: 0.4748, Accuracy: 70.00%\n",
      "Epoch [5/15], Step [1400/1471], Loss: 0.5489, Accuracy: 70.00%\n",
      "Epoch [6/15], Step [100/1471], Loss: 0.4529, Accuracy: 90.00%\n",
      "Epoch [6/15], Step [200/1471], Loss: 0.4364, Accuracy: 80.00%\n",
      "Epoch [6/15], Step [300/1471], Loss: 0.8122, Accuracy: 60.00%\n",
      "Epoch [6/15], Step [400/1471], Loss: 0.5829, Accuracy: 50.00%\n",
      "Epoch [6/15], Step [500/1471], Loss: 0.5158, Accuracy: 60.00%\n",
      "Epoch [6/15], Step [600/1471], Loss: 0.4548, Accuracy: 90.00%\n",
      "Epoch [6/15], Step [700/1471], Loss: 0.7777, Accuracy: 50.00%\n",
      "Epoch [6/15], Step [800/1471], Loss: 0.7788, Accuracy: 40.00%\n",
      "Epoch [6/15], Step [900/1471], Loss: 0.4372, Accuracy: 70.00%\n",
      "Epoch [6/15], Step [1000/1471], Loss: 0.6273, Accuracy: 60.00%\n",
      "Epoch [6/15], Step [1100/1471], Loss: 0.4093, Accuracy: 80.00%\n",
      "Epoch [6/15], Step [1200/1471], Loss: 0.5142, Accuracy: 80.00%\n",
      "Epoch [6/15], Step [1300/1471], Loss: 0.3959, Accuracy: 80.00%\n",
      "Epoch [6/15], Step [1400/1471], Loss: 0.3957, Accuracy: 90.00%\n",
      "Epoch [7/15], Step [100/1471], Loss: 0.5753, Accuracy: 50.00%\n",
      "Epoch [7/15], Step [200/1471], Loss: 0.8661, Accuracy: 50.00%\n",
      "Epoch [7/15], Step [300/1471], Loss: 0.5556, Accuracy: 70.00%\n",
      "Epoch [7/15], Step [400/1471], Loss: 0.7781, Accuracy: 70.00%\n",
      "Epoch [7/15], Step [500/1471], Loss: 0.6873, Accuracy: 60.00%\n",
      "Epoch [7/15], Step [600/1471], Loss: 1.1280, Accuracy: 40.00%\n",
      "Epoch [7/15], Step [700/1471], Loss: 0.5606, Accuracy: 70.00%\n",
      "Epoch [7/15], Step [800/1471], Loss: 0.5420, Accuracy: 60.00%\n",
      "Epoch [7/15], Step [900/1471], Loss: 0.6726, Accuracy: 60.00%\n",
      "Epoch [7/15], Step [1000/1471], Loss: 0.5532, Accuracy: 70.00%\n",
      "Epoch [7/15], Step [1100/1471], Loss: 0.4313, Accuracy: 80.00%\n",
      "Epoch [7/15], Step [1200/1471], Loss: 0.3382, Accuracy: 80.00%\n",
      "Epoch [7/15], Step [1300/1471], Loss: 0.6239, Accuracy: 60.00%\n",
      "Epoch [7/15], Step [1400/1471], Loss: 0.5256, Accuracy: 90.00%\n",
      "Epoch [8/15], Step [100/1471], Loss: 0.8674, Accuracy: 60.00%\n",
      "Epoch [8/15], Step [200/1471], Loss: 0.5103, Accuracy: 80.00%\n",
      "Epoch [8/15], Step [300/1471], Loss: 0.8811, Accuracy: 50.00%\n",
      "Epoch [8/15], Step [400/1471], Loss: 0.5353, Accuracy: 70.00%\n",
      "Epoch [8/15], Step [500/1471], Loss: 1.1232, Accuracy: 50.00%\n",
      "Epoch [8/15], Step [600/1471], Loss: 0.3486, Accuracy: 100.00%\n",
      "Epoch [8/15], Step [700/1471], Loss: 0.3857, Accuracy: 90.00%\n",
      "Epoch [8/15], Step [800/1471], Loss: 0.3750, Accuracy: 80.00%\n",
      "Epoch [8/15], Step [900/1471], Loss: 0.4280, Accuracy: 80.00%\n",
      "Epoch [8/15], Step [1000/1471], Loss: 0.3333, Accuracy: 80.00%\n",
      "Epoch [8/15], Step [1100/1471], Loss: 0.3653, Accuracy: 90.00%\n",
      "Epoch [8/15], Step [1200/1471], Loss: 0.6070, Accuracy: 60.00%\n",
      "Epoch [8/15], Step [1300/1471], Loss: 0.6178, Accuracy: 70.00%\n",
      "Epoch [8/15], Step [1400/1471], Loss: 0.4566, Accuracy: 80.00%\n",
      "Epoch [9/15], Step [100/1471], Loss: 0.4060, Accuracy: 80.00%\n",
      "Epoch [9/15], Step [200/1471], Loss: 0.4345, Accuracy: 80.00%\n",
      "Epoch [9/15], Step [300/1471], Loss: 0.6270, Accuracy: 80.00%\n",
      "Epoch [9/15], Step [400/1471], Loss: 0.7987, Accuracy: 70.00%\n",
      "Epoch [9/15], Step [500/1471], Loss: 0.9725, Accuracy: 40.00%\n",
      "Epoch [9/15], Step [600/1471], Loss: 0.3188, Accuracy: 90.00%\n",
      "Epoch [9/15], Step [700/1471], Loss: 0.5384, Accuracy: 80.00%\n",
      "Epoch [9/15], Step [800/1471], Loss: 0.2660, Accuracy: 90.00%\n",
      "Epoch [9/15], Step [900/1471], Loss: 0.3081, Accuracy: 90.00%\n",
      "Epoch [9/15], Step [1000/1471], Loss: 0.2856, Accuracy: 90.00%\n",
      "Epoch [9/15], Step [1100/1471], Loss: 0.3918, Accuracy: 80.00%\n",
      "Epoch [9/15], Step [1200/1471], Loss: 0.3254, Accuracy: 90.00%\n",
      "Epoch [9/15], Step [1300/1471], Loss: 0.4682, Accuracy: 80.00%\n",
      "Epoch [9/15], Step [1400/1471], Loss: 0.5501, Accuracy: 80.00%\n",
      "Epoch [10/15], Step [100/1471], Loss: 0.1253, Accuracy: 100.00%\n",
      "Epoch [10/15], Step [200/1471], Loss: 0.3506, Accuracy: 90.00%\n",
      "Epoch [10/15], Step [300/1471], Loss: 0.3609, Accuracy: 90.00%\n",
      "Epoch [10/15], Step [400/1471], Loss: 0.5172, Accuracy: 70.00%\n",
      "Epoch [10/15], Step [500/1471], Loss: 0.2105, Accuracy: 100.00%\n",
      "Epoch [10/15], Step [600/1471], Loss: 0.2147, Accuracy: 100.00%\n"
     ]
    },
    {
     "name": "stdout",
     "output_type": "stream",
     "text": [
      "Epoch [10/15], Step [700/1471], Loss: 0.1300, Accuracy: 100.00%\n",
      "Epoch [10/15], Step [800/1471], Loss: 0.5231, Accuracy: 70.00%\n",
      "Epoch [10/15], Step [900/1471], Loss: 0.2181, Accuracy: 100.00%\n",
      "Epoch [10/15], Step [1000/1471], Loss: 0.4224, Accuracy: 90.00%\n",
      "Epoch [10/15], Step [1100/1471], Loss: 0.2817, Accuracy: 80.00%\n",
      "Epoch [10/15], Step [1200/1471], Loss: 0.0795, Accuracy: 100.00%\n",
      "Epoch [10/15], Step [1300/1471], Loss: 0.3189, Accuracy: 80.00%\n",
      "Epoch [10/15], Step [1400/1471], Loss: 0.2841, Accuracy: 90.00%\n",
      "Epoch [11/15], Step [100/1471], Loss: 0.6397, Accuracy: 80.00%\n",
      "Epoch [11/15], Step [200/1471], Loss: 0.2663, Accuracy: 100.00%\n",
      "Epoch [11/15], Step [300/1471], Loss: 0.4968, Accuracy: 70.00%\n",
      "Epoch [11/15], Step [400/1471], Loss: 0.3637, Accuracy: 80.00%\n",
      "Epoch [11/15], Step [500/1471], Loss: 0.3912, Accuracy: 90.00%\n",
      "Epoch [11/15], Step [600/1471], Loss: 0.2030, Accuracy: 100.00%\n",
      "Epoch [11/15], Step [700/1471], Loss: 0.1555, Accuracy: 100.00%\n",
      "Epoch [11/15], Step [800/1471], Loss: 0.6375, Accuracy: 60.00%\n",
      "Epoch [11/15], Step [900/1471], Loss: 0.1483, Accuracy: 100.00%\n",
      "Epoch [11/15], Step [1000/1471], Loss: 0.2927, Accuracy: 90.00%\n",
      "Epoch [11/15], Step [1100/1471], Loss: 0.6710, Accuracy: 90.00%\n",
      "Epoch [11/15], Step [1200/1471], Loss: 0.3394, Accuracy: 100.00%\n",
      "Epoch [11/15], Step [1300/1471], Loss: 0.7513, Accuracy: 70.00%\n",
      "Epoch [11/15], Step [1400/1471], Loss: 0.4914, Accuracy: 70.00%\n",
      "Epoch [12/15], Step [100/1471], Loss: 0.2863, Accuracy: 90.00%\n",
      "Epoch [12/15], Step [200/1471], Loss: 0.3019, Accuracy: 80.00%\n",
      "Epoch [12/15], Step [300/1471], Loss: 0.3759, Accuracy: 80.00%\n",
      "Epoch [12/15], Step [400/1471], Loss: 0.8033, Accuracy: 60.00%\n",
      "Epoch [12/15], Step [500/1471], Loss: 0.8339, Accuracy: 60.00%\n",
      "Epoch [12/15], Step [600/1471], Loss: 0.6784, Accuracy: 80.00%\n",
      "Epoch [12/15], Step [700/1471], Loss: 0.5965, Accuracy: 60.00%\n",
      "Epoch [12/15], Step [800/1471], Loss: 0.2018, Accuracy: 90.00%\n",
      "Epoch [12/15], Step [900/1471], Loss: 0.1132, Accuracy: 100.00%\n",
      "Epoch [12/15], Step [1000/1471], Loss: 0.5035, Accuracy: 70.00%\n",
      "Epoch [12/15], Step [1100/1471], Loss: 0.1823, Accuracy: 100.00%\n",
      "Epoch [12/15], Step [1200/1471], Loss: 0.5628, Accuracy: 80.00%\n",
      "Epoch [12/15], Step [1300/1471], Loss: 0.1610, Accuracy: 90.00%\n",
      "Epoch [12/15], Step [1400/1471], Loss: 0.2743, Accuracy: 80.00%\n",
      "Epoch [13/15], Step [100/1471], Loss: 0.3126, Accuracy: 80.00%\n",
      "Epoch [13/15], Step [200/1471], Loss: 0.1959, Accuracy: 90.00%\n",
      "Epoch [13/15], Step [300/1471], Loss: 0.3502, Accuracy: 80.00%\n",
      "Epoch [13/15], Step [400/1471], Loss: 0.3651, Accuracy: 70.00%\n",
      "Epoch [13/15], Step [500/1471], Loss: 0.5230, Accuracy: 60.00%\n",
      "Epoch [13/15], Step [600/1471], Loss: 0.2096, Accuracy: 90.00%\n",
      "Epoch [13/15], Step [700/1471], Loss: 0.3041, Accuracy: 80.00%\n",
      "Epoch [13/15], Step [800/1471], Loss: 0.4846, Accuracy: 90.00%\n",
      "Epoch [13/15], Step [900/1471], Loss: 0.5042, Accuracy: 80.00%\n",
      "Epoch [13/15], Step [1000/1471], Loss: 0.4233, Accuracy: 80.00%\n",
      "Epoch [13/15], Step [1100/1471], Loss: 0.1122, Accuracy: 100.00%\n",
      "Epoch [13/15], Step [1200/1471], Loss: 0.3747, Accuracy: 90.00%\n",
      "Epoch [13/15], Step [1300/1471], Loss: 0.1187, Accuracy: 100.00%\n",
      "Epoch [13/15], Step [1400/1471], Loss: 0.2002, Accuracy: 100.00%\n",
      "Epoch [14/15], Step [100/1471], Loss: 0.4336, Accuracy: 80.00%\n",
      "Epoch [14/15], Step [200/1471], Loss: 0.4597, Accuracy: 70.00%\n",
      "Epoch [14/15], Step [300/1471], Loss: 0.1329, Accuracy: 100.00%\n",
      "Epoch [14/15], Step [400/1471], Loss: 0.7306, Accuracy: 50.00%\n",
      "Epoch [14/15], Step [500/1471], Loss: 0.1386, Accuracy: 100.00%\n",
      "Epoch [14/15], Step [600/1471], Loss: 0.4930, Accuracy: 60.00%\n",
      "Epoch [14/15], Step [700/1471], Loss: 0.3612, Accuracy: 80.00%\n",
      "Epoch [14/15], Step [800/1471], Loss: 0.1967, Accuracy: 90.00%\n",
      "Epoch [14/15], Step [900/1471], Loss: 0.2670, Accuracy: 90.00%\n",
      "Epoch [14/15], Step [1000/1471], Loss: 0.1747, Accuracy: 80.00%\n",
      "Epoch [14/15], Step [1100/1471], Loss: 0.2966, Accuracy: 90.00%\n",
      "Epoch [14/15], Step [1200/1471], Loss: 0.0429, Accuracy: 100.00%\n",
      "Epoch [14/15], Step [1300/1471], Loss: 0.2240, Accuracy: 100.00%\n",
      "Epoch [14/15], Step [1400/1471], Loss: 0.4922, Accuracy: 90.00%\n",
      "Epoch [15/15], Step [100/1471], Loss: 0.2973, Accuracy: 80.00%\n",
      "Epoch [15/15], Step [200/1471], Loss: 0.3208, Accuracy: 80.00%\n",
      "Epoch [15/15], Step [300/1471], Loss: 0.4707, Accuracy: 70.00%\n",
      "Epoch [15/15], Step [400/1471], Loss: 0.1696, Accuracy: 90.00%\n",
      "Epoch [15/15], Step [500/1471], Loss: 0.1923, Accuracy: 100.00%\n",
      "Epoch [15/15], Step [600/1471], Loss: 0.1258, Accuracy: 90.00%\n",
      "Epoch [15/15], Step [700/1471], Loss: 0.1431, Accuracy: 100.00%\n",
      "Epoch [15/15], Step [800/1471], Loss: 0.5894, Accuracy: 70.00%\n",
      "Epoch [15/15], Step [900/1471], Loss: 0.5302, Accuracy: 80.00%\n",
      "Epoch [15/15], Step [1000/1471], Loss: 0.1705, Accuracy: 100.00%\n",
      "Epoch [15/15], Step [1100/1471], Loss: 0.3755, Accuracy: 80.00%\n",
      "Epoch [15/15], Step [1200/1471], Loss: 0.1474, Accuracy: 100.00%\n",
      "Epoch [15/15], Step [1300/1471], Loss: 0.0749, Accuracy: 100.00%\n",
      "Epoch [15/15], Step [1400/1471], Loss: 0.4252, Accuracy: 80.00%\n",
      "CPU times: user 1h 1min 50s, sys: 1min 23s, total: 1h 3min 14s\n",
      "Wall time: 1h 3min 44s\n"
     ]
    }
   ],
   "source": [
    "%%time\n",
    "total_step = len(train_loader)\n",
    "loss_list = []\n",
    "acc_list = []\n",
    "for epoch in range(num_epochs):\n",
    "    for i, (images, labels) in enumerate(train_loader):\n",
    "        # Run the forward pass\n",
    "        outputs = model(images)\n",
    "        loss = criterion(outputs, labels.to(device).long())\n",
    "        loss_list.append(loss.item())\n",
    "\n",
    "        # Backprop and perform Adam optimisation\n",
    "        optimizer.zero_grad()\n",
    "        loss.backward()\n",
    "        optimizer.step()\n",
    "\n",
    "        # Track the accuracy\n",
    "        total = labels.size(0)\n",
    "        _, predicted = torch.max(outputs.data, 1)\n",
    "        correct = (predicted == labels).sum().item()\n",
    "        acc_list.append(correct / total)\n",
    "\n",
    "        if (i + 1) % 100 == 0:\n",
    "            print('Epoch [{}/{}], Step [{}/{}], Loss: {:.4f}, Accuracy: {:.2f}%'\n",
    "                  .format(epoch + 1, num_epochs, i + 1, total_step, loss.item(),\n",
    "                          (correct / total) * 100))"
   ]
  },
  {
   "cell_type": "code",
   "execution_count": 16,
   "metadata": {},
   "outputs": [],
   "source": [
    "classes = [\"WALKING\", \"WALKING_UPSTAIRS\", \"WALKING_DOWNSTAIRS\", \"SITTING\", \"STANDING\", \"LAYING\"]"
   ]
  },
  {
   "cell_type": "code",
   "execution_count": 17,
   "metadata": {},
   "outputs": [
    {
     "name": "stdout",
     "output_type": "stream",
     "text": [
      "Test Accuracy of the model on the UCIHAR test images: 82.52460128944689 %\n"
     ]
    },
    {
     "data": {
      "image/png": "[encoded data removed]",
      "text/plain": [
       "<Figure size 504x504 with 1 Axes>"
      ]
     },
     "metadata": {
      "needs_background": "light"
     },
     "output_type": "display_data"
    }
   ],
   "source": [
    "\n",
    "from sklearn import metrics\n",
    "import seaborn as sns\n",
    "# Test the model on GPU\n",
    "model.eval()\n",
    "all_labels = []\n",
    "all_predictions = []\n",
    "with torch.no_grad():\n",
    "    correct = 0\n",
    "    total = 0\n",
    "    for images, labels in test_loader:\n",
    "        outputs = model(images.to(device))\n",
    "        _, predicted = torch.max(outputs.data, 1)\n",
    "        all_predictions.append(predicted)\n",
    "        all_labels.append(labels)\n",
    "        total += labels.size(0)\n",
    "        correct += (predicted == labels.to(device)).sum().item()\n",
    "\n",
    "    print('Test Accuracy of the model on the UCIHAR test images: {} %'.format((correct / total) * 100))\n",
    "\n",
    "mat = metrics.confusion_matrix(torch.cat(all_predictions).cpu(), torch.cat(all_labels).cpu())\n",
    "plt.figure(figsize=(7,7))\n",
    "sns.heatmap(mat.T, square=True, annot=True, fmt='d', cbar=False,\n",
    "            xticklabels=classes, yticklabels=classes)\n",
    "plt.xlabel('true label')\n",
    "plt.ylabel('predicted label');"
   ]
  },
  {
   "cell_type": "code",
   "execution_count": null,
   "metadata": {},
   "outputs": [],
   "source": []
  },
  {
   "cell_type": "code",
   "execution_count": null,
   "metadata": {},
   "outputs": [],
   "source": []
  }
 ],
 "metadata": {
  "kernelspec": {
   "display_name": "Python 3",
   "language": "python",
   "name": "python3"
  },
  "language_info": {
   "codemirror_mode": {
    "name": "ipython",
    "version": 3
   },
   "file_extension": ".py",
   "mimetype": "text/x-python",
   "name": "python",
   "nbconvert_exporter": "python",
   "pygments_lexer": "ipython3",
   "version": "3.8.3"
  }
 },
 "nbformat": 4,
 "nbformat_minor": 4
}
