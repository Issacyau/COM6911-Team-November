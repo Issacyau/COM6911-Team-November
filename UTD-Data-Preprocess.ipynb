{
 "cells": [
  {
   "cell_type": "markdown",
   "metadata": {},
   "source": [
    "# UTD data processing & SI/AI generation"
   ]
  },
  {
   "cell_type": "code",
   "execution_count": 1,
   "metadata": {},
   "outputs": [],
   "source": [
    "import os\n",
    "import re\n",
    "import time\n",
    "import numpy as np\n",
    "import pandas as pd\n",
    "import matplotlib.pyplot as plt\n",
    "\n",
    "%matplotlib inline"
   ]
  },
  {
   "cell_type": "code",
   "execution_count": 2,
   "metadata": {},
   "outputs": [],
   "source": [
    "import torch\n",
    "import torchvision\n",
    "import torch.nn as nn\n",
    "import torch.optim as optim\n",
    "import torch.nn.functional as F\n"
   ]
  },
  {
   "cell_type": "markdown",
   "metadata": {},
   "source": [
    "### Load data"
   ]
  },
  {
   "cell_type": "code",
   "execution_count": 3,
   "metadata": {},
   "outputs": [],
   "source": [
    "# Function for generating standard type of signal data\n",
    "def get_signal(file_names):\n",
    "    \n",
    "    out_list = []\n",
    "    \n",
    "    for file_name in file_names:\n",
    "        \n",
    "        raw_data = pd.read_csv(path + file_name)\n",
    "        \n",
    "        if len(raw_data) < 128:\n",
    "            continue\n",
    "        \n",
    "        subject = re.match(r'a.*?(?=_t)',file_name).group()[-1]\n",
    "        activity = re.match(r'a.*?(?=_s)',file_name).group()[1:]\n",
    "        remove_subject = ['22', '23', '24', '25', '26', '27']\n",
    "        \n",
    "        # Ignore the activity from 22 to 27\n",
    "        if activity in remove_subject:\n",
    "            continue\n",
    "            \n",
    "        else:\n",
    "            acc_x = np.array(raw_data['0'])[:128]\n",
    "            acc_y = np.array(raw_data['1'])[:128]\n",
    "            acc_z = np.array(raw_data['2'])[:128]\n",
    "            gyro_x = np.array(raw_data['3'])[:128]\n",
    "            gyro_y = np.array(raw_data['4'])[:128]\n",
    "            gyro_z = np.array(raw_data['5'])[:128]\n",
    "\n",
    "\n",
    "        temp_array = np.array([subject, acc_x, acc_y, acc_z, gyro_x, gyro_y, gyro_z, activity],dtype=object)\n",
    "        out_list.append(temp_array)\n",
    "    \n",
    "    return out_list\n",
    "    "
   ]
  },
  {
   "cell_type": "code",
   "execution_count": 4,
   "metadata": {},
   "outputs": [],
   "source": [
    "# Get all file names of sensor data\n",
    "path = './UTD-Data/UTD/csv/'\n",
    "file_names = os.listdir(path)\n",
    "\n",
    "col_label = ['Subject', 'acc_x', 'acc_y', 'acc_z', 'gyro_x', 'gyro_y', 'gyro_z','Activity']\n",
    "\n",
    "# Extract the activities from 1 to 21\n",
    "sig_data = get_signal(file_names)\n",
    "sig_data_df = pd.DataFrame(sig_data, columns=col_label)\n"
   ]
  },
  {
   "cell_type": "code",
   "execution_count": 5,
   "metadata": {},
   "outputs": [
    {
     "data": {
      "text/plain": [
       "649"
      ]
     },
     "execution_count": 5,
     "metadata": {},
     "output_type": "execute_result"
    }
   ],
   "source": [
    "len(sig_data_df)"
   ]
  },
  {
   "cell_type": "code",
   "execution_count": 6,
   "metadata": {},
   "outputs": [
    {
     "data": {
      "text/html": [
       "<div>\n",
       "<style scoped>\n",
       "    .dataframe tbody tr th:only-of-type {\n",
       "        vertical-align: middle;\n",
       "    }\n",
       "\n",
       "    .dataframe tbody tr th {\n",
       "        vertical-align: top;\n",
       "    }\n",
       "\n",
       "    .dataframe thead th {\n",
       "        text-align: right;\n",
       "    }\n",
       "</style>\n",
       "<table border=\"1\" class=\"dataframe\">\n",
       "  <thead>\n",
       "    <tr style=\"text-align: right;\">\n",
       "      <th></th>\n",
       "      <th>Subject</th>\n",
       "      <th>acc_x</th>\n",
       "      <th>acc_y</th>\n",
       "      <th>acc_z</th>\n",
       "      <th>gyro_x</th>\n",
       "      <th>gyro_y</th>\n",
       "      <th>gyro_z</th>\n",
       "      <th>Activity</th>\n",
       "    </tr>\n",
       "  </thead>\n",
       "  <tbody>\n",
       "    <tr>\n",
       "      <th>0</th>\n",
       "      <td>1</td>\n",
       "      <td>[-0.9516600000000001, -0.948486, -0.9404299999...</td>\n",
       "      <td>[-0.41626, -0.425537, -0.426025, -0.507568, -0...</td>\n",
       "      <td>[-0.09106399999999999, -0.118652, -0.140869, -...</td>\n",
       "      <td>[-18.198473, -18.717557, -21.40458, -23.389313...</td>\n",
       "      <td>[-8.671756, -7.847328, -5.679389, -2.229008000...</td>\n",
       "      <td>[8.610686999999999, 6.442748, 2.22900800000000...</td>\n",
       "      <td>10</td>\n",
       "    </tr>\n",
       "    <tr>\n",
       "      <th>1</th>\n",
       "      <td>1</td>\n",
       "      <td>[-0.959717, -0.964355, -0.976807, -0.980713, -...</td>\n",
       "      <td>[-0.33129899999999995, -0.343018, -0.370117000...</td>\n",
       "      <td>[-0.11108399999999999, -0.126953, -0.140381, -...</td>\n",
       "      <td>[6.564885, 10.80916, 12.091603, 8.152672, 5.28...</td>\n",
       "      <td>[0.335878, 1.7404580000000003, 3.541985, 7.725...</td>\n",
       "      <td>[-2.80916, -3.603053, -6.10687, -9.679389, -14...</td>\n",
       "      <td>10</td>\n",
       "    </tr>\n",
       "    <tr>\n",
       "      <th>2</th>\n",
       "      <td>1</td>\n",
       "      <td>[-0.954834, -0.9628909999999999, -0.962158, -0...</td>\n",
       "      <td>[-0.43335, -0.480469, -0.5014649999999999, -0....</td>\n",
       "      <td>[-0.223877, -0.280273, -0.32055700000000004, -...</td>\n",
       "      <td>[5.648855, 6.564885, 2.167939, 1.557252, 5.526...</td>\n",
       "      <td>[12.274809, 16.0, 20.702289999999998, 27.14503...</td>\n",
       "      <td>[-13.19084, -16.763359, -18.59542, -24.824427,...</td>\n",
       "      <td>10</td>\n",
       "    </tr>\n",
       "    <tr>\n",
       "      <th>3</th>\n",
       "      <td>1</td>\n",
       "      <td>[-0.938232, -0.9472659999999999, -0.935059, -0...</td>\n",
       "      <td>[-0.321533, -0.32959, -0.31738299999999997, -0...</td>\n",
       "      <td>[-0.190674, -0.190186, -0.19653299999999999, -...</td>\n",
       "      <td>[-1.89313, -1.3435110000000001, -1.435115, 0.0...</td>\n",
       "      <td>[-0.396947, 0.274809, 0.8549620000000001, 1.43...</td>\n",
       "      <td>[-1.5877860000000001, -1.770992, -1.679389, -1...</td>\n",
       "      <td>10</td>\n",
       "    </tr>\n",
       "    <tr>\n",
       "      <th>4</th>\n",
       "      <td>2</td>\n",
       "      <td>[-0.976318, -0.981934, -0.9855959999999999, -0...</td>\n",
       "      <td>[-0.185059, -0.18676800000000002, -0.187256, -...</td>\n",
       "      <td>[0.304199, 0.305664, 0.302246, 0.3044429999999...</td>\n",
       "      <td>[-1.7404580000000003, -1.770992, -1.770992, -1...</td>\n",
       "      <td>[1.3435110000000001, 1.282443, 1.251908, 1.374...</td>\n",
       "      <td>[-0.70229, -0.70229, -0.641221, -0.580153, -0....</td>\n",
       "      <td>10</td>\n",
       "    </tr>\n",
       "  </tbody>\n",
       "</table>\n",
       "</div>"
      ],
      "text/plain": [
       "  Subject                                              acc_x  \\\n",
       "0       1  [-0.9516600000000001, -0.948486, -0.9404299999...   \n",
       "1       1  [-0.959717, -0.964355, -0.976807, -0.980713, -...   \n",
       "2       1  [-0.954834, -0.9628909999999999, -0.962158, -0...   \n",
       "3       1  [-0.938232, -0.9472659999999999, -0.935059, -0...   \n",
       "4       2  [-0.976318, -0.981934, -0.9855959999999999, -0...   \n",
       "\n",
       "                                               acc_y  \\\n",
       "0  [-0.41626, -0.425537, -0.426025, -0.507568, -0...   \n",
       "1  [-0.33129899999999995, -0.343018, -0.370117000...   \n",
       "2  [-0.43335, -0.480469, -0.5014649999999999, -0....   \n",
       "3  [-0.321533, -0.32959, -0.31738299999999997, -0...   \n",
       "4  [-0.185059, -0.18676800000000002, -0.187256, -...   \n",
       "\n",
       "                                               acc_z  \\\n",
       "0  [-0.09106399999999999, -0.118652, -0.140869, -...   \n",
       "1  [-0.11108399999999999, -0.126953, -0.140381, -...   \n",
       "2  [-0.223877, -0.280273, -0.32055700000000004, -...   \n",
       "3  [-0.190674, -0.190186, -0.19653299999999999, -...   \n",
       "4  [0.304199, 0.305664, 0.302246, 0.3044429999999...   \n",
       "\n",
       "                                              gyro_x  \\\n",
       "0  [-18.198473, -18.717557, -21.40458, -23.389313...   \n",
       "1  [6.564885, 10.80916, 12.091603, 8.152672, 5.28...   \n",
       "2  [5.648855, 6.564885, 2.167939, 1.557252, 5.526...   \n",
       "3  [-1.89313, -1.3435110000000001, -1.435115, 0.0...   \n",
       "4  [-1.7404580000000003, -1.770992, -1.770992, -1...   \n",
       "\n",
       "                                              gyro_y  \\\n",
       "0  [-8.671756, -7.847328, -5.679389, -2.229008000...   \n",
       "1  [0.335878, 1.7404580000000003, 3.541985, 7.725...   \n",
       "2  [12.274809, 16.0, 20.702289999999998, 27.14503...   \n",
       "3  [-0.396947, 0.274809, 0.8549620000000001, 1.43...   \n",
       "4  [1.3435110000000001, 1.282443, 1.251908, 1.374...   \n",
       "\n",
       "                                              gyro_z Activity  \n",
       "0  [8.610686999999999, 6.442748, 2.22900800000000...       10  \n",
       "1  [-2.80916, -3.603053, -6.10687, -9.679389, -14...       10  \n",
       "2  [-13.19084, -16.763359, -18.59542, -24.824427,...       10  \n",
       "3  [-1.5877860000000001, -1.770992, -1.679389, -1...       10  \n",
       "4  [-0.70229, -0.70229, -0.641221, -0.580153, -0....       10  "
      ]
     },
     "execution_count": 6,
     "metadata": {},
     "output_type": "execute_result"
    }
   ],
   "source": [
    "sig_data_df.head()"
   ]
  },
  {
   "cell_type": "code",
   "execution_count": 7,
   "metadata": {},
   "outputs": [],
   "source": [
    "# Split the data set into train & test set\n",
    "from sklearn.model_selection import train_test_split\n",
    "\n",
    "train_UTD, test_UTD = train_test_split(sig_data_df, test_size=0.2, random_state=42)\n",
    "\n",
    "train_UTD_feature = train_UTD.drop(['Subject','Activity'], axis=1)\n",
    "train_UTD_label = train_UTD['Activity']\n",
    "\n",
    "test_UTD_feature = test_UTD.drop(['Subject','Activity'], axis=1)\n",
    "test_UTD_label = test_UTD['Activity']"
   ]
  },
  {
   "cell_type": "code",
   "execution_count": 8,
   "metadata": {},
   "outputs": [
    {
     "data": {
      "text/html": [
       "<div>\n",
       "<style scoped>\n",
       "    .dataframe tbody tr th:only-of-type {\n",
       "        vertical-align: middle;\n",
       "    }\n",
       "\n",
       "    .dataframe tbody tr th {\n",
       "        vertical-align: top;\n",
       "    }\n",
       "\n",
       "    .dataframe thead th {\n",
       "        text-align: right;\n",
       "    }\n",
       "</style>\n",
       "<table border=\"1\" class=\"dataframe\">\n",
       "  <thead>\n",
       "    <tr style=\"text-align: right;\">\n",
       "      <th></th>\n",
       "      <th>Subject</th>\n",
       "      <th>acc_x</th>\n",
       "      <th>acc_y</th>\n",
       "      <th>acc_z</th>\n",
       "      <th>gyro_x</th>\n",
       "      <th>gyro_y</th>\n",
       "      <th>gyro_z</th>\n",
       "      <th>Activity</th>\n",
       "    </tr>\n",
       "  </thead>\n",
       "  <tbody>\n",
       "    <tr>\n",
       "      <th>332</th>\n",
       "      <td>6</td>\n",
       "      <td>[-1.005615, -1.009033, -0.999023, -1.004883, -...</td>\n",
       "      <td>[-0.11181600000000001, -0.12329100000000001, -...</td>\n",
       "      <td>[0.057861, 0.052979, 0.05127, 0.050049, 0.0295...</td>\n",
       "      <td>[1.282443, 0.122137, -1.5877860000000001, -2.8...</td>\n",
       "      <td>[0.824427, 0.7938930000000001, 0.4580149999999...</td>\n",
       "      <td>[-0.45801499999999995, -0.671756, -1.099237, -...</td>\n",
       "      <td>1</td>\n",
       "    </tr>\n",
       "    <tr>\n",
       "      <th>29</th>\n",
       "      <td>8</td>\n",
       "      <td>[-0.9897459999999999, -0.980957, -0.979736, -0...</td>\n",
       "      <td>[-0.185547, -0.17724600000000001, -0.182861, -...</td>\n",
       "      <td>[0.128906, 0.12133800000000002, 0.114501999999...</td>\n",
       "      <td>[-4.549618, -3.8778629999999996, -4.152672, -3...</td>\n",
       "      <td>[2.625954, 0.305344, -0.396947, 0.427481000000...</td>\n",
       "      <td>[-2.3511450000000003, -2.412214, -1.007634, 1....</td>\n",
       "      <td>10</td>\n",
       "    </tr>\n",
       "    <tr>\n",
       "      <th>302</th>\n",
       "      <td>6</td>\n",
       "      <td>[-1.009521, -1.036377, -1.041504, -1.040039, -...</td>\n",
       "      <td>[-0.1604, -0.16406300000000001, -0.23290999999...</td>\n",
       "      <td>[0.042236, 0.037108999999999996, -0.021484, -0...</td>\n",
       "      <td>[-1.221374, -7.541985, -9.740458, -14.412214, ...</td>\n",
       "      <td>[-0.48855, -0.763359, -1.099237, -2.5038169999...</td>\n",
       "      <td>[-1.770992, -1.679389, -1.7099240000000002, -3...</td>\n",
       "      <td>19</td>\n",
       "    </tr>\n",
       "    <tr>\n",
       "      <th>286</th>\n",
       "      <td>2</td>\n",
       "      <td>[-1.0314940000000001, -1.105225, -1.169189, -1...</td>\n",
       "      <td>[-0.45629899999999995, -0.607178, -0.753174, -...</td>\n",
       "      <td>[0.462158, 0.38623, 0.297852, 0.201172, 0.1567...</td>\n",
       "      <td>[-55.603053, -82.900763, -100.427481, -108.091...</td>\n",
       "      <td>[6.717557000000001, 11.419847, 23.022901, 41.1...</td>\n",
       "      <td>[-4.580153, -7.6335880000000005, -25.709923999...</td>\n",
       "      <td>19</td>\n",
       "    </tr>\n",
       "    <tr>\n",
       "      <th>554</th>\n",
       "      <td>8</td>\n",
       "      <td>[-1.011475, -1.0310059999999999, -1.027588, -1...</td>\n",
       "      <td>[-0.23901399999999998, -0.238281, -0.212891, -...</td>\n",
       "      <td>[0.029053, 0.007324, 0.0271, 0.063965, -0.0427...</td>\n",
       "      <td>[-0.671756, -4.061069, 0.244275, 16.152672, 27...</td>\n",
       "      <td>[-1.40458, 0.244275, 3.6335879999999996, 5.984...</td>\n",
       "      <td>[0.9160309999999999, -0.42748100000000006, -1....</td>\n",
       "      <td>6</td>\n",
       "    </tr>\n",
       "  </tbody>\n",
       "</table>\n",
       "</div>"
      ],
      "text/plain": [
       "    Subject                                              acc_x  \\\n",
       "332       6  [-1.005615, -1.009033, -0.999023, -1.004883, -...   \n",
       "29        8  [-0.9897459999999999, -0.980957, -0.979736, -0...   \n",
       "302       6  [-1.009521, -1.036377, -1.041504, -1.040039, -...   \n",
       "286       2  [-1.0314940000000001, -1.105225, -1.169189, -1...   \n",
       "554       8  [-1.011475, -1.0310059999999999, -1.027588, -1...   \n",
       "\n",
       "                                                 acc_y  \\\n",
       "332  [-0.11181600000000001, -0.12329100000000001, -...   \n",
       "29   [-0.185547, -0.17724600000000001, -0.182861, -...   \n",
       "302  [-0.1604, -0.16406300000000001, -0.23290999999...   \n",
       "286  [-0.45629899999999995, -0.607178, -0.753174, -...   \n",
       "554  [-0.23901399999999998, -0.238281, -0.212891, -...   \n",
       "\n",
       "                                                 acc_z  \\\n",
       "332  [0.057861, 0.052979, 0.05127, 0.050049, 0.0295...   \n",
       "29   [0.128906, 0.12133800000000002, 0.114501999999...   \n",
       "302  [0.042236, 0.037108999999999996, -0.021484, -0...   \n",
       "286  [0.462158, 0.38623, 0.297852, 0.201172, 0.1567...   \n",
       "554  [0.029053, 0.007324, 0.0271, 0.063965, -0.0427...   \n",
       "\n",
       "                                                gyro_x  \\\n",
       "332  [1.282443, 0.122137, -1.5877860000000001, -2.8...   \n",
       "29   [-4.549618, -3.8778629999999996, -4.152672, -3...   \n",
       "302  [-1.221374, -7.541985, -9.740458, -14.412214, ...   \n",
       "286  [-55.603053, -82.900763, -100.427481, -108.091...   \n",
       "554  [-0.671756, -4.061069, 0.244275, 16.152672, 27...   \n",
       "\n",
       "                                                gyro_y  \\\n",
       "332  [0.824427, 0.7938930000000001, 0.4580149999999...   \n",
       "29   [2.625954, 0.305344, -0.396947, 0.427481000000...   \n",
       "302  [-0.48855, -0.763359, -1.099237, -2.5038169999...   \n",
       "286  [6.717557000000001, 11.419847, 23.022901, 41.1...   \n",
       "554  [-1.40458, 0.244275, 3.6335879999999996, 5.984...   \n",
       "\n",
       "                                                gyro_z Activity  \n",
       "332  [-0.45801499999999995, -0.671756, -1.099237, -...        1  \n",
       "29   [-2.3511450000000003, -2.412214, -1.007634, 1....       10  \n",
       "302  [-1.770992, -1.679389, -1.7099240000000002, -3...       19  \n",
       "286  [-4.580153, -7.6335880000000005, -25.709923999...       19  \n",
       "554  [0.9160309999999999, -0.42748100000000006, -1....        6  "
      ]
     },
     "execution_count": 8,
     "metadata": {},
     "output_type": "execute_result"
    }
   ],
   "source": [
    "train_UTD.head()"
   ]
  },
  {
   "cell_type": "markdown",
   "metadata": {},
   "source": [
    "### Jiang & Yin's method"
   ]
  },
  {
   "cell_type": "code",
   "execution_count": 9,
   "metadata": {},
   "outputs": [],
   "source": [
    "def alg_2(raw_signal): ### input:raw signal list (6xNumber of sample point)\n",
    "    Ns = len(raw_signal)\n",
    "    sis = []\n",
    "    signal_images = []\n",
    "    for i in range(1,Ns+1):\n",
    "        sis.append(i)\n",
    "        signal_images.append(raw_signal[i-1])\n",
    "    i = Ns\n",
    "    j = i + 1\n",
    "    Nsis = len(sis)\n",
    "    while (i != j):\n",
    "        inter_sis = list(zip(sis, sis[1:] + sis[:0]))\n",
    "        if j > (Ns):\n",
    "            j = 1\n",
    "        elif (i,j) not in inter_sis and (j,i) not in inter_sis:\n",
    "            sis.append(j)\n",
    "            signal_images.append(raw_signal[j-1])\n",
    "            Nsis += 1\n",
    "            i = j\n",
    "            j = i + 1\n",
    "        else:\n",
    "            j = j+1\n",
    "    print(\"SIS:\",sis,\"NSIS:\",Nsis,\"(i,j):\",(i,j))\n",
    "    return signal_images"
   ]
  },
  {
   "cell_type": "markdown",
   "metadata": {},
   "source": [
    "### New Method"
   ]
  },
  {
   "cell_type": "code",
   "execution_count": 10,
   "metadata": {},
   "outputs": [],
   "source": [
    "# Algoritnm for Signal data arrangement\n",
    "def order_SI(raw_sig):\n",
    "    \n",
    "    # The raw should be a [n,sensor_type] size array\n",
    "    \n",
    "    # According to the number of the types of sensor data\n",
    "    # Generate a list of all possible pairs of each two sensor data\n",
    "    type_sensor = raw_sig.shape[1]\n",
    "    pair_list = []\n",
    "    \n",
    "    for i in range (1,type_sensor):\n",
    "        temp_list = []\n",
    "        temp_list = [temp_list+[i,j+1] for j in range(i,type_sensor)]\n",
    "        pair_list += temp_list\n",
    "        \n",
    "    # After getting all possible pairs\n",
    "    # Complete the sig_list that ensure each two sensor datas are adjacent at least once\n",
    "    \n",
    "    # The idea is to initial the sig_list as [1,2], \n",
    "    # Then combine other possible pairs at both ends of the sig_list according to the same number\n",
    "    # The priority of the combination is from long list(e.g., [1,x]) to short list(e.g., [5,x]) in pair_list\n",
    "    \n",
    "    # Initial the sig_list to store the arrange of each input signal vectors\n",
    "    sig_list = pair_list[0]\n",
    "    del pair_list[0]\n",
    "    \n",
    "    # Run the process until no element in pair_list\n",
    "    while pair_list:\n",
    "        \n",
    "        for pair in pair_list:\n",
    "               \n",
    "            if sig_list[0] == pair[0]:\n",
    "                sig_list.insert(0,pair[1])\n",
    "                pair_list.remove(pair)\n",
    "                break\n",
    "                \n",
    "\n",
    "            elif sig_list[0] == pair[1]:\n",
    "                sig_list.insert(0,pair[0])\n",
    "                pair_list.remove(pair)\n",
    "                break\n",
    "                \n",
    "\n",
    "            elif sig_list[-1] == pair[0]:\n",
    "                sig_list.append(pair[1])\n",
    "                pair_list.remove(pair)\n",
    "                break\n",
    "                \n",
    "\n",
    "            elif sig_list[-1] == pair[1]:\n",
    "                sig_list.append(pair[0])\n",
    "                pair_list.remove(pair)\n",
    "                break\n",
    "                \n",
    "                \n",
    "            elif pair == pair_list[-1]:\n",
    "                sig_list.append(pair[0])\n",
    "                sig_list.append(pair[1])\n",
    "                pair_list.remove(pair)\n",
    "                break\n",
    "    \n",
    "#     # Initial a list to store reconstructed raw data\n",
    "#     sig_img = []\n",
    "#     for sig_order in sig_list:\n",
    "#         sig_img.append(raw_sig[sig_order-1])\n",
    "    \n",
    "    return sig_list\n"
   ]
  },
  {
   "cell_type": "markdown",
   "metadata": {},
   "source": [
    "### Generate Signal Image & activity image"
   ]
  },
  {
   "cell_type": "code",
   "execution_count": 11,
   "metadata": {},
   "outputs": [],
   "source": [
    "# Split the data set into train & test set\n",
    "from sklearn.model_selection import train_test_split\n",
    "\n",
    "train_UTD, test_UTD = train_test_split(sig_data_df, test_size=0.2, random_state=42)\n",
    "\n",
    "train_UTD_feature = np.array(train_UTD.drop(['Subject','Activity'], axis=1))\n",
    "train_UTD_label = np.array(train_UTD['Activity'])\n",
    "\n",
    "test_UTD_feature = np.array(test_UTD.drop(['Subject','Activity'], axis=1))\n",
    "test_UTD_label = np.array(test_UTD['Activity'])"
   ]
  },
  {
   "cell_type": "code",
   "execution_count": 12,
   "metadata": {},
   "outputs": [
    {
     "data": {
      "text/plain": [
       "130"
      ]
     },
     "execution_count": 12,
     "metadata": {},
     "output_type": "execute_result"
    }
   ],
   "source": [
    "len(test_UTD_label)"
   ]
  },
  {
   "cell_type": "code",
   "execution_count": 13,
   "metadata": {},
   "outputs": [
    {
     "name": "stdout",
     "output_type": "stream",
     "text": [
      "[]\n",
      "[]\n"
     ]
    }
   ],
   "source": [
    "# Generate SI & AI 3d array\n",
    "sig_list = order_SI(train_UTD_feature)\n",
    "\n",
    "# Initial an empty 3d array\n",
    "train_feature = np.empty(shape = (len(train_UTD_feature), len(sig_list), 128))\n",
    "test_feature = np.empty(shape = (len(test_UTD_feature), len(sig_list), 128))\n",
    "\n",
    "train_less_128 = []\n",
    "test_less_128 = []\n",
    "\n",
    "for i in range(len(train_UTD_feature)):\n",
    "\n",
    "    temp_act = np.vstack([np.stack(train_UTD_feature[i])[sig_order-1] for sig_order in sig_list])\n",
    "    \n",
    "    if temp_act.shape[1] != 128:\n",
    "        train_less_128.append({i:temp_act.shape[1]})\n",
    "        continue\n",
    "    \n",
    "    train_feature[i, :, :] = temp_act\n",
    "    \n",
    "\n",
    "for i in range(len(test_UTD_feature)):\n",
    "    \n",
    "    temp_act = np.vstack([np.stack(test_UTD_feature[i])[sig_order-1] for sig_order in sig_list])\n",
    "    \n",
    "    if temp_act.shape[1] != 128:\n",
    "        test_less_128.append({i:temp_act.shape[1]})\n",
    "        continue\n",
    "    \n",
    "    test_feature[i, :, :] = temp_act\n",
    "    \n",
    "print(train_less_128)\n",
    "print(test_less_128)"
   ]
  },
  {
   "cell_type": "code",
   "execution_count": 14,
   "metadata": {},
   "outputs": [],
   "source": [
    "atrain_less_128 = [{36: 127}, {55: 127}, {56: 125}, {68: 109}, {70: 123}, {91: 107}, {143: 126}, {204: 114}, {233: 127}, {305: 125}, {308: 118}, {315: 112}, {326: 122}, {352: 114}, {391: 125}, {408: 124}, {466: 127}, {483: 125}, {493: 122}, {525: 125}]\n",
    "atest_less_128 = [{22: 127}, {87: 125}]"
   ]
  },
  {
   "cell_type": "code",
   "execution_count": 15,
   "metadata": {},
   "outputs": [
    {
     "data": {
      "text/plain": [
       "(130, 18, 128)"
      ]
     },
     "execution_count": 15,
     "metadata": {},
     "output_type": "execute_result"
    }
   ],
   "source": [
    "test_feature.shape"
   ]
  },
  {
   "cell_type": "code",
   "execution_count": 16,
   "metadata": {},
   "outputs": [],
   "source": [
    "# Function for generating Image \n",
    "def make_IMG(sig_img):\n",
    "  \n",
    "    # Normalize the data\n",
    "    # norm_sig_img = (sig_img-sig_img.mean())/(sig_img.std())\n",
    "    \n",
    "    # DFT process\n",
    "    sig_fft = np.abs(np.fft.fft2(sig_img))\n",
    "    sig_fft_shift = np.fft.fftshift(sig_fft)\n",
    "    \n",
    "    return sig_fft_shift\n",
    "    \n"
   ]
  },
  {
   "cell_type": "code",
   "execution_count": 17,
   "metadata": {},
   "outputs": [
    {
     "name": "stdout",
     "output_type": "stream",
     "text": [
      "519\n",
      "130\n"
     ]
    }
   ],
   "source": [
    "train_UTD_AI = []\n",
    "test_UTD_AI = []\n",
    "\n",
    "for sig_img in train_feature:\n",
    "    \n",
    "    img_AI = make_IMG(sig_img)\n",
    "    train_UTD_AI.append(img_AI)\n",
    "    \n",
    "for sig_img in test_feature:\n",
    "    \n",
    "    img_AI = make_IMG(sig_img)\n",
    "    test_UTD_AI.append(img_AI)\n",
    "    \n",
    "print(len(train_UTD_AI))\n",
    "print(len(test_UTD_AI))\n"
   ]
  },
  {
   "cell_type": "code",
   "execution_count": 18,
   "metadata": {},
   "outputs": [
    {
     "data": {
      "text/plain": [
       "<matplotlib.image.AxesImage at 0x177c3e26af0>"
      ]
     },
     "execution_count": 18,
     "metadata": {},
     "output_type": "execute_result"
    },
    {
     "data": {
      "image/png": "[encoded data removed]",
      "text/plain": [
       "<Figure size 432x288 with 1 Axes>"
      ]
     },
     "metadata": {
      "needs_background": "light"
     },
     "output_type": "display_data"
    }
   ],
   "source": [
    "plt.imshow(train_feature[111],cmap = \"gray\",aspect=\"auto\")"
   ]
  },
  {
   "cell_type": "code",
   "execution_count": 20,
   "metadata": {},
   "outputs": [
    {
     "data": {
      "text/plain": [
       "<matplotlib.image.AxesImage at 0x177c3fcc0a0>"
      ]
     },
     "execution_count": 20,
     "metadata": {},
     "output_type": "execute_result"
    },
    {
     "data": {
      "image/png": "[encoded data removed]",
      "text/plain": [
       "<Figure size 432x288 with 1 Axes>"
      ]
     },
     "metadata": {
      "needs_background": "light"
     },
     "output_type": "display_data"
    }
   ],
   "source": [
    "plt.imshow(train_UTD_AI[111],cmap = \"gray\",aspect=\"auto\")"
   ]
  },
  {
   "cell_type": "markdown",
   "metadata": {},
   "source": [
    "## Save as npy"
   ]
  },
  {
   "cell_type": "code",
   "execution_count": 21,
   "metadata": {},
   "outputs": [],
   "source": [
    "np.save('train_UTD_AI.npy', train_UTD_AI)\n",
    "np.save('test_UTD_AI.npy', test_UTD_AI)\n",
    "np.save('train_UTD_labels.npy', train_UTD_label)\n",
    "np.save('test_UTD_labels.npy', test_UTD_label)"
   ]
  },
  {
   "cell_type": "code",
   "execution_count": 22,
   "metadata": {},
   "outputs": [
    {
     "name": "stdout",
     "output_type": "stream",
     "text": [
      "(519, 18, 128)\n",
      "(130, 18, 128)\n",
      "(519,)\n",
      "(130,)\n"
     ]
    }
   ],
   "source": [
    "print(np.load('train_UTD_AI.npy').shape)\n",
    "print(np.load('test_UTD_AI.npy').shape)\n",
    "print(np.load('train_UTD_labels.npy',allow_pickle=True).shape)\n",
    "print(np.load('test_UTD_labels.npy',allow_pickle=True).shape)"
   ]
  },
  {
   "cell_type": "code",
   "execution_count": null,
   "metadata": {},
   "outputs": [],
   "source": []
  },
  {
   "cell_type": "markdown",
   "metadata": {},
   "source": [
    "## CNN - Geroge"
   ]
  },
  {
   "cell_type": "code",
   "execution_count": null,
   "metadata": {},
   "outputs": [],
   "source": [
    "aaa+b"
   ]
  },
  {
   "cell_type": "code",
   "execution_count": null,
   "metadata": {},
   "outputs": [],
   "source": []
  },
  {
   "cell_type": "code",
   "execution_count": null,
   "metadata": {},
   "outputs": [],
   "source": []
  },
  {
   "cell_type": "markdown",
   "metadata": {},
   "source": [
    "## CNN"
   ]
  },
  {
   "cell_type": "code",
   "execution_count": null,
   "metadata": {},
   "outputs": [],
   "source": [
    "#Two Conv & Two FC\n",
    "\n",
    "# Define the CNN Class\n",
    "\n",
    "class CNN1(nn.Module):\n",
    "    def __init__(self):\n",
    "        super(CNN1, self).__init__()\n",
    "        \n",
    "        self.pad_zero = nn.ZeroPad2d(1)\n",
    "        self.conv1 = nn.Conv2d(1, 10, 3)\n",
    "        self.pool = nn.MaxPool2d(2, 2)\n",
    "        self.conv2 = nn.Conv2d(10, 16, 3)\n",
    "        self.fc1 = nn.Linear(16 * 6 * 6, 100)\n",
    "        self.fc2 = nn.Linear(100, 10)\n",
    "        \n",
    "    def forward(self, x):\n",
    "        x = self.pad_zero(x)\n",
    "        x = self.pool(F.relu(self.conv1(x)))\n",
    "        x = self.pool(F.relu(self.conv2(x)))\n",
    "        x = x.view(-1, 16 * 6 * 6)\n",
    "        x = F.relu(self.fc1(x))\n",
    "        x = self.fc2(x)\n",
    "        return x\n",
    "\n",
    "a_CNN = CNN1()"
   ]
  },
  {
   "cell_type": "code",
   "execution_count": null,
   "metadata": {},
   "outputs": [],
   "source": [
    "params = list(a_CNN.parameters())\n",
    "print(len(params))\n",
    "print(params[0].size())\n",
    "print(params[1].size())\n",
    "print(params[1])"
   ]
  },
  {
   "cell_type": "code",
   "execution_count": null,
   "metadata": {},
   "outputs": [],
   "source": [
    "criterion = nn.CrossEntropyLoss()\n",
    "optimizer = optim.SGD(a_CNN.parameters(), lr=0.001, momentum=0.9)"
   ]
  },
  {
   "cell_type": "code",
   "execution_count": null,
   "metadata": {},
   "outputs": [],
   "source": [
    "# Train Process\n",
    "\n",
    "max_epochs=2\n",
    "\n",
    "# Start for train time timing\n",
    "torch.cuda.synchronize()\n",
    "start_a = time.time()\n",
    "\n",
    "for epoch in range(max_epochs):\n",
    "    \n",
    "    traindata = iter(trainloader)\n",
    "    print(epoch)\n",
    "    running_loss = 0.0\n",
    "    i = 0\n",
    "    \n",
    "    for images, labels in traindata:\n",
    "        \n",
    "        i += 1\n",
    "        # zero the parameter gradients\n",
    "        optimizer.zero_grad()\n",
    "\n",
    "        # forward + backward + optimize\n",
    "        \n",
    "        outputs = a_CNN(images)\n",
    "        loss = criterion(outputs, labels)\n",
    "        loss.backward()\n",
    "        optimizer.step()\n",
    "\n",
    "        # print statistics\n",
    "        running_loss += loss.item()\n",
    "        if i % 2000 == 1999:    # print every 2000 mini-batches\n",
    "            print('[%d, %5d] loss: %.3f' % (epoch + 1, i + 1, running_loss / 2000))\n",
    "            running_loss = 0.0\n",
    "\n",
    "# End for train time timing\n",
    "torch.cuda.synchronize()\n",
    "end_a = time.time()\n"
   ]
  },
  {
   "cell_type": "code",
   "execution_count": null,
   "metadata": {},
   "outputs": [],
   "source": []
  }
 ],
 "metadata": {
  "kernelspec": {
   "display_name": "Python 3",
   "language": "python",
   "name": "python3"
  },
  "language_info": {
   "codemirror_mode": {
    "name": "ipython",
    "version": 3
   },
   "file_extension": ".py",
   "mimetype": "text/x-python",
   "name": "python",
   "nbconvert_exporter": "python",
   "pygments_lexer": "ipython3",
   "version": "3.8.3"
  }
 },
 "nbformat": 4,
 "nbformat_minor": 4
}
