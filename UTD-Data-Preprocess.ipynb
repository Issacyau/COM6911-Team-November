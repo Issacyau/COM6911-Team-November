{
 "cells": [
  {
   "cell_type": "markdown",
   "metadata": {},
   "source": [
    "# UTD data processing & SI/AI generation"
   ]
  },
  {
   "cell_type": "code",
   "execution_count": 1,
   "metadata": {},
   "outputs": [],
   "source": [
    "import matplotlib.pyplot as plt\n",
    "import pandas as pd\n",
    "import numpy as np\n",
    "import os\n",
    "import re\n",
    "\n",
    "%matplotlib inline"
   ]
  },
  {
   "cell_type": "code",
   "execution_count": 2,
   "metadata": {},
   "outputs": [],
   "source": [
    "import time\n",
    "import torch\n",
    "import torch.nn as nn\n",
    "import torch.nn.functional as F\n",
    "import matplotlib.pyplot as plt\n",
    "import torch.optim as optim\n",
    "import torchvision\n"
   ]
  },
  {
   "cell_type": "code",
   "execution_count": 3,
   "metadata": {},
   "outputs": [
    {
     "data": {
      "text/html": [
       "<div>\n",
       "<style scoped>\n",
       "    .dataframe tbody tr th:only-of-type {\n",
       "        vertical-align: middle;\n",
       "    }\n",
       "\n",
       "    .dataframe tbody tr th {\n",
       "        vertical-align: top;\n",
       "    }\n",
       "\n",
       "    .dataframe thead th {\n",
       "        text-align: right;\n",
       "    }\n",
       "</style>\n",
       "<table border=\"1\" class=\"dataframe\">\n",
       "  <thead>\n",
       "    <tr style=\"text-align: right;\">\n",
       "      <th></th>\n",
       "      <th>subject</th>\n",
       "      <th>activity_number</th>\n",
       "      <th>trial</th>\n",
       "      <th>acc_x</th>\n",
       "      <th>acc_y</th>\n",
       "      <th>acc_z</th>\n",
       "      <th>gyro_x</th>\n",
       "      <th>gyro_y</th>\n",
       "      <th>gyro_z</th>\n",
       "    </tr>\n",
       "  </thead>\n",
       "  <tbody>\n",
       "    <tr>\n",
       "      <th>0</th>\n",
       "      <td>1</td>\n",
       "      <td>10</td>\n",
       "      <td>1</td>\n",
       "      <td>-0.951660</td>\n",
       "      <td>-0.416260</td>\n",
       "      <td>-0.091064</td>\n",
       "      <td>-18.198473</td>\n",
       "      <td>-8.671756</td>\n",
       "      <td>8.610687</td>\n",
       "    </tr>\n",
       "    <tr>\n",
       "      <th>1</th>\n",
       "      <td>1</td>\n",
       "      <td>10</td>\n",
       "      <td>1</td>\n",
       "      <td>-0.948486</td>\n",
       "      <td>-0.425537</td>\n",
       "      <td>-0.118652</td>\n",
       "      <td>-18.717557</td>\n",
       "      <td>-7.847328</td>\n",
       "      <td>6.442748</td>\n",
       "    </tr>\n",
       "    <tr>\n",
       "      <th>2</th>\n",
       "      <td>1</td>\n",
       "      <td>10</td>\n",
       "      <td>1</td>\n",
       "      <td>-0.940430</td>\n",
       "      <td>-0.426025</td>\n",
       "      <td>-0.140869</td>\n",
       "      <td>-21.404580</td>\n",
       "      <td>-5.679389</td>\n",
       "      <td>2.229008</td>\n",
       "    </tr>\n",
       "    <tr>\n",
       "      <th>3</th>\n",
       "      <td>1</td>\n",
       "      <td>10</td>\n",
       "      <td>1</td>\n",
       "      <td>-0.944824</td>\n",
       "      <td>-0.507568</td>\n",
       "      <td>-0.191406</td>\n",
       "      <td>-23.389313</td>\n",
       "      <td>-2.229008</td>\n",
       "      <td>-2.839695</td>\n",
       "    </tr>\n",
       "    <tr>\n",
       "      <th>4</th>\n",
       "      <td>1</td>\n",
       "      <td>10</td>\n",
       "      <td>1</td>\n",
       "      <td>-0.954590</td>\n",
       "      <td>-0.636963</td>\n",
       "      <td>-0.307373</td>\n",
       "      <td>-25.129771</td>\n",
       "      <td>2.137405</td>\n",
       "      <td>-6.167939</td>\n",
       "    </tr>\n",
       "    <tr>\n",
       "      <th>...</th>\n",
       "      <td>...</td>\n",
       "      <td>...</td>\n",
       "      <td>...</td>\n",
       "      <td>...</td>\n",
       "      <td>...</td>\n",
       "      <td>...</td>\n",
       "      <td>...</td>\n",
       "      <td>...</td>\n",
       "      <td>...</td>\n",
       "    </tr>\n",
       "    <tr>\n",
       "      <th>155633</th>\n",
       "      <td>8</td>\n",
       "      <td>9</td>\n",
       "      <td>4</td>\n",
       "      <td>-0.975098</td>\n",
       "      <td>-0.307861</td>\n",
       "      <td>0.120850</td>\n",
       "      <td>-4.946565</td>\n",
       "      <td>0.824427</td>\n",
       "      <td>2.748092</td>\n",
       "    </tr>\n",
       "    <tr>\n",
       "      <th>155634</th>\n",
       "      <td>8</td>\n",
       "      <td>9</td>\n",
       "      <td>4</td>\n",
       "      <td>-0.972412</td>\n",
       "      <td>-0.294678</td>\n",
       "      <td>0.111084</td>\n",
       "      <td>-4.152672</td>\n",
       "      <td>0.763359</td>\n",
       "      <td>1.832061</td>\n",
       "    </tr>\n",
       "    <tr>\n",
       "      <th>155635</th>\n",
       "      <td>8</td>\n",
       "      <td>9</td>\n",
       "      <td>4</td>\n",
       "      <td>-0.984131</td>\n",
       "      <td>-0.293701</td>\n",
       "      <td>0.111572</td>\n",
       "      <td>-2.564885</td>\n",
       "      <td>1.038168</td>\n",
       "      <td>1.496183</td>\n",
       "    </tr>\n",
       "    <tr>\n",
       "      <th>155636</th>\n",
       "      <td>8</td>\n",
       "      <td>9</td>\n",
       "      <td>4</td>\n",
       "      <td>-0.976318</td>\n",
       "      <td>-0.296875</td>\n",
       "      <td>0.105469</td>\n",
       "      <td>-1.709924</td>\n",
       "      <td>1.374046</td>\n",
       "      <td>1.374046</td>\n",
       "    </tr>\n",
       "    <tr>\n",
       "      <th>155637</th>\n",
       "      <td>8</td>\n",
       "      <td>9</td>\n",
       "      <td>4</td>\n",
       "      <td>-0.979980</td>\n",
       "      <td>-0.302734</td>\n",
       "      <td>0.101318</td>\n",
       "      <td>-1.068702</td>\n",
       "      <td>1.740458</td>\n",
       "      <td>1.038168</td>\n",
       "    </tr>\n",
       "  </tbody>\n",
       "</table>\n",
       "<p>155638 rows × 9 columns</p>\n",
       "</div>"
      ],
      "text/plain": [
       "        subject  activity_number  trial     acc_x     acc_y     acc_z  \\\n",
       "0             1               10      1 -0.951660 -0.416260 -0.091064   \n",
       "1             1               10      1 -0.948486 -0.425537 -0.118652   \n",
       "2             1               10      1 -0.940430 -0.426025 -0.140869   \n",
       "3             1               10      1 -0.944824 -0.507568 -0.191406   \n",
       "4             1               10      1 -0.954590 -0.636963 -0.307373   \n",
       "...         ...              ...    ...       ...       ...       ...   \n",
       "155633        8                9      4 -0.975098 -0.307861  0.120850   \n",
       "155634        8                9      4 -0.972412 -0.294678  0.111084   \n",
       "155635        8                9      4 -0.984131 -0.293701  0.111572   \n",
       "155636        8                9      4 -0.976318 -0.296875  0.105469   \n",
       "155637        8                9      4 -0.979980 -0.302734  0.101318   \n",
       "\n",
       "           gyro_x    gyro_y    gyro_z  \n",
       "0      -18.198473 -8.671756  8.610687  \n",
       "1      -18.717557 -7.847328  6.442748  \n",
       "2      -21.404580 -5.679389  2.229008  \n",
       "3      -23.389313 -2.229008 -2.839695  \n",
       "4      -25.129771  2.137405 -6.167939  \n",
       "...           ...       ...       ...  \n",
       "155633  -4.946565  0.824427  2.748092  \n",
       "155634  -4.152672  0.763359  1.832061  \n",
       "155635  -2.564885  1.038168  1.496183  \n",
       "155636  -1.709924  1.374046  1.374046  \n",
       "155637  -1.068702  1.740458  1.038168  \n",
       "\n",
       "[155638 rows x 9 columns]"
      ]
     },
     "execution_count": 3,
     "metadata": {},
     "output_type": "execute_result"
    }
   ],
   "source": [
    "# Load the final.csv data\n",
    "UTD_data = pd.read_csv('./UTD-Data/UTD/final.csv')\n",
    "\n",
    "# Extract the columns of subject;activity_number;trail and the six sensor signals\n",
    "UTD_df = UTD_data.iloc[:,7:]\n",
    "\n",
    "UTD_df"
   ]
  },
  {
   "cell_type": "markdown",
   "metadata": {},
   "source": [
    "### Load data"
   ]
  },
  {
   "cell_type": "code",
   "execution_count": 4,
   "metadata": {},
   "outputs": [],
   "source": [
    "# Function for generating standard type of signal data\n",
    "def get_signal(file_names):\n",
    "    \n",
    "    out_list = []\n",
    "    \n",
    "    for file_name in file_names:\n",
    "        \n",
    "        raw_data = pd.read_csv(path + file_name)\n",
    "        \n",
    "        subject = re.match(r'a.*?(?=_t)',file_name).group()[-1]\n",
    "        activity = re.match(r'a.*?(?=_s)',file_name).group()[1:]\n",
    "        remove_subject = ['22', '23', '24', '25', '26', '27']\n",
    "        \n",
    "        # Ignore the activity from 22 to 27\n",
    "        if activity in remove_subject:\n",
    "            continue\n",
    "            \n",
    "        else:\n",
    "            acc_x = np.array(raw_data['0']).tolist()\n",
    "            acc_y = np.array(raw_data['1']).tolist()\n",
    "            acc_z = np.array(raw_data['2']).tolist()\n",
    "            gyro_x = np.array(raw_data['3']).tolist()\n",
    "            gyro_y = np.array(raw_data['4']).tolist()\n",
    "            gyro_z = np.array(raw_data['5']).tolist()\n",
    "\n",
    "        temp_list = [subject, acc_x, acc_y, acc_z, gyro_x, gyro_y, gyro_z, activity]\n",
    "        out_list.append(temp_list)\n",
    "    \n",
    "    return out_list\n",
    "    "
   ]
  },
  {
   "cell_type": "code",
   "execution_count": 5,
   "metadata": {},
   "outputs": [],
   "source": [
    "# Get all file names of sensor data\n",
    "path = './UTD-Data/UTD/csv/'\n",
    "file_names = os.listdir(path)\n",
    "\n",
    "col_label = ['Subject', 'acc_x', 'acc_y', 'acc_z', 'gyro_x', 'gyro_y', 'gyro_z','Activity']\n",
    "\n",
    "# Extract the activities from 1 to 21\n",
    "sig_data = get_signal(file_names)\n",
    "sig_data_df = pd.DataFrame(sig_data, columns=col_label)\n"
   ]
  },
  {
   "cell_type": "code",
   "execution_count": 6,
   "metadata": {},
   "outputs": [
    {
     "data": {
      "text/html": [
       "<div>\n",
       "<style scoped>\n",
       "    .dataframe tbody tr th:only-of-type {\n",
       "        vertical-align: middle;\n",
       "    }\n",
       "\n",
       "    .dataframe tbody tr th {\n",
       "        vertical-align: top;\n",
       "    }\n",
       "\n",
       "    .dataframe thead th {\n",
       "        text-align: right;\n",
       "    }\n",
       "</style>\n",
       "<table border=\"1\" class=\"dataframe\">\n",
       "  <thead>\n",
       "    <tr style=\"text-align: right;\">\n",
       "      <th></th>\n",
       "      <th>Subject</th>\n",
       "      <th>acc_x</th>\n",
       "      <th>acc_y</th>\n",
       "      <th>acc_z</th>\n",
       "      <th>gyro_x</th>\n",
       "      <th>gyro_y</th>\n",
       "      <th>gyro_z</th>\n",
       "      <th>Activity</th>\n",
       "    </tr>\n",
       "  </thead>\n",
       "  <tbody>\n",
       "    <tr>\n",
       "      <th>0</th>\n",
       "      <td>1</td>\n",
       "      <td>[-0.9516600000000001, -0.948486, -0.9404299999...</td>\n",
       "      <td>[-0.41626, -0.425537, -0.426025, -0.507568, -0...</td>\n",
       "      <td>[-0.09106399999999999, -0.118652, -0.140869, -...</td>\n",
       "      <td>[-18.198473, -18.717557, -21.40458, -23.389313...</td>\n",
       "      <td>[-8.671756, -7.847328, -5.679389, -2.229008000...</td>\n",
       "      <td>[8.610686999999999, 6.442748, 2.22900800000000...</td>\n",
       "      <td>10</td>\n",
       "    </tr>\n",
       "    <tr>\n",
       "      <th>1</th>\n",
       "      <td>1</td>\n",
       "      <td>[-0.959717, -0.964355, -0.976807, -0.980713, -...</td>\n",
       "      <td>[-0.33129899999999995, -0.343018, -0.370117000...</td>\n",
       "      <td>[-0.11108399999999999, -0.126953, -0.140381, -...</td>\n",
       "      <td>[6.564885, 10.80916, 12.091603, 8.152672, 5.28...</td>\n",
       "      <td>[0.335878, 1.7404580000000003, 3.541985, 7.725...</td>\n",
       "      <td>[-2.80916, -3.603053, -6.10687, -9.679389, -14...</td>\n",
       "      <td>10</td>\n",
       "    </tr>\n",
       "    <tr>\n",
       "      <th>2</th>\n",
       "      <td>1</td>\n",
       "      <td>[-0.954834, -0.9628909999999999, -0.962158, -0...</td>\n",
       "      <td>[-0.43335, -0.480469, -0.5014649999999999, -0....</td>\n",
       "      <td>[-0.223877, -0.280273, -0.32055700000000004, -...</td>\n",
       "      <td>[5.648855, 6.564885, 2.167939, 1.557252, 5.526...</td>\n",
       "      <td>[12.274809, 16.0, 20.702289999999998, 27.14503...</td>\n",
       "      <td>[-13.19084, -16.763359, -18.59542, -24.824427,...</td>\n",
       "      <td>10</td>\n",
       "    </tr>\n",
       "    <tr>\n",
       "      <th>3</th>\n",
       "      <td>1</td>\n",
       "      <td>[-0.938232, -0.9472659999999999, -0.935059, -0...</td>\n",
       "      <td>[-0.321533, -0.32959, -0.31738299999999997, -0...</td>\n",
       "      <td>[-0.190674, -0.190186, -0.19653299999999999, -...</td>\n",
       "      <td>[-1.89313, -1.3435110000000001, -1.435115, 0.0...</td>\n",
       "      <td>[-0.396947, 0.274809, 0.8549620000000001, 1.43...</td>\n",
       "      <td>[-1.5877860000000001, -1.770992, -1.679389, -1...</td>\n",
       "      <td>10</td>\n",
       "    </tr>\n",
       "    <tr>\n",
       "      <th>4</th>\n",
       "      <td>2</td>\n",
       "      <td>[-0.976318, -0.981934, -0.9855959999999999, -0...</td>\n",
       "      <td>[-0.185059, -0.18676800000000002, -0.187256, -...</td>\n",
       "      <td>[0.304199, 0.305664, 0.302246, 0.3044429999999...</td>\n",
       "      <td>[-1.7404580000000003, -1.770992, -1.770992, -1...</td>\n",
       "      <td>[1.3435110000000001, 1.282443, 1.251908, 1.374...</td>\n",
       "      <td>[-0.70229, -0.70229, -0.641221, -0.580153, -0....</td>\n",
       "      <td>10</td>\n",
       "    </tr>\n",
       "  </tbody>\n",
       "</table>\n",
       "</div>"
      ],
      "text/plain": [
       "  Subject                                              acc_x  \\\n",
       "0       1  [-0.9516600000000001, -0.948486, -0.9404299999...   \n",
       "1       1  [-0.959717, -0.964355, -0.976807, -0.980713, -...   \n",
       "2       1  [-0.954834, -0.9628909999999999, -0.962158, -0...   \n",
       "3       1  [-0.938232, -0.9472659999999999, -0.935059, -0...   \n",
       "4       2  [-0.976318, -0.981934, -0.9855959999999999, -0...   \n",
       "\n",
       "                                               acc_y  \\\n",
       "0  [-0.41626, -0.425537, -0.426025, -0.507568, -0...   \n",
       "1  [-0.33129899999999995, -0.343018, -0.370117000...   \n",
       "2  [-0.43335, -0.480469, -0.5014649999999999, -0....   \n",
       "3  [-0.321533, -0.32959, -0.31738299999999997, -0...   \n",
       "4  [-0.185059, -0.18676800000000002, -0.187256, -...   \n",
       "\n",
       "                                               acc_z  \\\n",
       "0  [-0.09106399999999999, -0.118652, -0.140869, -...   \n",
       "1  [-0.11108399999999999, -0.126953, -0.140381, -...   \n",
       "2  [-0.223877, -0.280273, -0.32055700000000004, -...   \n",
       "3  [-0.190674, -0.190186, -0.19653299999999999, -...   \n",
       "4  [0.304199, 0.305664, 0.302246, 0.3044429999999...   \n",
       "\n",
       "                                              gyro_x  \\\n",
       "0  [-18.198473, -18.717557, -21.40458, -23.389313...   \n",
       "1  [6.564885, 10.80916, 12.091603, 8.152672, 5.28...   \n",
       "2  [5.648855, 6.564885, 2.167939, 1.557252, 5.526...   \n",
       "3  [-1.89313, -1.3435110000000001, -1.435115, 0.0...   \n",
       "4  [-1.7404580000000003, -1.770992, -1.770992, -1...   \n",
       "\n",
       "                                              gyro_y  \\\n",
       "0  [-8.671756, -7.847328, -5.679389, -2.229008000...   \n",
       "1  [0.335878, 1.7404580000000003, 3.541985, 7.725...   \n",
       "2  [12.274809, 16.0, 20.702289999999998, 27.14503...   \n",
       "3  [-0.396947, 0.274809, 0.8549620000000001, 1.43...   \n",
       "4  [1.3435110000000001, 1.282443, 1.251908, 1.374...   \n",
       "\n",
       "                                              gyro_z Activity  \n",
       "0  [8.610686999999999, 6.442748, 2.22900800000000...       10  \n",
       "1  [-2.80916, -3.603053, -6.10687, -9.679389, -14...       10  \n",
       "2  [-13.19084, -16.763359, -18.59542, -24.824427,...       10  \n",
       "3  [-1.5877860000000001, -1.770992, -1.679389, -1...       10  \n",
       "4  [-0.70229, -0.70229, -0.641221, -0.580153, -0....       10  "
      ]
     },
     "execution_count": 6,
     "metadata": {},
     "output_type": "execute_result"
    }
   ],
   "source": [
    "sig_data_df.head()"
   ]
  },
  {
   "cell_type": "markdown",
   "metadata": {},
   "source": [
    "### Jiang & Yin's method"
   ]
  },
  {
   "cell_type": "code",
   "execution_count": 8,
   "metadata": {},
   "outputs": [],
   "source": [
    "def alg_2(raw_signal): ### input:raw signal list (6xNumber of sample point)\n",
    "    Ns = len(raw_signal)\n",
    "    sis = []\n",
    "    signal_images = []\n",
    "    for i in range(1,Ns+1):\n",
    "        sis.append(i)\n",
    "        signal_images.append(raw_signal[i-1])\n",
    "    i = Ns\n",
    "    j = i + 1\n",
    "    Nsis = len(sis)\n",
    "    while (i != j):\n",
    "        inter_sis = list(zip(sis, sis[1:] + sis[:0]))\n",
    "        if j > (Ns):\n",
    "            j = 1\n",
    "        elif (i,j) not in inter_sis and (j,i) not in inter_sis:\n",
    "            sis.append(j)\n",
    "            signal_images.append(raw_signal[j-1])\n",
    "            Nsis += 1\n",
    "            i = j\n",
    "            j = i + 1\n",
    "        else:\n",
    "            j = j+1\n",
    "    print(\"SIS:\",sis,\"NSIS:\",Nsis,\"(i,j):\",(i,j))\n",
    "    return signal_images"
   ]
  },
  {
   "cell_type": "markdown",
   "metadata": {},
   "source": [
    "### New Method"
   ]
  },
  {
   "cell_type": "code",
   "execution_count": 9,
   "metadata": {},
   "outputs": [],
   "source": [
    "# Algoritnm for Signal data arrangement\n",
    "def order_SI(raw_sig):\n",
    "    \n",
    "    # According to the number of the types of sensor data\n",
    "    # Generate a list of all possible pairs of each two sensor data\n",
    "    type_sensor = len(raw_sig)\n",
    "    pair_list = []\n",
    "    \n",
    "    for i in range (1,type_sensor):\n",
    "        temp_list = []\n",
    "        temp_list = [temp_list+[i,j+1] for j in range(i,type_sensor)]\n",
    "        pair_list += temp_list\n",
    "        \n",
    "    # After getting all possible pairs\n",
    "    # Complete the sig_list that ensure each two sensor datas are adjacent at least once\n",
    "    \n",
    "    # The idea is to initial the sig_list as [1,2], \n",
    "    # Then combine other possible pairs at both ends of the sig_list according to the same number\n",
    "    # The priority of the combination is from long list(e.g., [1,x]) to short list(e.g., [5,x]) in pair_list\n",
    "    \n",
    "    # Initial the sig_list to store the arrange of each input signal vectors\n",
    "    sig_list = pair_list[0]\n",
    "    del pair_list[0]\n",
    "    \n",
    "    # Run the process until no element in pair_list\n",
    "    while pair_list:\n",
    "        \n",
    "        for pair in pair_list:\n",
    "               \n",
    "            if sig_list[0] == pair[0]:\n",
    "                sig_list.insert(0,pair[1])\n",
    "                pair_list.remove(pair)\n",
    "                break\n",
    "                \n",
    "\n",
    "            elif sig_list[0] == pair[1]:\n",
    "                sig_list.insert(0,pair[0])\n",
    "                pair_list.remove(pair)\n",
    "                break\n",
    "                \n",
    "\n",
    "            elif sig_list[-1] == pair[0]:\n",
    "                sig_list.append(pair[1])\n",
    "                pair_list.remove(pair)\n",
    "                break\n",
    "                \n",
    "\n",
    "            elif sig_list[-1] == pair[1]:\n",
    "                sig_list.append(pair[0])\n",
    "                pair_list.remove(pair)\n",
    "                break\n",
    "                \n",
    "                \n",
    "            elif pair == pair_list[-1]:\n",
    "                sig_list.append(pair[0])\n",
    "                sig_list.append(pair[1])\n",
    "                pair_list.remove(pair)\n",
    "                break\n",
    "    \n",
    "#     # Initial a list to store reconstructed raw data\n",
    "#     sig_img = []\n",
    "#     for sig_order in sig_list:\n",
    "#         sig_img.append(raw_sig[sig_order-1])\n",
    "    \n",
    "    return sig_list\n"
   ]
  },
  {
   "cell_type": "code",
   "execution_count": 10,
   "metadata": {},
   "outputs": [],
   "source": [
    "# Extract the six sensor data list for the first document\n",
    "sig_xyz = sig_data[0][1:7]\n",
    "sig_list= order_SI(sig_xyz)\n",
    "\n",
    "# Initial a list to store reconstructed data\n",
    "sig_img = []\n",
    "for sig_order in sig_list:\n",
    "    sig_img.append(sig_xyz[sig_order-1])"
   ]
  },
  {
   "cell_type": "markdown",
   "metadata": {},
   "source": [
    "### Generate Signal Image & activity image"
   ]
  },
  {
   "cell_type": "code",
   "execution_count": 11,
   "metadata": {},
   "outputs": [],
   "source": [
    "# Function for generating Image \n",
    "def make_IMG(sig_img):\n",
    "    \n",
    "    df_sig_image = pd.DataFrame(sig_img)\n",
    "    \n",
    "    # Normalize the data\n",
    "    norm_df_sig_image = (df_sig_image-df_sig_image.mean())/(df_sig_image.std())\n",
    "    \n",
    "    # DFT process\n",
    "    sig_fft = np.abs(np.fft.fft2(norm_df_sig_image))\n",
    "    sig_fft_shift = np.fft.fftshift(sig_fft)\n",
    "    \n",
    "    img_SI = norm_df_sig_image\n",
    "    img_AI = sig_fft_shift\n",
    "    \n",
    "    return img_SI,img_AI\n",
    "    \n"
   ]
  },
  {
   "cell_type": "code",
   "execution_count": 12,
   "metadata": {},
   "outputs": [],
   "source": [
    "img_SI,img_AI = make_IMG(sig_img)"
   ]
  },
  {
   "cell_type": "code",
   "execution_count": 13,
   "metadata": {},
   "outputs": [
    {
     "data": {
      "text/plain": [
       "<matplotlib.image.AxesImage at 0x23ab15fad90>"
      ]
     },
     "execution_count": 13,
     "metadata": {},
     "output_type": "execute_result"
    },
    {
     "data": {
      "image/png": "[encoded data removed]",
      "text/plain": [
       "<Figure size 432x288 with 1 Axes>"
      ]
     },
     "metadata": {
      "needs_background": "light"
     },
     "output_type": "display_data"
    }
   ],
   "source": [
    "plt.imshow(img_SI,cmap = \"gray\",aspect=\"auto\")"
   ]
  },
  {
   "cell_type": "code",
   "execution_count": 14,
   "metadata": {},
   "outputs": [
    {
     "data": {
      "text/plain": [
       "<matplotlib.image.AxesImage at 0x23ab16db490>"
      ]
     },
     "execution_count": 14,
     "metadata": {},
     "output_type": "execute_result"
    },
    {
     "data": {
      "image/png": "[encoded data removed]",
      "text/plain": [
       "<Figure size 432x288 with 1 Axes>"
      ]
     },
     "metadata": {
      "needs_background": "light"
     },
     "output_type": "display_data"
    }
   ],
   "source": [
    "plt.imshow(img_AI,cmap = \"gray\",aspect=\"auto\")"
   ]
  },
  {
   "cell_type": "code",
   "execution_count": null,
   "metadata": {},
   "outputs": [],
   "source": []
  },
  {
   "cell_type": "code",
   "execution_count": null,
   "metadata": {},
   "outputs": [],
   "source": []
  },
  {
   "cell_type": "code",
   "execution_count": null,
   "metadata": {},
   "outputs": [],
   "source": []
  },
  {
   "cell_type": "code",
   "execution_count": null,
   "metadata": {},
   "outputs": [],
   "source": []
  },
  {
   "cell_type": "code",
   "execution_count": null,
   "metadata": {},
   "outputs": [],
   "source": []
  },
  {
   "cell_type": "markdown",
   "metadata": {},
   "source": [
    "## CNN"
   ]
  },
  {
   "cell_type": "code",
   "execution_count": 15,
   "metadata": {},
   "outputs": [],
   "source": [
    "#Two Conv & Two FC\n",
    "\n",
    "# Define the CNN Class\n",
    "\n",
    "class CNN1(nn.Module):\n",
    "    def __init__(self):\n",
    "        super(CNN1, self).__init__()\n",
    "        \n",
    "        self.pad_zero = nn.ZeroPad2d(1)\n",
    "        self.conv1 = nn.Conv2d(1, 10, 3)\n",
    "        self.pool = nn.MaxPool2d(2, 2)\n",
    "        self.conv2 = nn.Conv2d(10, 16, 3)\n",
    "        self.fc1 = nn.Linear(16 * 6 * 6, 100)\n",
    "        self.fc2 = nn.Linear(100, 10)\n",
    "        \n",
    "    def forward(self, x):\n",
    "        x = self.pad_zero(x)\n",
    "        x = self.pool(F.relu(self.conv1(x)))\n",
    "        x = self.pool(F.relu(self.conv2(x)))\n",
    "        x = x.view(-1, 16 * 6 * 6)\n",
    "        x = F.relu(self.fc1(x))\n",
    "        x = self.fc2(x)\n",
    "        return x\n",
    "\n",
    "a_CNN = CNN1()"
   ]
  },
  {
   "cell_type": "code",
   "execution_count": 16,
   "metadata": {},
   "outputs": [
    {
     "name": "stdout",
     "output_type": "stream",
     "text": [
      "8\n",
      "torch.Size([10, 1, 3, 3])\n",
      "torch.Size([10])\n",
      "Parameter containing:\n",
      "tensor([ 0.1783, -0.1854,  0.0042, -0.2457, -0.0337, -0.2964,  0.1281, -0.1493,\n",
      "        -0.0239, -0.1982], requires_grad=True)\n"
     ]
    }
   ],
   "source": [
    "params = list(a_CNN.parameters())\n",
    "print(len(params))\n",
    "print(params[0].size())\n",
    "print(params[1].size())\n",
    "print(params[1])"
   ]
  },
  {
   "cell_type": "code",
   "execution_count": 17,
   "metadata": {},
   "outputs": [],
   "source": [
    "criterion = nn.CrossEntropyLoss()\n",
    "optimizer = optim.SGD(a_CNN.parameters(), lr=0.001, momentum=0.9)"
   ]
  },
  {
   "cell_type": "code",
   "execution_count": 18,
   "metadata": {},
   "outputs": [
    {
     "ename": "NameError",
     "evalue": "name 'trainloader' is not defined",
     "output_type": "error",
     "traceback": [
      "\u001b[1;31m---------------------------------------------------------------------------\u001b[0m",
      "\u001b[1;31mNameError\u001b[0m                                 Traceback (most recent call last)",
      "\u001b[1;32m<ipython-input-18-2e6009867e0f>\u001b[0m in \u001b[0;36m<module>\u001b[1;34m\u001b[0m\n\u001b[0;32m      9\u001b[0m \u001b[1;32mfor\u001b[0m \u001b[0mepoch\u001b[0m \u001b[1;32min\u001b[0m \u001b[0mrange\u001b[0m\u001b[1;33m(\u001b[0m\u001b[0mmax_epochs\u001b[0m\u001b[1;33m)\u001b[0m\u001b[1;33m:\u001b[0m\u001b[1;33m\u001b[0m\u001b[1;33m\u001b[0m\u001b[0m\n\u001b[0;32m     10\u001b[0m \u001b[1;33m\u001b[0m\u001b[0m\n\u001b[1;32m---> 11\u001b[1;33m     \u001b[0mtraindata\u001b[0m \u001b[1;33m=\u001b[0m \u001b[0miter\u001b[0m\u001b[1;33m(\u001b[0m\u001b[0mtrainloader\u001b[0m\u001b[1;33m)\u001b[0m\u001b[1;33m\u001b[0m\u001b[1;33m\u001b[0m\u001b[0m\n\u001b[0m\u001b[0;32m     12\u001b[0m     \u001b[0mprint\u001b[0m\u001b[1;33m(\u001b[0m\u001b[0mepoch\u001b[0m\u001b[1;33m)\u001b[0m\u001b[1;33m\u001b[0m\u001b[1;33m\u001b[0m\u001b[0m\n\u001b[0;32m     13\u001b[0m     \u001b[0mrunning_loss\u001b[0m \u001b[1;33m=\u001b[0m \u001b[1;36m0.0\u001b[0m\u001b[1;33m\u001b[0m\u001b[1;33m\u001b[0m\u001b[0m\n",
      "\u001b[1;31mNameError\u001b[0m: name 'trainloader' is not defined"
     ]
    }
   ],
   "source": [
    "# Train Process\n",
    "\n",
    "max_epochs=2\n",
    "\n",
    "# Start for train time timing\n",
    "torch.cuda.synchronize()\n",
    "start_a = time.time()\n",
    "\n",
    "for epoch in range(max_epochs):\n",
    "    \n",
    "    traindata = iter(trainloader)\n",
    "    print(epoch)\n",
    "    running_loss = 0.0\n",
    "    i = 0\n",
    "    \n",
    "    for images, labels in traindata:\n",
    "        \n",
    "        i += 1\n",
    "        # zero the parameter gradients\n",
    "        optimizer.zero_grad()\n",
    "\n",
    "        # forward + backward + optimize\n",
    "        \n",
    "        outputs = a_CNN(images)\n",
    "        loss = criterion(outputs, labels)\n",
    "        loss.backward()\n",
    "        optimizer.step()\n",
    "\n",
    "        # print statistics\n",
    "        running_loss += loss.item()\n",
    "        if i % 2000 == 1999:    # print every 2000 mini-batches\n",
    "            print('[%d, %5d] loss: %.3f' % (epoch + 1, i + 1, running_loss / 2000))\n",
    "            running_loss = 0.0\n",
    "\n",
    "# End for train time timing\n",
    "torch.cuda.synchronize()\n",
    "end_a = time.time()\n"
   ]
  },
  {
   "cell_type": "code",
   "execution_count": null,
   "metadata": {},
   "outputs": [],
   "source": []
  }
 ],
 "metadata": {
  "kernelspec": {
   "display_name": "Python 3",
   "language": "python",
   "name": "python3"
  },
  "language_info": {
   "codemirror_mode": {
    "name": "ipython",
    "version": 3
   },
   "file_extension": ".py",
   "mimetype": "text/x-python",
   "name": "python",
   "nbconvert_exporter": "python",
   "pygments_lexer": "ipython3",
   "version": "3.8.3"
  }
 },
 "nbformat": 4,
 "nbformat_minor": 4
}
