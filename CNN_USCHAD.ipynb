{
 "cells": [
  {
   "cell_type": "code",
   "execution_count": 1,
   "metadata": {
    "ExecuteTime": {
     "end_time": "2021-03-23T18:09:36.030685Z",
     "start_time": "2021-03-23T18:09:34.301742Z"
    }
   },
   "outputs": [],
   "source": [
    "%matplotlib inline\n",
    "import matplotlib.pyplot as plt\n",
    "import numpy as np\n",
    "import torch\n",
    "import torch.nn as nn\n",
    "import torch.nn.functional as F\n",
    "import torch.optim as optim\n",
    "import torchvision\n",
    "from torchvision import datasets, transforms\n",
    "from torch.utils.data import TensorDataset, DataLoader\n",
    "from sklearn import metrics\n",
    "import seaborn as sns"
   ]
  },
  {
   "cell_type": "code",
   "execution_count": 2,
   "metadata": {
    "ExecuteTime": {
     "end_time": "2021-03-23T18:09:36.073668Z",
     "start_time": "2021-03-23T18:09:36.031634Z"
    }
   },
   "outputs": [],
   "source": [
    "# Set random seed for numpy\n",
    "np.random.seed(11)\n",
    "# Set random seed for pytorch\n",
    "torch.manual_seed(11)\n",
    "# Set random seed for pytorch running in GPU\n",
    "if torch.cuda.is_available():\n",
    "    torch.cuda.manual_seed_all(11)"
   ]
  },
  {
   "cell_type": "code",
   "execution_count": 3,
   "metadata": {
    "ExecuteTime": {
     "end_time": "2021-03-23T18:09:36.077658Z",
     "start_time": "2021-03-23T18:09:36.074665Z"
    }
   },
   "outputs": [],
   "source": [
    "# Choose batch size\n",
    "batch_size = 32"
   ]
  },
  {
   "cell_type": "code",
   "execution_count": 4,
   "metadata": {
    "ExecuteTime": {
     "end_time": "2021-03-23T18:09:37.907689Z",
     "start_time": "2021-03-23T18:09:36.657435Z"
    }
   },
   "outputs": [],
   "source": [
    "# Load processed data\n",
    "USC_train_features = np.load('./train_features_USC.npy', allow_pickle=True)\n",
    "USC_train_labels = np.load('./train_labels_USC.npy', allow_pickle=True)\n",
    "USC_test_features = np.load('./test_features_USC.npy', allow_pickle=True)\n",
    "USC_test_labels = np.load('./test_labels_USC.npy', allow_pickle=True)\n",
    "\n",
    "# Subtract 1 for every label for correct training, i.e., [1,2,3,4,5,6] to [0,1,2,3,4,5]\n",
    "USC_train_labels = USC_train_labels.astype(int) - 1\n",
    "USC_test_labels = USC_test_labels.astype(int) - 1"
   ]
  },
  {
   "cell_type": "code",
   "execution_count": 5,
   "metadata": {
    "ExecuteTime": {
     "end_time": "2021-03-23T18:09:38.102677Z",
     "start_time": "2021-03-23T18:09:37.908191Z"
    }
   },
   "outputs": [],
   "source": [
    "# Transform to torch tensor\n",
    "tensor_USC_train_features = torch.Tensor(USC_train_features) \n",
    "tensor_USC_train_labels = torch.Tensor(USC_train_labels)\n",
    "tensor_USC_test_features = torch.Tensor(USC_test_features) \n",
    "tensor_USC_test_labels = torch.Tensor(USC_test_labels)\n",
    "# Add one dimension of channel\n",
    "tensor_USC_train_features = torch.unsqueeze(tensor_USC_train_features, 1)\n",
    "tensor_USC_test_features = torch.unsqueeze(tensor_USC_test_features, 1)\n",
    "# Create datset\n",
    "train_dataset_USC = TensorDataset(tensor_USC_train_features,tensor_USC_train_labels)\n",
    "test_dataset_USC = TensorDataset(tensor_USC_test_features,tensor_USC_test_labels)"
   ]
  },
  {
   "cell_type": "code",
   "execution_count": 6,
   "metadata": {
    "ExecuteTime": {
     "end_time": "2021-03-23T18:09:38.586379Z",
     "start_time": "2021-03-23T18:09:38.104668Z"
    }
   },
   "outputs": [],
   "source": [
    "def normalize(x, m, s): return (x-m)/s\n",
    "def normalize_to(train, test):\n",
    "    m,s = train.mean(),train.std()\n",
    "    return normalize(train, m, s), normalize(test, m, s)\n",
    "tensor_USC_train_features, tensor_USC_test_features = normalize_to(tensor_USC_train_features,tensor_USC_test_features)"
   ]
  },
  {
   "cell_type": "code",
   "execution_count": 7,
   "metadata": {
    "ExecuteTime": {
     "end_time": "2021-03-23T18:09:38.593362Z",
     "start_time": "2021-03-23T18:09:38.587376Z"
    }
   },
   "outputs": [],
   "source": [
    "train_loader = torch.utils.data.DataLoader(dataset=train_dataset_USC, batch_size=batch_size, shuffle=True)\n",
    "test_loader = torch.utils.data.DataLoader(dataset=test_dataset_USC, batch_size=batch_size, shuffle=False)"
   ]
  },
  {
   "cell_type": "code",
   "execution_count": 8,
   "metadata": {
    "ExecuteTime": {
     "end_time": "2021-03-23T18:09:39.214378Z",
     "start_time": "2021-03-23T18:09:39.210388Z"
    }
   },
   "outputs": [],
   "source": [
    "classes = ('Walking Forward', 'Walking Left', 'Walking Right', 'Walking Upstairs', 'Walking Downstairs', 'Running Forward', \n",
    "           'Jumping Up', 'Sitting', 'Standing', 'Sleeping', 'Elevator Up', 'Elevator Down')"
   ]
  },
  {
   "cell_type": "code",
   "execution_count": 9,
   "metadata": {
    "ExecuteTime": {
     "end_time": "2021-03-23T18:09:39.529172Z",
     "start_time": "2021-03-23T18:09:39.522226Z"
    }
   },
   "outputs": [
    {
     "name": "stdout",
     "output_type": "stream",
     "text": [
      "30725\n",
      "13169\n"
     ]
    }
   ],
   "source": [
    "print(len(train_loader.dataset))\n",
    "print(len(test_loader.dataset))"
   ]
  },
  {
   "cell_type": "code",
   "execution_count": 10,
   "metadata": {
    "ExecuteTime": {
     "end_time": "2021-03-23T18:09:40.078453Z",
     "start_time": "2021-03-23T18:09:40.066485Z"
    },
    "scrolled": false
   },
   "outputs": [
    {
     "name": "stdout",
     "output_type": "stream",
     "text": [
      "torch.Size([32, 1, 18, 128])\n",
      "tensor([ 0.,  2.,  2.,  0.,  5., 10.,  4.,  4.,  9.,  4.,  9.,  1.,  0.,  5.,\n",
      "        10.,  0.,  0.,  1., 11.,  8.,  6.,  0.,  1.,  7.,  6.,  7.,  4., 11.,\n",
      "         8., 11.,  0.,  9.])\n"
     ]
    }
   ],
   "source": [
    "for i, (images, labels) in enumerate(train_loader):\n",
    "    print(images.shape)\n",
    "    print(labels)\n",
    "    break"
   ]
  },
  {
   "cell_type": "markdown",
   "metadata": {},
   "source": [
    "The CNN architecture is: 16C5$\\times$5-S2$\\times$2-32C5$\\times$5"
   ]
  },
  {
   "cell_type": "code",
   "execution_count": 11,
   "metadata": {
    "ExecuteTime": {
     "end_time": "2021-03-23T18:09:41.138079Z",
     "start_time": "2021-03-23T18:09:41.129103Z"
    }
   },
   "outputs": [],
   "source": [
    "# Layers parameters:\n",
    "original_image_length = 18\n",
    "original_image_width = 128\n",
    "max_pool1_kernel_size = 2\n",
    "final_image_length = int(original_image_length / max_pool1_kernel_size)\n",
    "final_image_width = int(original_image_width / max_pool1_kernel_size)\n",
    "channels_L1 = 16\n",
    "channels_L2 = 32\n",
    "nodes_FC1 = 1000\n",
    "nodes_FC2 = 12 # The number should equal to the number of label types !!!\n",
    "\n",
    "class ConvNet(nn.Module):\n",
    "    def __init__(self):\n",
    "        super(ConvNet, self).__init__()\n",
    "        self.layer1 = nn.Sequential(\n",
    "            nn.Conv2d(1, channels_L1, kernel_size=5, stride=1, padding=2),\n",
    "            nn.ReLU(),\n",
    "            nn.MaxPool2d(kernel_size = max_pool1_kernel_size, stride = 2))\n",
    "        self.layer2 = nn.Sequential(\n",
    "            nn.Conv2d(channels_L1, channels_L2, kernel_size=5, stride=1, padding=2),\n",
    "            nn.ReLU())\n",
    "        self.drop_out = nn.Dropout()\n",
    "        self.fc1 = nn.Linear(final_image_length * final_image_width * channels_L2, nodes_FC1)\n",
    "        self.fc2 = nn.Linear(nodes_FC1, nodes_FC2)\n",
    "    \n",
    "    def forward(self, x):\n",
    "        out = self.layer1(x)\n",
    "        out = self.layer2(out)\n",
    "        out = out.reshape(out.size(0), -1)\n",
    "        out = self.drop_out(out)\n",
    "        out = self.fc1(out)\n",
    "        out = self.fc2(out)\n",
    "        return out"
   ]
  },
  {
   "cell_type": "code",
   "execution_count": 12,
   "metadata": {
    "ExecuteTime": {
     "end_time": "2021-03-23T18:09:44.038680Z",
     "start_time": "2021-03-23T18:09:41.825285Z"
    }
   },
   "outputs": [],
   "source": [
    "# Choose CPU or GPU\n",
    "# model = ConvNet() #CPU\n",
    "device = torch.device(\"cuda:0\" if torch.cuda.is_available() else \"cpu\")\n",
    "model = ConvNet().to(device) #GPU\n",
    "\n",
    "# Hyperparameter\n",
    "num_epochs = 12\n",
    "learning_rate = 0.00003\n",
    "weight_decay = 0.001\n",
    "# Loss and optimizer\n",
    "criterion = nn.CrossEntropyLoss()\n",
    "optimizer = optim.Adam(model.parameters(), lr=learning_rate, weight_decay=weight_decay) #Adding Weight Decay here is equivalent to adding L2 regularization"
   ]
  },
  {
   "cell_type": "code",
   "execution_count": 13,
   "metadata": {
    "ExecuteTime": {
     "end_time": "2021-03-23T18:13:39.154282Z",
     "start_time": "2021-03-23T18:09:45.298394Z"
    },
    "scrolled": true
   },
   "outputs": [
    {
     "name": "stdout",
     "output_type": "stream",
     "text": [
      "Epoch [1/12], Step [100/961], Loss: 1.9333, Accuracy: 21.88%\n",
      "Epoch [1/12], Step [200/961], Loss: 1.7224, Accuracy: 37.50%\n",
      "Epoch [1/12], Step [300/961], Loss: 1.4483, Accuracy: 43.75%\n",
      "Epoch [1/12], Step [400/961], Loss: 1.3038, Accuracy: 46.88%\n",
      "Epoch [1/12], Step [500/961], Loss: 1.5035, Accuracy: 40.62%\n",
      "Epoch [1/12], Step [600/961], Loss: 1.1749, Accuracy: 53.12%\n",
      "Epoch [1/12], Step [700/961], Loss: 1.2703, Accuracy: 59.38%\n",
      "Epoch [1/12], Step [800/961], Loss: 1.2089, Accuracy: 62.50%\n",
      "Epoch [1/12], Step [900/961], Loss: 1.5091, Accuracy: 46.88%\n",
      "Epoch [2/12], Step [100/961], Loss: 1.1112, Accuracy: 59.38%\n",
      "Epoch [2/12], Step [200/961], Loss: 1.1770, Accuracy: 59.38%\n",
      "Epoch [2/12], Step [300/961], Loss: 0.8060, Accuracy: 78.12%\n",
      "Epoch [2/12], Step [400/961], Loss: 1.1624, Accuracy: 56.25%\n",
      "Epoch [2/12], Step [500/961], Loss: 1.1797, Accuracy: 56.25%\n",
      "Epoch [2/12], Step [600/961], Loss: 1.4291, Accuracy: 43.75%\n",
      "Epoch [2/12], Step [700/961], Loss: 1.2461, Accuracy: 56.25%\n",
      "Epoch [2/12], Step [800/961], Loss: 1.0324, Accuracy: 78.12%\n",
      "Epoch [2/12], Step [900/961], Loss: 1.2643, Accuracy: 59.38%\n",
      "Epoch [3/12], Step [100/961], Loss: 0.9056, Accuracy: 56.25%\n",
      "Epoch [3/12], Step [200/961], Loss: 0.9961, Accuracy: 68.75%\n",
      "Epoch [3/12], Step [300/961], Loss: 0.9775, Accuracy: 75.00%\n",
      "Epoch [3/12], Step [400/961], Loss: 0.8997, Accuracy: 71.88%\n",
      "Epoch [3/12], Step [500/961], Loss: 1.2404, Accuracy: 50.00%\n",
      "Epoch [3/12], Step [600/961], Loss: 1.1507, Accuracy: 53.12%\n",
      "Epoch [3/12], Step [700/961], Loss: 0.8630, Accuracy: 71.88%\n",
      "Epoch [3/12], Step [800/961], Loss: 0.7089, Accuracy: 78.12%\n",
      "Epoch [3/12], Step [900/961], Loss: 1.0704, Accuracy: 59.38%\n",
      "Epoch [4/12], Step [100/961], Loss: 0.9857, Accuracy: 68.75%\n",
      "Epoch [4/12], Step [200/961], Loss: 0.7093, Accuracy: 65.62%\n",
      "Epoch [4/12], Step [300/961], Loss: 0.9095, Accuracy: 65.62%\n",
      "Epoch [4/12], Step [400/961], Loss: 0.7930, Accuracy: 75.00%\n",
      "Epoch [4/12], Step [500/961], Loss: 0.7498, Accuracy: 75.00%\n",
      "Epoch [4/12], Step [600/961], Loss: 0.7861, Accuracy: 75.00%\n",
      "Epoch [4/12], Step [700/961], Loss: 1.2518, Accuracy: 53.12%\n",
      "Epoch [4/12], Step [800/961], Loss: 0.9742, Accuracy: 62.50%\n",
      "Epoch [4/12], Step [900/961], Loss: 0.8023, Accuracy: 65.62%\n",
      "Epoch [5/12], Step [100/961], Loss: 1.1145, Accuracy: 56.25%\n",
      "Epoch [5/12], Step [200/961], Loss: 0.9617, Accuracy: 62.50%\n",
      "Epoch [5/12], Step [300/961], Loss: 0.7041, Accuracy: 75.00%\n",
      "Epoch [5/12], Step [400/961], Loss: 0.8854, Accuracy: 68.75%\n",
      "Epoch [5/12], Step [500/961], Loss: 0.8551, Accuracy: 71.88%\n",
      "Epoch [5/12], Step [600/961], Loss: 1.0902, Accuracy: 50.00%\n",
      "Epoch [5/12], Step [700/961], Loss: 0.8307, Accuracy: 78.12%\n",
      "Epoch [5/12], Step [800/961], Loss: 1.0415, Accuracy: 59.38%\n",
      "Epoch [5/12], Step [900/961], Loss: 0.7018, Accuracy: 78.12%\n",
      "Epoch [6/12], Step [100/961], Loss: 0.5305, Accuracy: 84.38%\n",
      "Epoch [6/12], Step [200/961], Loss: 0.9353, Accuracy: 62.50%\n",
      "Epoch [6/12], Step [300/961], Loss: 0.6061, Accuracy: 84.38%\n",
      "Epoch [6/12], Step [400/961], Loss: 0.6455, Accuracy: 75.00%\n",
      "Epoch [6/12], Step [500/961], Loss: 0.6860, Accuracy: 78.12%\n",
      "Epoch [6/12], Step [600/961], Loss: 1.0693, Accuracy: 59.38%\n",
      "Epoch [6/12], Step [700/961], Loss: 0.7273, Accuracy: 81.25%\n",
      "Epoch [6/12], Step [800/961], Loss: 0.5838, Accuracy: 87.50%\n",
      "Epoch [6/12], Step [900/961], Loss: 0.6381, Accuracy: 81.25%\n",
      "Epoch [7/12], Step [100/961], Loss: 0.7970, Accuracy: 68.75%\n",
      "Epoch [7/12], Step [200/961], Loss: 0.8777, Accuracy: 62.50%\n",
      "Epoch [7/12], Step [300/961], Loss: 0.5283, Accuracy: 81.25%\n",
      "Epoch [7/12], Step [400/961], Loss: 1.0024, Accuracy: 59.38%\n",
      "Epoch [7/12], Step [500/961], Loss: 0.8096, Accuracy: 65.62%\n",
      "Epoch [7/12], Step [600/961], Loss: 0.7743, Accuracy: 62.50%\n",
      "Epoch [7/12], Step [700/961], Loss: 0.6074, Accuracy: 90.62%\n",
      "Epoch [7/12], Step [800/961], Loss: 0.7552, Accuracy: 68.75%\n",
      "Epoch [7/12], Step [900/961], Loss: 0.8655, Accuracy: 71.88%\n",
      "Epoch [8/12], Step [100/961], Loss: 0.4997, Accuracy: 78.12%\n",
      "Epoch [8/12], Step [200/961], Loss: 0.7162, Accuracy: 78.12%\n",
      "Epoch [8/12], Step [300/961], Loss: 0.6980, Accuracy: 81.25%\n",
      "Epoch [8/12], Step [400/961], Loss: 0.9689, Accuracy: 62.50%\n",
      "Epoch [8/12], Step [500/961], Loss: 0.7833, Accuracy: 75.00%\n",
      "Epoch [8/12], Step [600/961], Loss: 0.5112, Accuracy: 75.00%\n",
      "Epoch [8/12], Step [700/961], Loss: 0.8745, Accuracy: 65.62%\n",
      "Epoch [8/12], Step [800/961], Loss: 0.8015, Accuracy: 75.00%\n",
      "Epoch [8/12], Step [900/961], Loss: 0.5414, Accuracy: 87.50%\n",
      "Epoch [9/12], Step [100/961], Loss: 0.7390, Accuracy: 78.12%\n",
      "Epoch [9/12], Step [200/961], Loss: 0.6971, Accuracy: 71.88%\n",
      "Epoch [9/12], Step [300/961], Loss: 0.7980, Accuracy: 84.38%\n",
      "Epoch [9/12], Step [400/961], Loss: 0.4113, Accuracy: 93.75%\n",
      "Epoch [9/12], Step [500/961], Loss: 0.9734, Accuracy: 65.62%\n",
      "Epoch [9/12], Step [600/961], Loss: 0.9690, Accuracy: 62.50%\n",
      "Epoch [9/12], Step [700/961], Loss: 0.8850, Accuracy: 71.88%\n",
      "Epoch [9/12], Step [800/961], Loss: 0.5549, Accuracy: 75.00%\n",
      "Epoch [9/12], Step [900/961], Loss: 0.5642, Accuracy: 78.12%\n",
      "Epoch [10/12], Step [100/961], Loss: 0.6159, Accuracy: 68.75%\n",
      "Epoch [10/12], Step [200/961], Loss: 0.7733, Accuracy: 75.00%\n",
      "Epoch [10/12], Step [300/961], Loss: 0.6414, Accuracy: 71.88%\n",
      "Epoch [10/12], Step [400/961], Loss: 0.7973, Accuracy: 71.88%\n",
      "Epoch [10/12], Step [500/961], Loss: 0.7009, Accuracy: 71.88%\n",
      "Epoch [10/12], Step [600/961], Loss: 0.7644, Accuracy: 71.88%\n",
      "Epoch [10/12], Step [700/961], Loss: 0.4978, Accuracy: 84.38%\n",
      "Epoch [10/12], Step [800/961], Loss: 0.8972, Accuracy: 62.50%\n",
      "Epoch [10/12], Step [900/961], Loss: 0.9477, Accuracy: 59.38%\n",
      "Epoch [11/12], Step [100/961], Loss: 0.9251, Accuracy: 62.50%\n",
      "Epoch [11/12], Step [200/961], Loss: 0.5781, Accuracy: 78.12%\n",
      "Epoch [11/12], Step [300/961], Loss: 0.4481, Accuracy: 87.50%\n",
      "Epoch [11/12], Step [400/961], Loss: 0.6392, Accuracy: 78.12%\n",
      "Epoch [11/12], Step [500/961], Loss: 0.5845, Accuracy: 71.88%\n",
      "Epoch [11/12], Step [600/961], Loss: 0.4587, Accuracy: 87.50%\n",
      "Epoch [11/12], Step [700/961], Loss: 0.6396, Accuracy: 75.00%\n",
      "Epoch [11/12], Step [800/961], Loss: 1.1282, Accuracy: 65.62%\n",
      "Epoch [11/12], Step [900/961], Loss: 0.4521, Accuracy: 78.12%\n",
      "Epoch [12/12], Step [100/961], Loss: 0.7933, Accuracy: 68.75%\n",
      "Epoch [12/12], Step [200/961], Loss: 0.8437, Accuracy: 65.62%\n",
      "Epoch [12/12], Step [300/961], Loss: 0.8134, Accuracy: 71.88%\n",
      "Epoch [12/12], Step [400/961], Loss: 0.7359, Accuracy: 68.75%\n",
      "Epoch [12/12], Step [500/961], Loss: 0.7521, Accuracy: 78.12%\n",
      "Epoch [12/12], Step [600/961], Loss: 1.0663, Accuracy: 59.38%\n",
      "Epoch [12/12], Step [700/961], Loss: 0.5108, Accuracy: 81.25%\n",
      "Epoch [12/12], Step [800/961], Loss: 0.6931, Accuracy: 78.12%\n",
      "Epoch [12/12], Step [900/961], Loss: 0.7247, Accuracy: 75.00%\n"
     ]
    }
   ],
   "source": [
    "# Train the model on GPU\n",
    "total_step = len(train_loader)\n",
    "loss_list = []\n",
    "acc_list = []\n",
    "model.train()\n",
    "for epoch in range(num_epochs):\n",
    "    for i, (images, labels) in enumerate(train_loader):\n",
    "        # Run the forward pass\n",
    "        outputs = model(images.to(device))\n",
    "        loss = criterion(outputs, labels.to(device).long())\n",
    "        loss_list.append(loss.item())\n",
    "\n",
    "        # Backprop and perform Adam optimisation\n",
    "        optimizer.zero_grad()\n",
    "        loss.backward()\n",
    "        optimizer.step()\n",
    "\n",
    "        # Track the accuracy\n",
    "        total = labels.size(0)\n",
    "        _, predicted = torch.max(outputs.data, 1)\n",
    "        correct = (predicted == labels.to(device).long()).sum().item()\n",
    "        acc_list.append(correct / total)\n",
    "\n",
    "        if (i + 1) % 100 == 0:\n",
    "            print('Epoch [{}/{}], Step [{}/{}], Loss: {:.4f}, Accuracy: {:.2f}%'\n",
    "                  .format(epoch + 1, num_epochs, i + 1, total_step, loss.item(),\n",
    "                          (correct / total) * 100))"
   ]
  },
  {
   "cell_type": "code",
   "execution_count": 14,
   "metadata": {
    "ExecuteTime": {
     "end_time": "2021-03-23T18:13:43.854167Z",
     "start_time": "2021-03-23T18:13:41.968513Z"
    }
   },
   "outputs": [
    {
     "name": "stdout",
     "output_type": "stream",
     "text": [
      "Test Accuracy of the model on the USCHAD test images: 75.0626471258258 %\n"
     ]
    },
    {
     "data": {
      "image/png": "[encoded data removed]",
      "text/plain": [
       "<Figure size 504x504 with 1 Axes>"
      ]
     },
     "metadata": {
      "needs_background": "light"
     },
     "output_type": "display_data"
    }
   ],
   "source": [
    "# Test the model on GPU\n",
    "model.eval()\n",
    "all_labels = []\n",
    "all_predictions = []\n",
    "with torch.no_grad():\n",
    "    correct = 0\n",
    "    total = 0\n",
    "    for images, labels in test_loader:\n",
    "        outputs = model(images.to(device))\n",
    "        _, predicted = torch.max(outputs.data, 1)\n",
    "        all_predictions.append(predicted)\n",
    "        all_labels.append(labels)\n",
    "        total += labels.size(0)\n",
    "        correct += (predicted == labels.to(device)).sum().item()\n",
    "\n",
    "    print('Test Accuracy of the model on the USCHAD test images: {} %'.format((correct / total) * 100))\n",
    "\n",
    "mat = metrics.confusion_matrix(torch.cat(all_predictions).cpu(), torch.cat(all_labels).cpu())\n",
    "plt.figure(figsize=(7,7))\n",
    "sns.heatmap(mat.T, square=True, annot=True, fmt='d', cbar=False,\n",
    "            xticklabels=classes, yticklabels=classes)\n",
    "plt.xlabel('true label')\n",
    "plt.ylabel('predicted label');"
   ]
  },
  {
   "cell_type": "code",
   "execution_count": null,
   "metadata": {},
   "outputs": [],
   "source": []
  },
  {
   "cell_type": "code",
   "execution_count": null,
   "metadata": {},
   "outputs": [],
   "source": []
  },
  {
   "cell_type": "code",
   "execution_count": null,
   "metadata": {},
   "outputs": [],
   "source": []
  },
  {
   "cell_type": "code",
   "execution_count": null,
   "metadata": {},
   "outputs": [],
   "source": []
  },
  {
   "cell_type": "code",
   "execution_count": null,
   "metadata": {},
   "outputs": [],
   "source": []
  }
 ],
 "metadata": {
  "kernelspec": {
   "display_name": "Python 3",
   "language": "python",
   "name": "python3"
  },
  "language_info": {
   "codemirror_mode": {
    "name": "ipython",
    "version": 3
   },
   "file_extension": ".py",
   "mimetype": "text/x-python",
   "name": "python",
   "nbconvert_exporter": "python",
   "pygments_lexer": "ipython3",
   "version": "3.8.3"
  }
 },
 "nbformat": 4,
 "nbformat_minor": 4
}
